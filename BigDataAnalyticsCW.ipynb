{
  "cells": [
    {
      "cell_type": "markdown",
      "metadata": {
        "id": "xTtnG7mGrynL"
      },
      "source": [
        "# **Big Data Analytics using IDS Dataset**"
      ]
    },
    {
      "cell_type": "markdown",
      "metadata": {
        "id": "FXggknz0rpK9"
      },
      "source": [
        "**Big Data Analytics Project with Pyspark:**\n",
        "\n",
        "**Hence we used to Create Spark SQL Queries and Pandas,Matplot Libraries for Visualization of Datas.We are used Pyspark for analyse and interpret data with Descriptive statistics,Correlation between the data,Hypothesis Testing the data,Covariance and Density estimation using Pyspark. Hence we Used Machine Learning Models for achievement.**"
      ]
    },
    {
      "cell_type": "markdown",
      "metadata": {
        "id": "GdMZR-9QTwG3"
      },
      "source": [
        "\n",
        "# **Initiate and Configure Spark**\n",
        "\n",
        "---\n"
      ]
    },
    {
      "cell_type": "code",
      "execution_count": 1,
      "metadata": {
        "colab": {
          "base_uri": "https://localhost:8080/"
        },
        "id": "2wbXV70D6xbl",
        "outputId": "fdc66bc2-c977-4ce7-aebd-9b74a6a04333"
      },
      "outputs": [
        {
          "output_type": "stream",
          "name": "stdout",
          "text": [
            "Looking in indexes: https://pypi.org/simple, https://us-python.pkg.dev/colab-wheels/public/simple/\n",
            "Requirement already satisfied: pyspark in /usr/local/lib/python3.8/dist-packages (3.3.1)\n",
            "Requirement already satisfied: py4j==0.10.9.5 in /usr/local/lib/python3.8/dist-packages (from pyspark) (0.10.9.5)\n"
          ]
        }
      ],
      "source": [
        "#Installing Pyspark\n",
        "!pip3 install pyspark"
      ]
    },
    {
      "cell_type": "code",
      "execution_count": 2,
      "metadata": {
        "id": "_z0p88Xtw_3-"
      },
      "outputs": [],
      "source": [
        "# linking with SparkSession\n",
        "from pyspark.sql import SparkSession\n",
        "spark = SparkSession.builder.master(\"local[*]\").appName('Big Data Analytics').getOrCreate()"
      ]
    },
    {
      "cell_type": "markdown",
      "metadata": {
        "id": "6P2CZVl6TOQX"
      },
      "source": [
        "\n",
        "# **Load Data**\n",
        "\n",
        "---\n"
      ]
    },
    {
      "cell_type": "code",
      "execution_count": 3,
      "metadata": {
        "colab": {
          "base_uri": "https://localhost:8080/"
        },
        "id": "U-zSlLkNtCCw",
        "outputId": "81b4e8fe-c2a6-457e-ebe2-b2fa91250209"
      },
      "outputs": [
        {
          "output_type": "stream",
          "name": "stdout",
          "text": [
            "Drive already mounted at /content/drive; to attempt to forcibly remount, call drive.mount(\"/content/drive\", force_remount=True).\n"
          ]
        }
      ],
      "source": [
        "# mount your Google Drive\n",
        "from google.colab import drive\n",
        "drive.mount('/content/drive')"
      ]
    },
    {
      "cell_type": "code",
      "execution_count": 4,
      "metadata": {
        "id": "2BbILXmUvaqg"
      },
      "outputs": [],
      "source": [
        "# Load Data\n",
        "IDS_df = spark.read.option(\"header\", \"true\").csv(\"/content/drive/MyDrive/IDS2018/*.csv\")"
      ]
    },
    {
      "cell_type": "code",
      "execution_count": 5,
      "metadata": {
        "colab": {
          "base_uri": "https://localhost:8080/"
        },
        "id": "ZGumwGzn9_7y",
        "outputId": "72ae5eda-e815-4458-9248-5f5c6e329aeb"
      },
      "outputs": [
        {
          "output_type": "stream",
          "name": "stdout",
          "text": [
            "+--------+--------+-------------------+-------------+------------+------------+---------------+---------------+---------------+---------------+----------------+---------------+---------------+---------------+----------------+---------------+---------------+-------------+----------------+----------------+------------+------------+-----------+----------------+----------------+-----------+-----------+-----------+----------------+----------------+-----------+-----------+-------------+-------------+-------------+-------------+--------------+--------------+-------------+------------+-----------+-----------+--------------+--------------+----------------+------------+------------+------------+------------+------------+------------+--------------+------------+-------------+--------------+----------------+----------------+--------------+--------------+----------------+--------------+--------------+----------------+----------------+----------------+----------------+----------------+-----------------+-----------------+-----------------+----------------+-----------+----------+----------+----------+----------+--------------+--------+--------+------+\n",
            "|Dst Port|Protocol|          Timestamp|Flow Duration|Tot Fwd Pkts|Tot Bwd Pkts|TotLen Fwd Pkts|TotLen Bwd Pkts|Fwd Pkt Len Max|Fwd Pkt Len Min|Fwd Pkt Len Mean|Fwd Pkt Len Std|Bwd Pkt Len Max|Bwd Pkt Len Min|Bwd Pkt Len Mean|Bwd Pkt Len Std|    Flow Byts/s|  Flow Pkts/s|   Flow IAT Mean|    Flow IAT Std|Flow IAT Max|Flow IAT Min|Fwd IAT Tot|    Fwd IAT Mean|     Fwd IAT Std|Fwd IAT Max|Fwd IAT Min|Bwd IAT Tot|    Bwd IAT Mean|     Bwd IAT Std|Bwd IAT Max|Bwd IAT Min|Fwd PSH Flags|Bwd PSH Flags|Fwd URG Flags|Bwd URG Flags|Fwd Header Len|Bwd Header Len|   Fwd Pkts/s|  Bwd Pkts/s|Pkt Len Min|Pkt Len Max|  Pkt Len Mean|   Pkt Len Std|     Pkt Len Var|FIN Flag Cnt|SYN Flag Cnt|RST Flag Cnt|PSH Flag Cnt|ACK Flag Cnt|URG Flag Cnt|CWE Flag Count|ECE Flag Cnt|Down/Up Ratio|  Pkt Size Avg|Fwd Seg Size Avg|Bwd Seg Size Avg|Fwd Byts/b Avg|Fwd Pkts/b Avg|Fwd Blk Rate Avg|Bwd Byts/b Avg|Bwd Pkts/b Avg|Bwd Blk Rate Avg|Subflow Fwd Pkts|Subflow Fwd Byts|Subflow Bwd Pkts|Subflow Bwd Byts|Init Fwd Win Byts|Init Bwd Win Byts|Fwd Act Data Pkts|Fwd Seg Size Min|Active Mean|Active Std|Active Max|Active Min| Idle Mean|      Idle Std|Idle Max|Idle Min| Label|\n",
            "+--------+--------+-------------------+-------------+------------+------------+---------------+---------------+---------------+---------------+----------------+---------------+---------------+---------------+----------------+---------------+---------------+-------------+----------------+----------------+------------+------------+-----------+----------------+----------------+-----------+-----------+-----------+----------------+----------------+-----------+-----------+-------------+-------------+-------------+-------------+--------------+--------------+-------------+------------+-----------+-----------+--------------+--------------+----------------+------------+------------+------------+------------+------------+------------+--------------+------------+-------------+--------------+----------------+----------------+--------------+--------------+----------------+--------------+--------------+----------------+----------------+----------------+----------------+----------------+-----------------+-----------------+-----------------+----------------+-----------+----------+----------+----------+----------+--------------+--------+--------+------+\n",
            "|       0|       0|14/02/2018 08:31:01|    112641719|           3|           0|              0|              0|              0|              0|               0|              0|              0|              0|               0|              0|              0| 0.0266331163|      56320859.5|  139.3000358938|    56320958|    56320761|  112641719|      56320859.5|  139.3000358938|   56320958|   56320761|          0|               0|               0|          0|          0|            0|            0|            0|            0|             0|             0| 0.0266331163|           0|          0|          0|             0|             0|               0|           0|           0|           0|           0|           0|           0|             0|           0|            0|             0|               0|               0|             0|             0|               0|             0|             0|               0|               3|               0|               0|               0|               -1|               -1|                0|               0|          0|         0|         0|         0|56320859.5|139.3000358938|56320958|56320761|Benign|\n",
            "|       0|       0|14/02/2018 08:33:50|    112641466|           3|           0|              0|              0|              0|              0|               0|              0|              0|              0|               0|              0|              0| 0.0266331761|        56320733|  114.5512985522|    56320814|    56320652|  112641466|        56320733|  114.5512985522|   56320814|   56320652|          0|               0|               0|          0|          0|            0|            0|            0|            0|             0|             0| 0.0266331761|           0|          0|          0|             0|             0|               0|           0|           0|           0|           0|           0|           0|             0|           0|            0|             0|               0|               0|             0|             0|               0|             0|             0|               0|               3|               0|               0|               0|               -1|               -1|                0|               0|          0|         0|         0|         0|  56320733|114.5512985522|56320814|56320652|Benign|\n",
            "|       0|       0|14/02/2018 08:36:39|    112638623|           3|           0|              0|              0|              0|              0|               0|              0|              0|              0|               0|              0|              0| 0.0266338483|      56319311.5|  301.9345955667|    56319525|    56319098|  112638623|      56319311.5|  301.9345955667|   56319525|   56319098|          0|               0|               0|          0|          0|            0|            0|            0|            0|             0|             0| 0.0266338483|           0|          0|          0|             0|             0|               0|           0|           0|           0|           0|           0|           0|             0|           0|            0|             0|               0|               0|             0|             0|               0|             0|             0|               0|               3|               0|               0|               0|               -1|               -1|                0|               0|          0|         0|         0|         0|56319311.5|301.9345955667|56319525|56319098|Benign|\n",
            "|      22|       6|14/02/2018 08:40:13|      6453966|          15|          10|           1239|           2273|            744|              0|            82.6| 196.7412368715|            976|              0|           227.3| 371.6778922072| 544.1615279659| 3.8735871865|       268915.25|247443.778966007|      673900|          22|    6453966|460997.571428571|123109.423587757|     673900|     229740|    5637902|626433.555555556| 455082.21422401|    1167293|        554|            0|            0|            0|            0|           488|           328| 2.3241523119|1.5494348746|          0|        976|135.0769230769|277.8347599674|77192.1538461539|           0|           0|           0|           1|           0|           0|             0|           0|            0|        140.48|            82.6|           227.3|             0|             0|               0|             0|             0|               0|              15|            1239|              10|            2273|            65535|              233|                6|              32|          0|         0|         0|         0|         0|             0|       0|       0|Benign|\n",
            "|      22|       6|14/02/2018 08:40:23|      8804066|          14|          11|           1143|           2209|            744|              0|   81.6428571429| 203.7455453568|            976|              0|  200.8181818182| 362.2498635422| 380.7331748762|  2.839597068|366836.083333333|511356.609732762|     1928102|          21|    8804066|677235.846153846|532416.970958985|    1928102|     246924|    7715481|        771548.1|755543.082716951|    2174893|         90|            0|            0|            0|            0|           456|           360| 1.5901743581|1.2494227099|          0|        976|128.9230769231|279.7630315931|78267.3538461539|           0|           0|           0|           1|           0|           0|             0|           0|            0|        134.08|   81.6428571429|  200.8181818182|             0|             0|               0|             0|             0|               0|              14|            1143|              11|            2209|             5808|              233|                6|              32|          0|         0|         0|         0|         0|             0|       0|       0|Benign|\n",
            "|      22|       6|14/02/2018 08:40:31|      6989341|          16|          12|           1239|           2273|            744|              0|         77.4375| 190.8311535538|            976|              0|  189.4166666667| 347.6425694023| 502.4794183028| 4.0061001459|258864.481481481| 291724.14791076|      951098|          20|    6989341|465956.066666667|244363.896416351|     951098|     265831|    5980598|543690.727272727|460713.519752371|    1254338|         78|            0|            0|            0|            0|           332|           252| 2.2892000834|1.7169000625|          0|        976|121.1034482759|265.7086676402|70601.0960591133|           0|           0|           0|           1|           0|           0|             0|           0|            0|125.4285714286|         77.4375|  189.4166666667|             0|             0|               0|             0|             0|               0|              16|            1239|              12|            2273|             5808|              234|                7|              20|          0|         0|         0|         0|         0|             0|       0|       0|Benign|\n",
            "|       0|       0|14/02/2018 08:39:28|    112640480|           3|           0|              0|              0|              0|              0|               0|              0|              0|              0|               0|              0|              0| 0.0266334092|        56320240|  203.6467529817|    56320384|    56320096|  112640480|        56320240|  203.6467529817|   56320384|   56320096|          0|               0|               0|          0|          0|            0|            0|            0|            0|             0|             0| 0.0266334092|           0|          0|          0|             0|             0|               0|           0|           0|           0|           0|           0|           0|             0|           0|            0|             0|               0|               0|             0|             0|               0|             0|             0|               0|               3|               0|               0|               0|               -1|               -1|                0|               0|          0|         0|         0|         0|  56320240|203.6467529817|56320384|56320096|Benign|\n",
            "|       0|       0|14/02/2018 08:42:17|    112641244|           3|           0|              0|              0|              0|              0|               0|              0|              0|              0|               0|              0|              0| 0.0266332286|        56320622|   62.2253967444|    56320666|    56320578|  112641244|        56320622|   62.2253967444|   56320666|   56320578|          0|               0|               0|          0|          0|            0|            0|            0|            0|             0|             0| 0.0266332286|           0|          0|          0|             0|             0|               0|           0|           0|           0|           0|           0|           0|             0|           0|            0|             0|               0|               0|             0|             0|               0|             0|             0|               0|               3|               0|               0|               0|               -1|               -1|                0|               0|          0|         0|         0|         0|  56320622| 62.2253967444|56320666|56320578|Benign|\n",
            "|      80|       6|14/02/2018 08:47:14|       476513|           5|           3|            211|            463|            211|              0|            42.2|  94.3620686505|            463|              0|  154.3333333333| 267.3131746348|1414.4419984345|16.7886290615|68073.2857142857|115865.792656438|      237711|          24|     476513|       119128.25|137379.963358017|     238470|        108|     238634|          119317|167621.076693833|     237843|        791|            0|            0|            0|            0|           168|           104|10.4928931635|6.2957358981|          0|        463| 74.8888888889|161.4058893322|26051.8611111111|           0|           0|           0|           1|           0|           0|             0|           0|            0|         84.25|            42.2|  154.3333333333|             0|             0|               0|             0|             0|               0|               5|             211|               3|             463|            14600|              219|                1|              32|          0|         0|         0|         0|         0|             0|       0|       0|Benign|\n",
            "|      80|       6|14/02/2018 08:47:15|       475048|           5|           3|            220|            472|            220|              0|              44|    98.38699101|            472|              0|  157.3333333333| 272.5093270575|1456.6949024099|16.8404034961|           67864|115746.933154476|      237494|          15|     475048|          118762|137096.759626185|     237853|         15|     237516|          118758|167472.584269784|     237179|        337|            0|            0|            0|            0|           168|           104| 10.525252185| 6.315151311|          0|        472| 76.8888888889|165.0669897681|27247.1111111111|           0|           0|           0|           1|           0|           0|             0|           0|            0|          86.5|              44|  157.3333333333|             0|             0|               0|             0|             0|               0|               5|             220|               3|             472|            14600|              219|                1|              32|          0|         0|         0|         0|         0|             0|       0|       0|Benign|\n",
            "|      80|       6|14/02/2018 08:47:15|       474926|           5|           3|            220|            472|            220|              0|              44|    98.38699101|            472|              0|  157.3333333333| 272.5093270575|1457.0691012916|16.8447294947|67846.5714285714|115645.740842248|      237162|          15|     474926|        118731.5|136923.365842601|     237497|         15|     237732|          118866|167663.503100705|     237422|        310|            0|            0|            0|            0|           168|           104|10.5279559342|6.3167735605|          0|        472| 76.8888888889|165.0669897681|27247.1111111111|           0|           0|           0|           1|           0|           0|             0|           0|            0|          86.5|              44|  157.3333333333|             0|             0|               0|             0|             0|               0|               5|             220|               3|             472|            14480|              219|                1|              32|          0|         0|         0|         0|         0|             0|       0|       0|Benign|\n",
            "|      80|       6|14/02/2018 08:47:16|       477471|           5|           3|            209|            461|            209|              0|            41.8|  93.4676414595|            461|              0|  153.6666666667| 266.1584740964|1403.2265833946|16.7549442793|68210.1428571429|116178.228792989|      238389|          17|     477471|       119367.75|137516.508224467|     238515|        149|     238887|        119443.5|168454.755588852|     238559|        328|            0|            0|            0|            0|           168|           104|10.4718401746|6.2831041048|          0|        461| 74.4444444444|160.5942955954|25790.5277777778|           0|           0|           0|           1|           0|           0|             0|           0|            0|         83.75|            41.8|  153.6666666667|             0|             0|               0|             0|             0|               0|               5|             209|               3|             461|            14480|              219|                1|              32|          0|         0|         0|         0|         0|             0|       0|       0|Benign|\n",
            "|      80|       6|14/02/2018 08:47:16|       512758|           5|           3|            211|            463|            211|              0|            42.2|  94.3620686505|            463|              0|  154.3333333333| 267.3131746348|1314.4602327024|15.6019018718|73251.1428571429|124959.473740394|      256188|          10|     512758|        128189.5|148006.106082373|     256523|         10|     256563|        128281.5|180935.190276795|     256222|        341|            0|            0|            0|            0|           168|           104| 9.7511886699|5.8507132019|          0|        463| 74.8888888889|161.4058893322|26051.8611111111|           0|           0|           0|           1|           0|           0|             0|           0|            0|         84.25|            42.2|  154.3333333333|             0|             0|               0|             0|             0|               0|               5|             211|               3|             463|            14480|              219|                1|              32|          0|         0|         0|         0|         0|             0|       0|       0|Benign|\n",
            "|      80|       6|14/02/2018 08:47:17|       476711|           5|           3|            206|            458|            206|              0|            41.2|   92.126000673|            458|              0|  152.6666666667| 264.4264232888|1392.8774456641|16.7816559719|68101.5714285714|115977.215079597|      238034|          16|     476711|       119177.75| 137207.36560009|     238274|         78|     238033|        119016.5|168007.864103143|     237816|        217|            0|            0|            0|            0|           168|           104|10.4885349824|6.2931209894|          0|        458| 73.7777777778|159.3783060659|25401.4444444444|           0|           0|           0|           1|           0|           0|             0|           0|            0|            83|            41.2|  152.6666666667|             0|             0|               0|             0|             0|               0|               5|             206|               3|             458|            14480|              219|                1|              32|          0|         0|         0|         0|         0|             0|       0|       0|Benign|\n",
            "|      80|       6|14/02/2018 08:47:17|       476616|           5|           3|            211|            463|            211|              0|            42.2|  94.3620686505|            463|              0|  154.3333333333| 267.3131746348|1414.1363277775|16.7850009232|           68088|115553.073301117|      237285|           8|     476616|          119154|136576.972942001|     237558|          8|     237660|          118830|167563.093937776|     237315|        345|            0|            0|            0|            0|           168|           104| 10.490625577|6.2943753462|          0|        463| 74.8888888889|161.4058893322|26051.8611111111|           0|           0|           0|           1|           0|           0|             0|           0|            0|         84.25|            42.2|  154.3333333333|             0|             0|               0|             0|             0|               0|               5|             211|               3|             463|            14480|              219|                1|              32|          0|         0|         0|         0|         0|             0|       0|       0|Benign|\n",
            "|      80|       6|14/02/2018 08:47:18|       477161|           5|           3|            211|            463|            211|              0|            42.2|  94.3620686505|            463|              0|  154.3333333333| 267.3131746348|1412.5211406632|16.7658295628|68165.8571428572|116324.530541969|      238504|          12|     477161|       119290.25|137729.560342905|     238719|         12|     238618|          119309|168449.805841384|     238421|        197|            0|            0|            0|            0|           168|           104|10.4786434767| 6.287186086|          0|        463| 74.8888888889|161.4058893322|26051.8611111111|           0|           0|           0|           1|           0|           0|             0|           0|            0|         84.25|            42.2|  154.3333333333|             0|             0|               0|             0|             0|               0|               5|             211|               3|             463|            14480|              219|                1|              32|          0|         0|         0|         0|         0|             0|       0|       0|Benign|\n",
            "|      80|       6|14/02/2018 08:47:18|       474670|           5|           3|            214|            466|            214|              0|            42.8|   95.703709437|            466|              0|  155.3333333333| 269.0452254424|1432.5742094508|16.8538142288|           67810|115371.262364883|      236717|          15|     474670|        118667.5|136423.221362787|     236894|         55|     236992|          118496| 167297.22178805|     236793|        199|            0|            0|            0|            0|           168|           104| 10.533633893|6.3201803358|          0|        466| 75.5555555556|162.6246530443|26446.7777777778|           0|           0|           0|           1|           0|           0|             0|           0|            0|            85|            42.8|  155.3333333333|             0|             0|               0|             0|             0|               0|               5|             214|               3|             466|            14480|              219|                1|              32|          0|         0|         0|         0|         0|             0|       0|       0|Benign|\n",
            "|      80|       6|14/02/2018 08:47:19|       476608|           5|           3|            209|            461|            209|              0|            41.8|  93.4676414595|            461|              0|  153.6666666667| 266.1584740964|1405.7674231234|16.7852826642|68086.8571428572|116165.357657993|      238154|          21|     476608|          119152|137536.399945614|     238349|         28|     238442|          119221|168305.556058022|     238231|        211|            0|            0|            0|            0|           168|           104|10.4908016651|6.2944809991|          0|        461| 74.4444444444|160.5942955954|25790.5277777778|           0|           0|           0|           1|           0|           0|             0|           0|            0|         83.75|            41.8|  153.6666666667|             0|             0|               0|             0|             0|               0|               5|             209|               3|             461|            14480|              219|                1|              32|          0|         0|         0|         0|         0|             0|       0|       0|Benign|\n",
            "|      80|       6|14/02/2018 08:47:19|       479249|           5|           3|            215|            467|            215|              0|              43|  96.1509230325|            467|              0|  155.6666666667| 269.6225757116|1423.0598290242|16.6927839182|68464.1428571429|116522.185511928|      239061|          18|     479249|       119812.25|137797.592674606|     239270|         21|     239238|          119619|168903.768394906|     239052|        186|            0|            0|            0|            0|           168|           104|10.4329899489|6.2597939693|          0|        467| 75.7777777778|163.0312683029|26579.1944444444|           0|           0|           0|           1|           0|           0|             0|           0|            0|         85.25|              43|  155.6666666667|             0|             0|               0|             0|             0|               0|               5|             215|               3|             467|            14480|              219|                1|              32|          0|         0|         0|         0|         0|             0|       0|       0|Benign|\n",
            "|      80|       6|14/02/2018 08:47:20|       475967|           5|           3|            215|            467|            215|              0|              43|  96.1509230325|            467|              0|  155.6666666667| 269.6225757116|1432.8724470394|16.8078879418|67995.2857142857|115929.081086548|      237703|          16|     475967|       118991.75|137195.538016305|     237904|         21|     237915|        118957.5|167975.337191208|     237734|        181|            0|            0|            0|            0|           168|           104|10.5049299636|6.3029579782|          0|        467| 75.7777777778|163.0312683029|26579.1944444444|           0|           0|           0|           1|           0|           0|             0|           0|            0|         85.25|              43|  155.6666666667|             0|             0|               0|             0|             0|               0|               5|             215|               3|             467|            14480|              219|                1|              32|          0|         0|         0|         0|         0|             0|       0|       0|Benign|\n",
            "+--------+--------+-------------------+-------------+------------+------------+---------------+---------------+---------------+---------------+----------------+---------------+---------------+---------------+----------------+---------------+---------------+-------------+----------------+----------------+------------+------------+-----------+----------------+----------------+-----------+-----------+-----------+----------------+----------------+-----------+-----------+-------------+-------------+-------------+-------------+--------------+--------------+-------------+------------+-----------+-----------+--------------+--------------+----------------+------------+------------+------------+------------+------------+------------+--------------+------------+-------------+--------------+----------------+----------------+--------------+--------------+----------------+--------------+--------------+----------------+----------------+----------------+----------------+----------------+-----------------+-----------------+-----------------+----------------+-----------+----------+----------+----------+----------+--------------+--------+--------+------+\n",
            "only showing top 20 rows\n",
            "\n"
          ]
        }
      ],
      "source": [
        "# Print Dataframe\n",
        "IDS_df.show()"
      ]
    },
    {
      "cell_type": "code",
      "execution_count": 6,
      "metadata": {
        "colab": {
          "base_uri": "https://localhost:8080/"
        },
        "id": "hc5GMMvdh5jD",
        "outputId": "a49feeed-0dd7-49cd-ee23-c61bc38401a3"
      },
      "outputs": [
        {
          "output_type": "stream",
          "name": "stdout",
          "text": [
            "+--------------------+-------+\n",
            "|               Label|  count|\n",
            "+--------------------+-------+\n",
            "|              Benign|5329908|\n",
            "|    DDOS attack-HOIC| 686012|\n",
            "|    DoS attacks-Hulk| 461912|\n",
            "|                 Bot| 286191|\n",
            "|      FTP-BruteForce| 193360|\n",
            "|      SSH-Bruteforce| 187589|\n",
            "|DoS attacks-SlowH...| 139890|\n",
            "|DoS attacks-Golde...|  41508|\n",
            "|DoS attacks-Slowl...|  10990|\n",
            "|DDOS attack-LOIC-UDP|   1730|\n",
            "|    Brute Force -Web|    611|\n",
            "|    Brute Force -XSS|    230|\n",
            "|       SQL Injection|     87|\n",
            "+--------------------+-------+\n",
            "\n"
          ]
        }
      ],
      "source": [
        "# The total number of attacks per label\n",
        "IDS_df.select('Label').groupBy('Label').count().orderBy('count', ascending=False).show()"
      ]
    },
    {
      "cell_type": "code",
      "execution_count": 7,
      "metadata": {
        "id": "WPGnmF9Fq4eg"
      },
      "outputs": [],
      "source": [
        "#Create dataframe as a SQL Temporary view to create Spark SQL Queries\n",
        "IDS_df.createOrReplaceTempView(\"IDS2018\")"
      ]
    },
    {
      "cell_type": "markdown",
      "metadata": {
        "id": "-RjT7_UHAqic"
      },
      "source": [
        "\n",
        "# **Analyzing using Spark SQL**\n",
        "\n",
        "---\n",
        "\n"
      ]
    },
    {
      "cell_type": "code",
      "execution_count": 8,
      "metadata": {
        "colab": {
          "base_uri": "https://localhost:8080/"
        },
        "id": "7fCFTcOQBLD2",
        "outputId": "f5f2cb01-cc09-42e2-bd3b-966ec75bd7ad"
      },
      "outputs": [
        {
          "output_type": "stream",
          "name": "stdout",
          "text": [
            "+--------------------+-----------------+\n",
            "|     CyberAttackName|CyberAttacksCount|\n",
            "+--------------------+-----------------+\n",
            "|      SSH-Bruteforce|           187589|\n",
            "|              Benign|          5329908|\n",
            "|      FTP-BruteForce|           193360|\n",
            "|DoS attacks-Slowl...|            10990|\n",
            "|DoS attacks-Golde...|            41508|\n",
            "|DoS attacks-SlowH...|           139890|\n",
            "|    DoS attacks-Hulk|           461912|\n",
            "|DDOS attack-LOIC-UDP|             1730|\n",
            "|    DDOS attack-HOIC|           686012|\n",
            "|       SQL Injection|               87|\n",
            "|    Brute Force -XSS|              230|\n",
            "|    Brute Force -Web|              611|\n",
            "|                 Bot|           286191|\n",
            "+--------------------+-----------------+\n",
            "\n"
          ]
        }
      ],
      "source": [
        "# Query 1: We are listing the different types of benign attacks (using <> 'Benign') .\n",
        "\n",
        "sqlDF = spark.sql(\"SELECT Label AS CyberAttackName, count(*) AS CyberAttacksCount FROM IDS2018 GROUP BY Label\")\n",
        "sqlDF.show()"
      ]
    },
    {
      "cell_type": "code",
      "execution_count": 9,
      "metadata": {
        "id": "GxXOReFI-nmv"
      },
      "outputs": [],
      "source": [
        "#Convert Sql dataframe to pandas dataframe\n",
        "pandas_df = sqlDF.toPandas()"
      ]
    },
    {
      "cell_type": "code",
      "execution_count": 10,
      "metadata": {
        "colab": {
          "base_uri": "https://localhost:8080/",
          "height": 419
        },
        "id": "Cipx4FTS-3gs",
        "outputId": "29e9add9-57ad-43d6-9092-b3c3be703d3d"
      },
      "outputs": [
        {
          "output_type": "execute_result",
          "data": {
            "text/plain": [
              "<matplotlib.axes._subplots.AxesSubplot at 0x7fd59f091670>"
            ]
          },
          "metadata": {},
          "execution_count": 10
        },
        {
          "output_type": "display_data",
          "data": {
            "text/plain": [
              "<Figure size 432x288 with 1 Axes>"
            ],
            "image/png": "[encoded data removed]"
          },
          "metadata": {
            "needs_background": "light"
          }
        }
      ],
      "source": [
        "#Bar chart Visualization\n",
        "pandas_df.sort_values(by='CyberAttacksCount',ascending=False).plot(x ='CyberAttackName',y='CyberAttacksCount',kind = 'bar',logy=True)"
      ]
    },
    {
      "cell_type": "code",
      "execution_count": 11,
      "metadata": {
        "colab": {
          "base_uri": "https://localhost:8080/"
        },
        "id": "px6ndUu-SaO1",
        "outputId": "582e9c48-5a66-4a75-e400-f4d626a9b8a9"
      },
      "outputs": [
        {
          "output_type": "stream",
          "name": "stdout",
          "text": [
            "+----+----------------+--------------------+\n",
            "|Port|   PortAfectedBy|NumberOfTimeAffected|\n",
            "+----+----------------+--------------------+\n",
            "|  53|          Benign|             1294710|\n",
            "|  80|          Benign|              790199|\n",
            "|  80|DDOS attack-HOIC|              686012|\n",
            "|3389|          Benign|              655555|\n",
            "| 443|          Benign|              609185|\n",
            "+----+----------------+--------------------+\n",
            "only showing top 5 rows\n",
            "\n"
          ]
        }
      ],
      "source": [
        "# Query 2: Finding the computer port effected by all the cyber-attack happened (in last 7 Months - Top 10) \n",
        "sqlDF= spark.sql(\"SELECT `Dst Port` AS Port, Label AS PortAfectedBy, count(*) AS NumberOfTimeAffected FROM IDS2018 GROUP BY port, PortAfectedBy order by NumberOfTimeAffected desc;\")\n",
        "sqlDF.show(5)\n"
      ]
    },
    {
      "cell_type": "code",
      "execution_count": 12,
      "metadata": {
        "id": "XJav__whV5x6"
      },
      "outputs": [],
      "source": [
        "pandas_df = sqlDF.toPandas()"
      ]
    },
    {
      "cell_type": "code",
      "execution_count": 13,
      "metadata": {
        "id": "drfFgBRgRm2J"
      },
      "outputs": [],
      "source": [
        "import seaborn as sns"
      ]
    },
    {
      "cell_type": "code",
      "execution_count": 14,
      "metadata": {
        "colab": {
          "base_uri": "https://localhost:8080/",
          "height": 297
        },
        "id": "OD682RTVRqr4",
        "outputId": "ecb17dee-e2c4-4149-8836-36649327bc4e"
      },
      "outputs": [
        {
          "output_type": "execute_result",
          "data": {
            "text/plain": [
              "<matplotlib.axes._subplots.AxesSubplot at 0x7fd5968d6af0>"
            ]
          },
          "metadata": {},
          "execution_count": 14
        },
        {
          "output_type": "display_data",
          "data": {
            "text/plain": [
              "<Figure size 432x288 with 1 Axes>"
            ],
            "image/png": "[encoded data removed]"
          },
          "metadata": {
            "needs_background": "light"
          }
        }
      ],
      "source": [
        "sns.barplot(x='PortAfectedBy',y='NumberOfTimeAffected',data=pandas_df)"
      ]
    },
    {
      "cell_type": "code",
      "execution_count": 15,
      "metadata": {
        "colab": {
          "base_uri": "https://localhost:8080/"
        },
        "id": "G4OQ9MvKBAUQ",
        "outputId": "01defc43-7877-4f99-9e40-a920409cd51c"
      },
      "outputs": [
        {
          "output_type": "stream",
          "name": "stdout",
          "text": [
            "+--------+--------------------+--------------------+\n",
            "|    Port|       PortAfectedBy|NumberOfTimeAffected|\n",
            "+--------+--------------------+--------------------+\n",
            "|Dst Port|              Benign|             5329908|\n",
            "|Dst Port|    DDOS attack-HOIC|              686012|\n",
            "|Dst Port|    DoS attacks-Hulk|              461912|\n",
            "|Dst Port|                 Bot|              286191|\n",
            "|Dst Port|      FTP-BruteForce|              193360|\n",
            "|Dst Port|      SSH-Bruteforce|              187589|\n",
            "|Dst Port|DoS attacks-SlowH...|              139890|\n",
            "|Dst Port|DoS attacks-Golde...|               41508|\n",
            "|Dst Port|DoS attacks-Slowl...|               10990|\n",
            "|Dst Port|DDOS attack-LOIC-UDP|                1730|\n",
            "|Dst Port|    Brute Force -Web|                 611|\n",
            "|Dst Port|    Brute Force -XSS|                 230|\n",
            "|Dst Port|       SQL Injection|                  87|\n",
            "+--------+--------------------+--------------------+\n",
            "\n"
          ]
        }
      ],
      "source": [
        "# Query 3: Finding the computer port effected by all the cyber-attack happened (in last 6 Months) - Top 5\n",
        "sqlDF= spark.sql(\"SELECT 'Dst Port' AS Port, Label AS PortAfectedBy, count(*) AS NumberOfTimeAffected FROM IDS2018 GROUP BY port, PortAfectedBy order BY NumberOfTimeAffected desc;\")\n",
        "sqlDF.show()\n"
      ]
    },
    {
      "cell_type": "code",
      "execution_count": 16,
      "metadata": {
        "id": "_74F9hojVBEv"
      },
      "outputs": [],
      "source": [
        "#Convert SQL dataframe into pandas\n",
        "pandas_df = sqlDF.toPandas()"
      ]
    },
    {
      "cell_type": "code",
      "execution_count": 17,
      "metadata": {
        "colab": {
          "base_uri": "https://localhost:8080/",
          "height": 266
        },
        "id": "_YHzd7U3WI4N",
        "outputId": "0e28b84f-c128-45d9-bd64-f034e6da339c"
      },
      "outputs": [
        {
          "output_type": "execute_result",
          "data": {
            "text/plain": [
              "<matplotlib.axes._subplots.AxesSubplot at 0x7fd596860250>"
            ]
          },
          "metadata": {},
          "execution_count": 17
        },
        {
          "output_type": "display_data",
          "data": {
            "text/plain": [
              "<Figure size 432x288 with 1 Axes>"
            ],
            "image/png": "[encoded data removed]"
          },
          "metadata": {}
        }
      ],
      "source": [
        "#Matplotlibrary for plotting\n",
        "pandas_df.plot(x ='PortAfectedBy', y='NumberOfTimeAffected', kind = 'pie')"
      ]
    },
    {
      "cell_type": "code",
      "execution_count": 18,
      "metadata": {
        "colab": {
          "base_uri": "https://localhost:8080/"
        },
        "id": "c7bOzYDvSfMo",
        "outputId": "40b3f288-ae17-49ca-c206-657d76e02326"
      },
      "outputs": [
        {
          "output_type": "stream",
          "name": "stdout",
          "text": [
            "+--------------------+------------------+\n",
            "|        Cyber-Attack|    Total_Duration|\n",
            "+--------------------+------------------+\n",
            "|              Benign|7.0213497175711E13|\n",
            "|DoS attacks-Slowl...|  7.91063895605E11|\n",
            "|DoS attacks-Golde...|  4.66277648662E11|\n",
            "|DDOS attack-LOIC-UDP|  2.00711432887E11|\n",
            "|    DoS attacks-Hulk|  1.39384537921E11|\n",
            "|      SSH-Bruteforce|   3.4394383592E10|\n",
            "|    Brute Force -Web|    2.165463703E10|\n",
            "|                 Bot|   2.1549869953E10|\n",
            "|    DDOS attack-HOIC|     6.668259505E9|\n",
            "|    Brute Force -XSS|       6.5924205E9|\n",
            "|       SQL Injection|      2.88468243E8|\n",
            "|      FTP-BruteForce|          735386.0|\n",
            "|DoS attacks-SlowH...|          685445.0|\n",
            "+--------------------+------------------+\n",
            "\n"
          ]
        }
      ],
      "source": [
        "# Query 4: Finding the total duration of each cyber-attack and Sum of Total_Duration of attacks  (in last 6 Months)\n",
        "sqlDF= spark.sql(\"SELECT first(Label) AS `Cyber-Attack`, sum(`Flow Duration`)  AS Total_Duration FROM IDS2018 GROUP BY `Label` order by Total_Duration desc;\")\n",
        "sqlDF.show()\n"
      ]
    },
    {
      "cell_type": "code",
      "execution_count": 19,
      "metadata": {
        "id": "ZqPvLxvwTxeD"
      },
      "outputs": [],
      "source": [
        "pandas_df = sqlDF.toPandas()"
      ]
    },
    {
      "cell_type": "code",
      "execution_count": 20,
      "metadata": {
        "colab": {
          "base_uri": "https://localhost:8080/",
          "height": 419
        },
        "id": "XRBdhgzWUlc3",
        "outputId": "a32446e4-cbab-404d-c21a-00de1393b509"
      },
      "outputs": [
        {
          "output_type": "execute_result",
          "data": {
            "text/plain": [
              "<matplotlib.axes._subplots.AxesSubplot at 0x7fd59d63aa30>"
            ]
          },
          "metadata": {},
          "execution_count": 20
        },
        {
          "output_type": "display_data",
          "data": {
            "text/plain": [
              "<Figure size 432x288 with 1 Axes>"
            ],
            "image/png": "[encoded data removed]"
          },
          "metadata": {
            "needs_background": "light"
          }
        }
      ],
      "source": [
        "pandas_df.sort_values(by='Total_Duration',ascending=False).plot(x ='Cyber-Attack', y='Total_Duration', kind = 'bar',logy=True)"
      ]
    },
    {
      "cell_type": "code",
      "execution_count": 21,
      "metadata": {
        "colab": {
          "base_uri": "https://localhost:8080/"
        },
        "id": "Vkh4cLhuBEly",
        "outputId": "fc7e4693-e8b9-4eb7-bbb6-7f5173980d2d"
      },
      "outputs": [
        {
          "output_type": "stream",
          "name": "stdout",
          "text": [
            "+----+-------------+--------------------+\n",
            "|Port|PortAfectedBy|NumberOfTimeAffected|\n",
            "+----+-------------+--------------------+\n",
            "|  53|       Benign|             1294710|\n",
            "|  80|       Benign|              790199|\n",
            "+----+-------------+--------------------+\n",
            "\n"
          ]
        }
      ],
      "source": [
        "# Query 5: Finding the most used computer port used by all the cyber-attack happened (in last 6 Months)\n",
        "sqlDF = spark.sql(\"SELECT `Dst Port` AS Port, Label as PortAfectedBy, count(`Dst Port`) AS NumberOfTimeAffected FROM IDS2018 GROUP BY port, PortAfectedBy order by NumberOfTimeAffected desc limit 2;\")\n",
        "sqlDF.show()\n"
      ]
    },
    {
      "cell_type": "code",
      "execution_count": 22,
      "metadata": {
        "id": "e8K4uIbwTTOd"
      },
      "outputs": [],
      "source": [
        "#Transform SQL dataframe to pandas\n",
        "pandas_df = sqlDF.toPandas()"
      ]
    },
    {
      "cell_type": "code",
      "execution_count": 23,
      "metadata": {
        "colab": {
          "base_uri": "https://localhost:8080/",
          "height": 266
        },
        "id": "NkcXHGY2YBpF",
        "outputId": "3bd86985-913c-4ee8-edaa-35287409edc7"
      },
      "outputs": [
        {
          "output_type": "execute_result",
          "data": {
            "text/plain": [
              "<matplotlib.axes._subplots.AxesSubplot at 0x7fd59d7590a0>"
            ]
          },
          "metadata": {},
          "execution_count": 23
        },
        {
          "output_type": "display_data",
          "data": {
            "text/plain": [
              "<Figure size 432x288 with 1 Axes>"
            ],
            "image/png": "[encoded data removed]"
          },
          "metadata": {}
        }
      ],
      "source": [
        "#Plot using matplotlibrary\n",
        "pandas_df.plot(x ='PortAfectedBy', y='NumberOfTimeAffected', kind = 'pie')"
      ]
    },
    {
      "cell_type": "code",
      "execution_count": 24,
      "metadata": {
        "colab": {
          "base_uri": "https://localhost:8080/"
        },
        "id": "WQM_0VVmSjzK",
        "outputId": "b71bde74-e35f-4656-a597-1e5ea7cae03b"
      },
      "outputs": [
        {
          "output_type": "stream",
          "name": "stdout",
          "text": [
            "+------------+--------------+\n",
            "|Cyber-Attack|Total_Duration|\n",
            "+------------+--------------+\n",
            "|         Bot|        286191|\n",
            "+------------+--------------+\n",
            "\n"
          ]
        }
      ],
      "source": [
        "# Query 6:Finding the cyber-attack with the help of the bots happened (in last 6 Months)\n",
        "sqlDF = spark.sql(\"SELECT first(Label) AS `Cyber-Attack`,Count(Label) AS Total_Duration FROM IDS2018 GROUP BY `Label` having Label =='Bot';\")\n",
        "sqlDF.show()\n"
      ]
    },
    {
      "cell_type": "code",
      "execution_count": 25,
      "metadata": {
        "id": "oGDlaPbxW8NK"
      },
      "outputs": [],
      "source": [
        "pandas_df=sqlDF.toPandas()"
      ]
    },
    {
      "cell_type": "code",
      "execution_count": 26,
      "metadata": {
        "id": "BmSbjAlwXCOg"
      },
      "outputs": [],
      "source": [
        "import seaborn as sns"
      ]
    },
    {
      "cell_type": "code",
      "execution_count": 27,
      "metadata": {
        "colab": {
          "base_uri": "https://localhost:8080/",
          "height": 301
        },
        "id": "i3P4X9zxXG6Z",
        "outputId": "686171f1-7fa3-42cc-d6f8-a869713ae60c"
      },
      "outputs": [
        {
          "output_type": "execute_result",
          "data": {
            "text/plain": [
              "<matplotlib.axes._subplots.AxesSubplot at 0x7fd59d845d90>"
            ]
          },
          "metadata": {},
          "execution_count": 27
        },
        {
          "output_type": "display_data",
          "data": {
            "text/plain": [
              "<Figure size 432x288 with 1 Axes>"
            ],
            "image/png": "[encoded data removed]"
          },
          "metadata": {
            "needs_background": "light"
          }
        }
      ],
      "source": [
        "sns.barplot(x='Cyber-Attack',y='Total_Duration',data=pandas_df)"
      ]
    },
    {
      "cell_type": "code",
      "execution_count": 28,
      "metadata": {
        "colab": {
          "base_uri": "https://localhost:8080/"
        },
        "id": "0Rm5BZNdBIbC",
        "outputId": "e55e9872-5fac-465d-b8cc-0103bcb457ad"
      },
      "outputs": [
        {
          "output_type": "stream",
          "name": "stdout",
          "text": [
            "+-----+--------------+--------------------+\n",
            "| Port|PortAffectedBy|NumberOfTimeAffected|\n",
            "+-----+--------------+--------------------+\n",
            "|46761|        Benign|                   1|\n",
            "|  195|        Benign|                   1|\n",
            "|  133|        Benign|                   1|\n",
            "|26239|        Benign|                   1|\n",
            "|  198|        Benign|                   1|\n",
            "+-----+--------------+--------------------+\n",
            "\n"
          ]
        }
      ],
      "source": [
        "# Query 7: Finding the port least effected by all the cyber-attack happened (in last 6 Months)\n",
        "sqlDF = spark.sql(\"SELECT `Dst Port` AS Port, Label AS PortAffectedBy, count(`Dst Port`) AS NumberOfTimeAffected FROM IDS2018 GROUP BY port, PortAffectedBy order by NumberOfTimeAffected asc limit 5;\")\n",
        "sqlDF.show()\n"
      ]
    },
    {
      "cell_type": "markdown",
      "metadata": {
        "id": "hvwBND4IAeTF"
      },
      "source": [
        "**To Visualize the Dataframe in Graphical we need to use the Required Libraries**"
      ]
    },
    {
      "cell_type": "code",
      "execution_count": 29,
      "metadata": {
        "id": "NGrRvmK6Ak05"
      },
      "outputs": [],
      "source": [
        "import numpy as np\n",
        "import matplotlib.pyplot as plt\n",
        "import pandas as pd"
      ]
    },
    {
      "cell_type": "markdown",
      "metadata": {
        "id": "NDwpjhoIAqgi"
      },
      "source": [
        "**Convert SQL Dataframe into Pandas Dataframe to plot Visually**"
      ]
    },
    {
      "cell_type": "code",
      "execution_count": 30,
      "metadata": {
        "id": "8G-LeMIcAtsx"
      },
      "outputs": [],
      "source": [
        "pandas_df = sqlDF.toPandas()"
      ]
    },
    {
      "cell_type": "code",
      "execution_count": 31,
      "metadata": {
        "colab": {
          "base_uri": "https://localhost:8080/",
          "height": 266
        },
        "id": "eyfRZC4PDP9x",
        "outputId": "65f3c9a4-eab2-4fba-ffd4-650b8c42fab6"
      },
      "outputs": [
        {
          "output_type": "execute_result",
          "data": {
            "text/plain": [
              "<matplotlib.axes._subplots.AxesSubplot at 0x7fd59d8749a0>"
            ]
          },
          "metadata": {},
          "execution_count": 31
        },
        {
          "output_type": "display_data",
          "data": {
            "text/plain": [
              "<Figure size 432x288 with 1 Axes>"
            ],
            "image/png": "[encoded data removed]"
          },
          "metadata": {}
        }
      ],
      "source": [
        "pandas_df.plot(x ='PortAffectedBy', y='NumberOfTimeAffected', kind = 'pie')"
      ]
    },
    {
      "cell_type": "code",
      "execution_count": 32,
      "metadata": {
        "colab": {
          "base_uri": "https://localhost:8080/"
        },
        "id": "uojM8-mJSnyg",
        "outputId": "b0f40385-8fa9-4c9c-9230-970811f89b05"
      },
      "outputs": [
        {
          "output_type": "stream",
          "name": "stdout",
          "text": [
            "+-------------------+--------+\n",
            "|          Timestamp|count(1)|\n",
            "+-------------------+--------+\n",
            "|16/02/2018 01:45:31|    8014|\n",
            "|16/02/2018 01:45:30|    8056|\n",
            "|16/02/2018 01:45:32|    8054|\n",
            "|16/02/2018 01:45:28|    8403|\n",
            "|16/02/2018 01:45:29|    8205|\n",
            "+-------------------+--------+\n",
            "\n"
          ]
        }
      ],
      "source": [
        "# Query 8: Most number of attacks recorded on 16/02/2018 with the highest of nearly 8000 attacks\n",
        "\n",
        "sqlDF = spark.sql(\"SELECT Timestamp, count(*) from IDS2018 GROUP BY Timestamp HAVING count(*)>8000\")\n",
        "sqlDF.show()\n"
      ]
    },
    {
      "cell_type": "code",
      "execution_count": 33,
      "metadata": {
        "id": "RFDjOb_bPnMN"
      },
      "outputs": [],
      "source": [
        "pandas_df=sqlDF.toPandas()"
      ]
    },
    {
      "cell_type": "code",
      "execution_count": 34,
      "metadata": {
        "colab": {
          "base_uri": "https://localhost:8080/",
          "height": 392
        },
        "id": "LcVkI31eRIRO",
        "outputId": "ac8e52e1-df42-4e7e-a8f2-14f7ff0fe086"
      },
      "outputs": [
        {
          "output_type": "execute_result",
          "data": {
            "text/plain": [
              "<matplotlib.axes._subplots.AxesSubplot at 0x7fd59d92f430>"
            ]
          },
          "metadata": {},
          "execution_count": 34
        },
        {
          "output_type": "display_data",
          "data": {
            "text/plain": [
              "<Figure size 432x288 with 1 Axes>"
            ],
            "image/png": "[encoded data removed]"
          },
          "metadata": {
            "needs_background": "light"
          }
        }
      ],
      "source": [
        "pandas_df.sort_values(by='count(1)', ascending=False).plot(x='Timestamp', y='count(1)', kind='bar',logy=True)"
      ]
    },
    {
      "cell_type": "markdown",
      "metadata": {
        "id": "dcJhGbI2BKpx"
      },
      "source": [
        "\n",
        "# **Analysis using PySpark**\n",
        "\n",
        "---\n"
      ]
    },
    {
      "cell_type": "code",
      "execution_count": 35,
      "metadata": {
        "id": "dKsR4pkJBRaB"
      },
      "outputs": [],
      "source": [
        "# Analytical method 1: Five number summary for Destination port and Download and Upload Ratio to Calculate Quartiles and Find the Minimum and Maximum Value\n",
        "#Import required Libraries\n",
        "import pandas as pd\n",
        "import numpy as np\n",
        "import seaborn as sns"
      ]
    },
    {
      "cell_type": "code",
      "execution_count": 36,
      "metadata": {
        "colab": {
          "base_uri": "https://localhost:8080/",
          "height": 693
        },
        "id": "vNm8u6WCH8s2",
        "outputId": "36de20e4-71cc-484b-fd8f-f37ef40761c1"
      },
      "outputs": [
        {
          "output_type": "execute_result",
          "data": {
            "text/plain": [
              "         Dst Port  Protocol            Timestamp  Flow Duration  Tot Fwd Pkts  \\\n",
              "0               0         0  14/02/2018 08:31:01      112641719             3   \n",
              "1               0         0  14/02/2018 08:33:50      112641466             3   \n",
              "2               0         0  14/02/2018 08:36:39      112638623             3   \n",
              "3              22         6  14/02/2018 08:40:13        6453966            15   \n",
              "4              22         6  14/02/2018 08:40:23        8804066            14   \n",
              "...           ...       ...                  ...            ...           ...   \n",
              "1048570        80         6  14/02/2018 10:53:23       10156986             5   \n",
              "1048571        80         6  14/02/2018 10:53:33            117             2   \n",
              "1048572        80         6  14/02/2018 10:53:28        5095331             3   \n",
              "1048573        80         6  14/02/2018 10:53:28        5235511             3   \n",
              "1048574       443         6  14/02/2018 10:53:28        5807256             6   \n",
              "\n",
              "         Tot Bwd Pkts  TotLen Fwd Pkts  TotLen Bwd Pkts  Fwd Pkt Len Max  \\\n",
              "0                   0                0                0                0   \n",
              "1                   0                0                0                0   \n",
              "2                   0                0                0                0   \n",
              "3                  10             1239             2273              744   \n",
              "4                  11             1143             2209              744   \n",
              "...               ...              ...              ...              ...   \n",
              "1048570             5             1089             1923              587   \n",
              "1048571             0                0                0                0   \n",
              "1048572             1                0                0                0   \n",
              "1048573             1                0                0                0   \n",
              "1048574             4              327              145              245   \n",
              "\n",
              "         Fwd Pkt Len Min  ...  Fwd Seg Size Min  Active Mean  Active Std  \\\n",
              "0                      0  ...                 0          0.0         0.0   \n",
              "1                      0  ...                 0          0.0         0.0   \n",
              "2                      0  ...                 0          0.0         0.0   \n",
              "3                      0  ...                32          0.0         0.0   \n",
              "4                      0  ...                32          0.0         0.0   \n",
              "...                  ...  ...               ...          ...         ...   \n",
              "1048570                0  ...                20          0.0         0.0   \n",
              "1048571                0  ...                20          0.0         0.0   \n",
              "1048572                0  ...                20          0.0         0.0   \n",
              "1048573                0  ...                20          0.0         0.0   \n",
              "1048574                0  ...                20     291569.0         0.0   \n",
              "\n",
              "         Active Max  Active Min   Idle Mean    Idle Std  Idle Max  Idle Min  \\\n",
              "0                 0           0  56320859.5  139.300036  56320958  56320761   \n",
              "1                 0           0  56320733.0  114.551299  56320814  56320652   \n",
              "2                 0           0  56319311.5  301.934596  56319525  56319098   \n",
              "3                 0           0         0.0    0.000000         0         0   \n",
              "4                 0           0         0.0    0.000000         0         0   \n",
              "...             ...         ...         ...         ...       ...       ...   \n",
              "1048570           0           0         0.0    0.000000         0         0   \n",
              "1048571           0           0         0.0    0.000000         0         0   \n",
              "1048572           0           0         0.0    0.000000         0         0   \n",
              "1048573           0           0         0.0    0.000000         0         0   \n",
              "1048574      291569      291569   5515650.0    0.000000   5515650   5515650   \n",
              "\n",
              "          Label  \n",
              "0        Benign  \n",
              "1        Benign  \n",
              "2        Benign  \n",
              "3        Benign  \n",
              "4        Benign  \n",
              "...         ...  \n",
              "1048570  Benign  \n",
              "1048571  Benign  \n",
              "1048572  Benign  \n",
              "1048573  Benign  \n",
              "1048574  Benign  \n",
              "\n",
              "[1048575 rows x 80 columns]"
            ],
            "text/html": [
              "\n",
              "  <div id=\"df-4539c4fd-6d04-4545-acf4-717aab003c9b\">\n",
              "    <div class=\"colab-df-container\">\n",
              "      <div>\n",
              "<style scoped>\n",
              "    .dataframe tbody tr th:only-of-type {\n",
              "        vertical-align: middle;\n",
              "    }\n",
              "\n",
              "    .dataframe tbody tr th {\n",
              "        vertical-align: top;\n",
              "    }\n",
              "\n",
              "    .dataframe thead th {\n",
              "        text-align: right;\n",
              "    }\n",
              "</style>\n",
              "<table border=\"1\" class=\"dataframe\">\n",
              "  <thead>\n",
              "    <tr style=\"text-align: right;\">\n",
              "      <th></th>\n",
              "      <th>Dst Port</th>\n",
              "      <th>Protocol</th>\n",
              "      <th>Timestamp</th>\n",
              "      <th>Flow Duration</th>\n",
              "      <th>Tot Fwd Pkts</th>\n",
              "      <th>Tot Bwd Pkts</th>\n",
              "      <th>TotLen Fwd Pkts</th>\n",
              "      <th>TotLen Bwd Pkts</th>\n",
              "      <th>Fwd Pkt Len Max</th>\n",
              "      <th>Fwd Pkt Len Min</th>\n",
              "      <th>...</th>\n",
              "      <th>Fwd Seg Size Min</th>\n",
              "      <th>Active Mean</th>\n",
              "      <th>Active Std</th>\n",
              "      <th>Active Max</th>\n",
              "      <th>Active Min</th>\n",
              "      <th>Idle Mean</th>\n",
              "      <th>Idle Std</th>\n",
              "      <th>Idle Max</th>\n",
              "      <th>Idle Min</th>\n",
              "      <th>Label</th>\n",
              "    </tr>\n",
              "  </thead>\n",
              "  <tbody>\n",
              "    <tr>\n",
              "      <th>0</th>\n",
              "      <td>0</td>\n",
              "      <td>0</td>\n",
              "      <td>14/02/2018 08:31:01</td>\n",
              "      <td>112641719</td>\n",
              "      <td>3</td>\n",
              "      <td>0</td>\n",
              "      <td>0</td>\n",
              "      <td>0</td>\n",
              "      <td>0</td>\n",
              "      <td>0</td>\n",
              "      <td>...</td>\n",
              "      <td>0</td>\n",
              "      <td>0.0</td>\n",
              "      <td>0.0</td>\n",
              "      <td>0</td>\n",
              "      <td>0</td>\n",
              "      <td>56320859.5</td>\n",
              "      <td>139.300036</td>\n",
              "      <td>56320958</td>\n",
              "      <td>56320761</td>\n",
              "      <td>Benign</td>\n",
              "    </tr>\n",
              "    <tr>\n",
              "      <th>1</th>\n",
              "      <td>0</td>\n",
              "      <td>0</td>\n",
              "      <td>14/02/2018 08:33:50</td>\n",
              "      <td>112641466</td>\n",
              "      <td>3</td>\n",
              "      <td>0</td>\n",
              "      <td>0</td>\n",
              "      <td>0</td>\n",
              "      <td>0</td>\n",
              "      <td>0</td>\n",
              "      <td>...</td>\n",
              "      <td>0</td>\n",
              "      <td>0.0</td>\n",
              "      <td>0.0</td>\n",
              "      <td>0</td>\n",
              "      <td>0</td>\n",
              "      <td>56320733.0</td>\n",
              "      <td>114.551299</td>\n",
              "      <td>56320814</td>\n",
              "      <td>56320652</td>\n",
              "      <td>Benign</td>\n",
              "    </tr>\n",
              "    <tr>\n",
              "      <th>2</th>\n",
              "      <td>0</td>\n",
              "      <td>0</td>\n",
              "      <td>14/02/2018 08:36:39</td>\n",
              "      <td>112638623</td>\n",
              "      <td>3</td>\n",
              "      <td>0</td>\n",
              "      <td>0</td>\n",
              "      <td>0</td>\n",
              "      <td>0</td>\n",
              "      <td>0</td>\n",
              "      <td>...</td>\n",
              "      <td>0</td>\n",
              "      <td>0.0</td>\n",
              "      <td>0.0</td>\n",
              "      <td>0</td>\n",
              "      <td>0</td>\n",
              "      <td>56319311.5</td>\n",
              "      <td>301.934596</td>\n",
              "      <td>56319525</td>\n",
              "      <td>56319098</td>\n",
              "      <td>Benign</td>\n",
              "    </tr>\n",
              "    <tr>\n",
              "      <th>3</th>\n",
              "      <td>22</td>\n",
              "      <td>6</td>\n",
              "      <td>14/02/2018 08:40:13</td>\n",
              "      <td>6453966</td>\n",
              "      <td>15</td>\n",
              "      <td>10</td>\n",
              "      <td>1239</td>\n",
              "      <td>2273</td>\n",
              "      <td>744</td>\n",
              "      <td>0</td>\n",
              "      <td>...</td>\n",
              "      <td>32</td>\n",
              "      <td>0.0</td>\n",
              "      <td>0.0</td>\n",
              "      <td>0</td>\n",
              "      <td>0</td>\n",
              "      <td>0.0</td>\n",
              "      <td>0.000000</td>\n",
              "      <td>0</td>\n",
              "      <td>0</td>\n",
              "      <td>Benign</td>\n",
              "    </tr>\n",
              "    <tr>\n",
              "      <th>4</th>\n",
              "      <td>22</td>\n",
              "      <td>6</td>\n",
              "      <td>14/02/2018 08:40:23</td>\n",
              "      <td>8804066</td>\n",
              "      <td>14</td>\n",
              "      <td>11</td>\n",
              "      <td>1143</td>\n",
              "      <td>2209</td>\n",
              "      <td>744</td>\n",
              "      <td>0</td>\n",
              "      <td>...</td>\n",
              "      <td>32</td>\n",
              "      <td>0.0</td>\n",
              "      <td>0.0</td>\n",
              "      <td>0</td>\n",
              "      <td>0</td>\n",
              "      <td>0.0</td>\n",
              "      <td>0.000000</td>\n",
              "      <td>0</td>\n",
              "      <td>0</td>\n",
              "      <td>Benign</td>\n",
              "    </tr>\n",
              "    <tr>\n",
              "      <th>...</th>\n",
              "      <td>...</td>\n",
              "      <td>...</td>\n",
              "      <td>...</td>\n",
              "      <td>...</td>\n",
              "      <td>...</td>\n",
              "      <td>...</td>\n",
              "      <td>...</td>\n",
              "      <td>...</td>\n",
              "      <td>...</td>\n",
              "      <td>...</td>\n",
              "      <td>...</td>\n",
              "      <td>...</td>\n",
              "      <td>...</td>\n",
              "      <td>...</td>\n",
              "      <td>...</td>\n",
              "      <td>...</td>\n",
              "      <td>...</td>\n",
              "      <td>...</td>\n",
              "      <td>...</td>\n",
              "      <td>...</td>\n",
              "      <td>...</td>\n",
              "    </tr>\n",
              "    <tr>\n",
              "      <th>1048570</th>\n",
              "      <td>80</td>\n",
              "      <td>6</td>\n",
              "      <td>14/02/2018 10:53:23</td>\n",
              "      <td>10156986</td>\n",
              "      <td>5</td>\n",
              "      <td>5</td>\n",
              "      <td>1089</td>\n",
              "      <td>1923</td>\n",
              "      <td>587</td>\n",
              "      <td>0</td>\n",
              "      <td>...</td>\n",
              "      <td>20</td>\n",
              "      <td>0.0</td>\n",
              "      <td>0.0</td>\n",
              "      <td>0</td>\n",
              "      <td>0</td>\n",
              "      <td>0.0</td>\n",
              "      <td>0.000000</td>\n",
              "      <td>0</td>\n",
              "      <td>0</td>\n",
              "      <td>Benign</td>\n",
              "    </tr>\n",
              "    <tr>\n",
              "      <th>1048571</th>\n",
              "      <td>80</td>\n",
              "      <td>6</td>\n",
              "      <td>14/02/2018 10:53:33</td>\n",
              "      <td>117</td>\n",
              "      <td>2</td>\n",
              "      <td>0</td>\n",
              "      <td>0</td>\n",
              "      <td>0</td>\n",
              "      <td>0</td>\n",
              "      <td>0</td>\n",
              "      <td>...</td>\n",
              "      <td>20</td>\n",
              "      <td>0.0</td>\n",
              "      <td>0.0</td>\n",
              "      <td>0</td>\n",
              "      <td>0</td>\n",
              "      <td>0.0</td>\n",
              "      <td>0.000000</td>\n",
              "      <td>0</td>\n",
              "      <td>0</td>\n",
              "      <td>Benign</td>\n",
              "    </tr>\n",
              "    <tr>\n",
              "      <th>1048572</th>\n",
              "      <td>80</td>\n",
              "      <td>6</td>\n",
              "      <td>14/02/2018 10:53:28</td>\n",
              "      <td>5095331</td>\n",
              "      <td>3</td>\n",
              "      <td>1</td>\n",
              "      <td>0</td>\n",
              "      <td>0</td>\n",
              "      <td>0</td>\n",
              "      <td>0</td>\n",
              "      <td>...</td>\n",
              "      <td>20</td>\n",
              "      <td>0.0</td>\n",
              "      <td>0.0</td>\n",
              "      <td>0</td>\n",
              "      <td>0</td>\n",
              "      <td>0.0</td>\n",
              "      <td>0.000000</td>\n",
              "      <td>0</td>\n",
              "      <td>0</td>\n",
              "      <td>Benign</td>\n",
              "    </tr>\n",
              "    <tr>\n",
              "      <th>1048573</th>\n",
              "      <td>80</td>\n",
              "      <td>6</td>\n",
              "      <td>14/02/2018 10:53:28</td>\n",
              "      <td>5235511</td>\n",
              "      <td>3</td>\n",
              "      <td>1</td>\n",
              "      <td>0</td>\n",
              "      <td>0</td>\n",
              "      <td>0</td>\n",
              "      <td>0</td>\n",
              "      <td>...</td>\n",
              "      <td>20</td>\n",
              "      <td>0.0</td>\n",
              "      <td>0.0</td>\n",
              "      <td>0</td>\n",
              "      <td>0</td>\n",
              "      <td>0.0</td>\n",
              "      <td>0.000000</td>\n",
              "      <td>0</td>\n",
              "      <td>0</td>\n",
              "      <td>Benign</td>\n",
              "    </tr>\n",
              "    <tr>\n",
              "      <th>1048574</th>\n",
              "      <td>443</td>\n",
              "      <td>6</td>\n",
              "      <td>14/02/2018 10:53:28</td>\n",
              "      <td>5807256</td>\n",
              "      <td>6</td>\n",
              "      <td>4</td>\n",
              "      <td>327</td>\n",
              "      <td>145</td>\n",
              "      <td>245</td>\n",
              "      <td>0</td>\n",
              "      <td>...</td>\n",
              "      <td>20</td>\n",
              "      <td>291569.0</td>\n",
              "      <td>0.0</td>\n",
              "      <td>291569</td>\n",
              "      <td>291569</td>\n",
              "      <td>5515650.0</td>\n",
              "      <td>0.000000</td>\n",
              "      <td>5515650</td>\n",
              "      <td>5515650</td>\n",
              "      <td>Benign</td>\n",
              "    </tr>\n",
              "  </tbody>\n",
              "</table>\n",
              "<p>1048575 rows × 80 columns</p>\n",
              "</div>\n",
              "      <button class=\"colab-df-convert\" onclick=\"convertToInteractive('df-4539c4fd-6d04-4545-acf4-717aab003c9b')\"\n",
              "              title=\"Convert this dataframe to an interactive table.\"\n",
              "              style=\"display:none;\">\n",
              "        \n",
              "  <svg xmlns=\"http://www.w3.org/2000/svg\" height=\"24px\"viewBox=\"0 0 24 24\"\n",
              "       width=\"24px\">\n",
              "    <path d=\"M0 0h24v24H0V0z\" fill=\"none\"/>\n",
              "    <path d=\"M18.56 5.44l.94 2.06.94-2.06 2.06-.94-2.06-.94-.94-2.06-.94 2.06-2.06.94zm-11 1L8.5 8.5l.94-2.06 2.06-.94-2.06-.94L8.5 2.5l-.94 2.06-2.06.94zm10 10l.94 2.06.94-2.06 2.06-.94-2.06-.94-.94-2.06-.94 2.06-2.06.94z\"/><path d=\"M17.41 7.96l-1.37-1.37c-.4-.4-.92-.59-1.43-.59-.52 0-1.04.2-1.43.59L10.3 9.45l-7.72 7.72c-.78.78-.78 2.05 0 2.83L4 21.41c.39.39.9.59 1.41.59.51 0 1.02-.2 1.41-.59l7.78-7.78 2.81-2.81c.8-.78.8-2.07 0-2.86zM5.41 20L4 18.59l7.72-7.72 1.47 1.35L5.41 20z\"/>\n",
              "  </svg>\n",
              "      </button>\n",
              "      \n",
              "  <style>\n",
              "    .colab-df-container {\n",
              "      display:flex;\n",
              "      flex-wrap:wrap;\n",
              "      gap: 12px;\n",
              "    }\n",
              "\n",
              "    .colab-df-convert {\n",
              "      background-color: #E8F0FE;\n",
              "      border: none;\n",
              "      border-radius: 50%;\n",
              "      cursor: pointer;\n",
              "      display: none;\n",
              "      fill: #1967D2;\n",
              "      height: 32px;\n",
              "      padding: 0 0 0 0;\n",
              "      width: 32px;\n",
              "    }\n",
              "\n",
              "    .colab-df-convert:hover {\n",
              "      background-color: #E2EBFA;\n",
              "      box-shadow: 0px 1px 2px rgba(60, 64, 67, 0.3), 0px 1px 3px 1px rgba(60, 64, 67, 0.15);\n",
              "      fill: #174EA6;\n",
              "    }\n",
              "\n",
              "    [theme=dark] .colab-df-convert {\n",
              "      background-color: #3B4455;\n",
              "      fill: #D2E3FC;\n",
              "    }\n",
              "\n",
              "    [theme=dark] .colab-df-convert:hover {\n",
              "      background-color: #434B5C;\n",
              "      box-shadow: 0px 1px 3px 1px rgba(0, 0, 0, 0.15);\n",
              "      filter: drop-shadow(0px 1px 2px rgba(0, 0, 0, 0.3));\n",
              "      fill: #FFFFFF;\n",
              "    }\n",
              "  </style>\n",
              "\n",
              "      <script>\n",
              "        const buttonEl =\n",
              "          document.querySelector('#df-4539c4fd-6d04-4545-acf4-717aab003c9b button.colab-df-convert');\n",
              "        buttonEl.style.display =\n",
              "          google.colab.kernel.accessAllowed ? 'block' : 'none';\n",
              "\n",
              "        async function convertToInteractive(key) {\n",
              "          const element = document.querySelector('#df-4539c4fd-6d04-4545-acf4-717aab003c9b');\n",
              "          const dataTable =\n",
              "            await google.colab.kernel.invokeFunction('convertToInteractive',\n",
              "                                                     [key], {});\n",
              "          if (!dataTable) return;\n",
              "\n",
              "          const docLinkHtml = 'Like what you see? Visit the ' +\n",
              "            '<a target=\"_blank\" href=https://colab.research.google.com/notebooks/data_table.ipynb>data table notebook</a>'\n",
              "            + ' to learn more about interactive tables.';\n",
              "          element.innerHTML = '';\n",
              "          dataTable['output_type'] = 'display_data';\n",
              "          await google.colab.output.renderOutput(dataTable, element);\n",
              "          const docLink = document.createElement('div');\n",
              "          docLink.innerHTML = docLinkHtml;\n",
              "          element.appendChild(docLink);\n",
              "        }\n",
              "      </script>\n",
              "    </div>\n",
              "  </div>\n",
              "  "
            ]
          },
          "metadata": {},
          "execution_count": 36
        }
      ],
      "source": [
        "#Load the data\n",
        "ids_df=pd.read_csv(\"/content/drive/MyDrive/IDS2018/02-14-2018.csv\")\n",
        "ids_df"
      ]
    },
    {
      "cell_type": "code",
      "execution_count": 37,
      "metadata": {
        "colab": {
          "base_uri": "https://localhost:8080/",
          "height": 424
        },
        "id": "GK5jLhUVIAs8",
        "outputId": "592297ae-e882-473b-c01e-63f7f1574199"
      },
      "outputs": [
        {
          "output_type": "execute_result",
          "data": {
            "text/plain": [
              "         Dst Port  Down/Up Ratio\n",
              "0               0              0\n",
              "1               0              0\n",
              "2               0              0\n",
              "3              22              0\n",
              "4              22              0\n",
              "...           ...            ...\n",
              "1048570        80              1\n",
              "1048571        80              0\n",
              "1048572        80              0\n",
              "1048573        80              0\n",
              "1048574       443              0\n",
              "\n",
              "[1048575 rows x 2 columns]"
            ],
            "text/html": [
              "\n",
              "  <div id=\"df-0bf5ba4e-b253-4cdf-819b-db0087493503\">\n",
              "    <div class=\"colab-df-container\">\n",
              "      <div>\n",
              "<style scoped>\n",
              "    .dataframe tbody tr th:only-of-type {\n",
              "        vertical-align: middle;\n",
              "    }\n",
              "\n",
              "    .dataframe tbody tr th {\n",
              "        vertical-align: top;\n",
              "    }\n",
              "\n",
              "    .dataframe thead th {\n",
              "        text-align: right;\n",
              "    }\n",
              "</style>\n",
              "<table border=\"1\" class=\"dataframe\">\n",
              "  <thead>\n",
              "    <tr style=\"text-align: right;\">\n",
              "      <th></th>\n",
              "      <th>Dst Port</th>\n",
              "      <th>Down/Up Ratio</th>\n",
              "    </tr>\n",
              "  </thead>\n",
              "  <tbody>\n",
              "    <tr>\n",
              "      <th>0</th>\n",
              "      <td>0</td>\n",
              "      <td>0</td>\n",
              "    </tr>\n",
              "    <tr>\n",
              "      <th>1</th>\n",
              "      <td>0</td>\n",
              "      <td>0</td>\n",
              "    </tr>\n",
              "    <tr>\n",
              "      <th>2</th>\n",
              "      <td>0</td>\n",
              "      <td>0</td>\n",
              "    </tr>\n",
              "    <tr>\n",
              "      <th>3</th>\n",
              "      <td>22</td>\n",
              "      <td>0</td>\n",
              "    </tr>\n",
              "    <tr>\n",
              "      <th>4</th>\n",
              "      <td>22</td>\n",
              "      <td>0</td>\n",
              "    </tr>\n",
              "    <tr>\n",
              "      <th>...</th>\n",
              "      <td>...</td>\n",
              "      <td>...</td>\n",
              "    </tr>\n",
              "    <tr>\n",
              "      <th>1048570</th>\n",
              "      <td>80</td>\n",
              "      <td>1</td>\n",
              "    </tr>\n",
              "    <tr>\n",
              "      <th>1048571</th>\n",
              "      <td>80</td>\n",
              "      <td>0</td>\n",
              "    </tr>\n",
              "    <tr>\n",
              "      <th>1048572</th>\n",
              "      <td>80</td>\n",
              "      <td>0</td>\n",
              "    </tr>\n",
              "    <tr>\n",
              "      <th>1048573</th>\n",
              "      <td>80</td>\n",
              "      <td>0</td>\n",
              "    </tr>\n",
              "    <tr>\n",
              "      <th>1048574</th>\n",
              "      <td>443</td>\n",
              "      <td>0</td>\n",
              "    </tr>\n",
              "  </tbody>\n",
              "</table>\n",
              "<p>1048575 rows × 2 columns</p>\n",
              "</div>\n",
              "      <button class=\"colab-df-convert\" onclick=\"convertToInteractive('df-0bf5ba4e-b253-4cdf-819b-db0087493503')\"\n",
              "              title=\"Convert this dataframe to an interactive table.\"\n",
              "              style=\"display:none;\">\n",
              "        \n",
              "  <svg xmlns=\"http://www.w3.org/2000/svg\" height=\"24px\"viewBox=\"0 0 24 24\"\n",
              "       width=\"24px\">\n",
              "    <path d=\"M0 0h24v24H0V0z\" fill=\"none\"/>\n",
              "    <path d=\"M18.56 5.44l.94 2.06.94-2.06 2.06-.94-2.06-.94-.94-2.06-.94 2.06-2.06.94zm-11 1L8.5 8.5l.94-2.06 2.06-.94-2.06-.94L8.5 2.5l-.94 2.06-2.06.94zm10 10l.94 2.06.94-2.06 2.06-.94-2.06-.94-.94-2.06-.94 2.06-2.06.94z\"/><path d=\"M17.41 7.96l-1.37-1.37c-.4-.4-.92-.59-1.43-.59-.52 0-1.04.2-1.43.59L10.3 9.45l-7.72 7.72c-.78.78-.78 2.05 0 2.83L4 21.41c.39.39.9.59 1.41.59.51 0 1.02-.2 1.41-.59l7.78-7.78 2.81-2.81c.8-.78.8-2.07 0-2.86zM5.41 20L4 18.59l7.72-7.72 1.47 1.35L5.41 20z\"/>\n",
              "  </svg>\n",
              "      </button>\n",
              "      \n",
              "  <style>\n",
              "    .colab-df-container {\n",
              "      display:flex;\n",
              "      flex-wrap:wrap;\n",
              "      gap: 12px;\n",
              "    }\n",
              "\n",
              "    .colab-df-convert {\n",
              "      background-color: #E8F0FE;\n",
              "      border: none;\n",
              "      border-radius: 50%;\n",
              "      cursor: pointer;\n",
              "      display: none;\n",
              "      fill: #1967D2;\n",
              "      height: 32px;\n",
              "      padding: 0 0 0 0;\n",
              "      width: 32px;\n",
              "    }\n",
              "\n",
              "    .colab-df-convert:hover {\n",
              "      background-color: #E2EBFA;\n",
              "      box-shadow: 0px 1px 2px rgba(60, 64, 67, 0.3), 0px 1px 3px 1px rgba(60, 64, 67, 0.15);\n",
              "      fill: #174EA6;\n",
              "    }\n",
              "\n",
              "    [theme=dark] .colab-df-convert {\n",
              "      background-color: #3B4455;\n",
              "      fill: #D2E3FC;\n",
              "    }\n",
              "\n",
              "    [theme=dark] .colab-df-convert:hover {\n",
              "      background-color: #434B5C;\n",
              "      box-shadow: 0px 1px 3px 1px rgba(0, 0, 0, 0.15);\n",
              "      filter: drop-shadow(0px 1px 2px rgba(0, 0, 0, 0.3));\n",
              "      fill: #FFFFFF;\n",
              "    }\n",
              "  </style>\n",
              "\n",
              "      <script>\n",
              "        const buttonEl =\n",
              "          document.querySelector('#df-0bf5ba4e-b253-4cdf-819b-db0087493503 button.colab-df-convert');\n",
              "        buttonEl.style.display =\n",
              "          google.colab.kernel.accessAllowed ? 'block' : 'none';\n",
              "\n",
              "        async function convertToInteractive(key) {\n",
              "          const element = document.querySelector('#df-0bf5ba4e-b253-4cdf-819b-db0087493503');\n",
              "          const dataTable =\n",
              "            await google.colab.kernel.invokeFunction('convertToInteractive',\n",
              "                                                     [key], {});\n",
              "          if (!dataTable) return;\n",
              "\n",
              "          const docLinkHtml = 'Like what you see? Visit the ' +\n",
              "            '<a target=\"_blank\" href=https://colab.research.google.com/notebooks/data_table.ipynb>data table notebook</a>'\n",
              "            + ' to learn more about interactive tables.';\n",
              "          element.innerHTML = '';\n",
              "          dataTable['output_type'] = 'display_data';\n",
              "          await google.colab.output.renderOutput(dataTable, element);\n",
              "          const docLink = document.createElement('div');\n",
              "          docLink.innerHTML = docLinkHtml;\n",
              "          element.appendChild(docLink);\n",
              "        }\n",
              "      </script>\n",
              "    </div>\n",
              "  </div>\n",
              "  "
            ]
          },
          "metadata": {},
          "execution_count": 37
        }
      ],
      "source": [
        "#Convert into Dataframe\n",
        "ids_df1=pd.DataFrame(ids_df,columns=['Dst Port','Down/Up Ratio'])\n",
        "ids_df1"
      ]
    },
    {
      "cell_type": "code",
      "execution_count": 38,
      "metadata": {
        "colab": {
          "base_uri": "https://localhost:8080/",
          "height": 300
        },
        "id": "4y1T4lT2O1Fu",
        "outputId": "4cd0be85-9c7e-450e-8491-26154d10d5cc"
      },
      "outputs": [
        {
          "output_type": "execute_result",
          "data": {
            "text/plain": [
              "           Dst Port  Down/Up Ratio\n",
              "count  1.048575e+06   1.048575e+06\n",
              "mean   4.876262e+03   6.634537e-01\n",
              "std    1.444344e+04   5.652833e-01\n",
              "min    0.000000e+00   0.000000e+00\n",
              "25%    2.200000e+01   0.000000e+00\n",
              "50%    5.300000e+01   1.000000e+00\n",
              "75%    4.430000e+02   1.000000e+00\n",
              "max    6.553300e+04   8.000000e+01"
            ],
            "text/html": [
              "\n",
              "  <div id=\"df-696b9249-c5a2-447b-9842-fb43c6a55b39\">\n",
              "    <div class=\"colab-df-container\">\n",
              "      <div>\n",
              "<style scoped>\n",
              "    .dataframe tbody tr th:only-of-type {\n",
              "        vertical-align: middle;\n",
              "    }\n",
              "\n",
              "    .dataframe tbody tr th {\n",
              "        vertical-align: top;\n",
              "    }\n",
              "\n",
              "    .dataframe thead th {\n",
              "        text-align: right;\n",
              "    }\n",
              "</style>\n",
              "<table border=\"1\" class=\"dataframe\">\n",
              "  <thead>\n",
              "    <tr style=\"text-align: right;\">\n",
              "      <th></th>\n",
              "      <th>Dst Port</th>\n",
              "      <th>Down/Up Ratio</th>\n",
              "    </tr>\n",
              "  </thead>\n",
              "  <tbody>\n",
              "    <tr>\n",
              "      <th>count</th>\n",
              "      <td>1.048575e+06</td>\n",
              "      <td>1.048575e+06</td>\n",
              "    </tr>\n",
              "    <tr>\n",
              "      <th>mean</th>\n",
              "      <td>4.876262e+03</td>\n",
              "      <td>6.634537e-01</td>\n",
              "    </tr>\n",
              "    <tr>\n",
              "      <th>std</th>\n",
              "      <td>1.444344e+04</td>\n",
              "      <td>5.652833e-01</td>\n",
              "    </tr>\n",
              "    <tr>\n",
              "      <th>min</th>\n",
              "      <td>0.000000e+00</td>\n",
              "      <td>0.000000e+00</td>\n",
              "    </tr>\n",
              "    <tr>\n",
              "      <th>25%</th>\n",
              "      <td>2.200000e+01</td>\n",
              "      <td>0.000000e+00</td>\n",
              "    </tr>\n",
              "    <tr>\n",
              "      <th>50%</th>\n",
              "      <td>5.300000e+01</td>\n",
              "      <td>1.000000e+00</td>\n",
              "    </tr>\n",
              "    <tr>\n",
              "      <th>75%</th>\n",
              "      <td>4.430000e+02</td>\n",
              "      <td>1.000000e+00</td>\n",
              "    </tr>\n",
              "    <tr>\n",
              "      <th>max</th>\n",
              "      <td>6.553300e+04</td>\n",
              "      <td>8.000000e+01</td>\n",
              "    </tr>\n",
              "  </tbody>\n",
              "</table>\n",
              "</div>\n",
              "      <button class=\"colab-df-convert\" onclick=\"convertToInteractive('df-696b9249-c5a2-447b-9842-fb43c6a55b39')\"\n",
              "              title=\"Convert this dataframe to an interactive table.\"\n",
              "              style=\"display:none;\">\n",
              "        \n",
              "  <svg xmlns=\"http://www.w3.org/2000/svg\" height=\"24px\"viewBox=\"0 0 24 24\"\n",
              "       width=\"24px\">\n",
              "    <path d=\"M0 0h24v24H0V0z\" fill=\"none\"/>\n",
              "    <path d=\"M18.56 5.44l.94 2.06.94-2.06 2.06-.94-2.06-.94-.94-2.06-.94 2.06-2.06.94zm-11 1L8.5 8.5l.94-2.06 2.06-.94-2.06-.94L8.5 2.5l-.94 2.06-2.06.94zm10 10l.94 2.06.94-2.06 2.06-.94-2.06-.94-.94-2.06-.94 2.06-2.06.94z\"/><path d=\"M17.41 7.96l-1.37-1.37c-.4-.4-.92-.59-1.43-.59-.52 0-1.04.2-1.43.59L10.3 9.45l-7.72 7.72c-.78.78-.78 2.05 0 2.83L4 21.41c.39.39.9.59 1.41.59.51 0 1.02-.2 1.41-.59l7.78-7.78 2.81-2.81c.8-.78.8-2.07 0-2.86zM5.41 20L4 18.59l7.72-7.72 1.47 1.35L5.41 20z\"/>\n",
              "  </svg>\n",
              "      </button>\n",
              "      \n",
              "  <style>\n",
              "    .colab-df-container {\n",
              "      display:flex;\n",
              "      flex-wrap:wrap;\n",
              "      gap: 12px;\n",
              "    }\n",
              "\n",
              "    .colab-df-convert {\n",
              "      background-color: #E8F0FE;\n",
              "      border: none;\n",
              "      border-radius: 50%;\n",
              "      cursor: pointer;\n",
              "      display: none;\n",
              "      fill: #1967D2;\n",
              "      height: 32px;\n",
              "      padding: 0 0 0 0;\n",
              "      width: 32px;\n",
              "    }\n",
              "\n",
              "    .colab-df-convert:hover {\n",
              "      background-color: #E2EBFA;\n",
              "      box-shadow: 0px 1px 2px rgba(60, 64, 67, 0.3), 0px 1px 3px 1px rgba(60, 64, 67, 0.15);\n",
              "      fill: #174EA6;\n",
              "    }\n",
              "\n",
              "    [theme=dark] .colab-df-convert {\n",
              "      background-color: #3B4455;\n",
              "      fill: #D2E3FC;\n",
              "    }\n",
              "\n",
              "    [theme=dark] .colab-df-convert:hover {\n",
              "      background-color: #434B5C;\n",
              "      box-shadow: 0px 1px 3px 1px rgba(0, 0, 0, 0.15);\n",
              "      filter: drop-shadow(0px 1px 2px rgba(0, 0, 0, 0.3));\n",
              "      fill: #FFFFFF;\n",
              "    }\n",
              "  </style>\n",
              "\n",
              "      <script>\n",
              "        const buttonEl =\n",
              "          document.querySelector('#df-696b9249-c5a2-447b-9842-fb43c6a55b39 button.colab-df-convert');\n",
              "        buttonEl.style.display =\n",
              "          google.colab.kernel.accessAllowed ? 'block' : 'none';\n",
              "\n",
              "        async function convertToInteractive(key) {\n",
              "          const element = document.querySelector('#df-696b9249-c5a2-447b-9842-fb43c6a55b39');\n",
              "          const dataTable =\n",
              "            await google.colab.kernel.invokeFunction('convertToInteractive',\n",
              "                                                     [key], {});\n",
              "          if (!dataTable) return;\n",
              "\n",
              "          const docLinkHtml = 'Like what you see? Visit the ' +\n",
              "            '<a target=\"_blank\" href=https://colab.research.google.com/notebooks/data_table.ipynb>data table notebook</a>'\n",
              "            + ' to learn more about interactive tables.';\n",
              "          element.innerHTML = '';\n",
              "          dataTable['output_type'] = 'display_data';\n",
              "          await google.colab.output.renderOutput(dataTable, element);\n",
              "          const docLink = document.createElement('div');\n",
              "          docLink.innerHTML = docLinkHtml;\n",
              "          element.appendChild(docLink);\n",
              "        }\n",
              "      </script>\n",
              "    </div>\n",
              "  </div>\n",
              "  "
            ]
          },
          "metadata": {},
          "execution_count": 38
        }
      ],
      "source": [
        "ids_df1.describe()"
      ]
    },
    {
      "cell_type": "code",
      "execution_count": 39,
      "metadata": {
        "colab": {
          "base_uri": "https://localhost:8080/",
          "height": 265
        },
        "id": "HH2VNP6hIqOk",
        "outputId": "a251becc-3e18-47cb-cb10-82b71400e2a6"
      },
      "outputs": [
        {
          "output_type": "display_data",
          "data": {
            "text/plain": [
              "<Figure size 432x288 with 1 Axes>"
            ],
            "image/png": "[encoded data removed]"
          },
          "metadata": {
            "needs_background": "light"
          }
        }
      ],
      "source": [
        "#Boxplot with Dataframe\n",
        "boxplot=ids_df1.boxplot()"
      ]
    },
    {
      "cell_type": "code",
      "execution_count": 40,
      "metadata": {
        "id": "hZa15dIrI1v-"
      },
      "outputs": [],
      "source": [
        "#Calculate 5 number summary for Dst Port:\n",
        "five_number = [ids_df1[\"Dst Port\"].quantile(0),\n",
        "              ids_df1[\"Dst Port\"].quantile(0.25),\n",
        "              ids_df1[\"Dst Port\"].quantile(0.5),\n",
        "              ids_df1[\"Dst Port\"].quantile(0.75),\n",
        "              ids_df1[\"Dst Port\"].quantile(1)]"
      ]
    },
    {
      "cell_type": "code",
      "execution_count": 41,
      "metadata": {
        "colab": {
          "base_uri": "https://localhost:8080/"
        },
        "id": "nr8te5VJKDEN",
        "outputId": "8b131300-7360-4e5b-fdb2-bd555e577419"
      },
      "outputs": [
        {
          "output_type": "execute_result",
          "data": {
            "text/plain": [
              "[0.0, 22.0, 53.0, 443.0, 65533.0]"
            ]
          },
          "metadata": {},
          "execution_count": 41
        }
      ],
      "source": [
        "five_number"
      ]
    },
    {
      "cell_type": "code",
      "execution_count": 42,
      "metadata": {
        "colab": {
          "base_uri": "https://localhost:8080/",
          "height": 283
        },
        "id": "QWaDjNhFKUEm",
        "outputId": "9781bd45-0f1b-4fc4-d316-b204c12f3d29"
      },
      "outputs": [
        {
          "output_type": "execute_result",
          "data": {
            "text/plain": [
              "<matplotlib.axes._subplots.AxesSubplot at 0x7fd594720a90>"
            ]
          },
          "metadata": {},
          "execution_count": 42
        },
        {
          "output_type": "display_data",
          "data": {
            "text/plain": [
              "<Figure size 432x288 with 1 Axes>"
            ],
            "image/png": "[encoded data removed]"
          },
          "metadata": {
            "needs_background": "light"
          }
        }
      ],
      "source": [
        "#Plot using seaborn\n",
        "sns.boxplot(data=five_number)"
      ]
    },
    {
      "cell_type": "code",
      "execution_count": 43,
      "metadata": {
        "id": "K4MNTPKmLhvZ"
      },
      "outputs": [],
      "source": [
        "#Calculate 5 number summary for Download and upload ratio:\n",
        "five_number1 =[ids_df1[\"Down/Up Ratio\"].quantile(0),\n",
        "              ids_df1[\"Down/Up Ratio\"].quantile(0.25),\n",
        "              ids_df1[\"Down/Up Ratio\"].quantile(0.5),\n",
        "              ids_df1[\"Down/Up Ratio\"].quantile(0.75),\n",
        "              ids_df1[\"Down/Up Ratio\"].quantile(1)]"
      ]
    },
    {
      "cell_type": "code",
      "execution_count": 44,
      "metadata": {
        "colab": {
          "base_uri": "https://localhost:8080/"
        },
        "id": "b5rXOHwNL1_i",
        "outputId": "67809e2c-dde6-4976-e1be-557d96acc8b5"
      },
      "outputs": [
        {
          "output_type": "execute_result",
          "data": {
            "text/plain": [
              "[0.0, 0.0, 1.0, 1.0, 80.0]"
            ]
          },
          "metadata": {},
          "execution_count": 44
        }
      ],
      "source": [
        "five_number1"
      ]
    },
    {
      "cell_type": "code",
      "execution_count": 45,
      "metadata": {
        "colab": {
          "base_uri": "https://localhost:8080/",
          "height": 283
        },
        "id": "qYKARFy4N9fE",
        "outputId": "bb8e7018-7d71-4a98-b7bc-6471d4a87077"
      },
      "outputs": [
        {
          "output_type": "execute_result",
          "data": {
            "text/plain": [
              "<matplotlib.axes._subplots.AxesSubplot at 0x7fd59da5db20>"
            ]
          },
          "metadata": {},
          "execution_count": 45
        },
        {
          "output_type": "display_data",
          "data": {
            "text/plain": [
              "<Figure size 432x288 with 1 Axes>"
            ],
            "image/png": "[encoded data removed]"
          },
          "metadata": {
            "needs_background": "light"
          }
        }
      ],
      "source": [
        "#Boxplot with dataframe\n",
        "sns.boxplot(data=five_number1)"
      ]
    },
    {
      "cell_type": "code",
      "execution_count": 46,
      "metadata": {
        "id": "nefE3dztiWmR"
      },
      "outputs": [],
      "source": [
        "# Analytical method 2: Exploratory data analysis of Covariance and correlation between maximum and minimum time between two flows\n",
        "import numpy as np\n",
        "import pandas as pd\n",
        "import seaborn as sns"
      ]
    },
    {
      "cell_type": "code",
      "execution_count": 47,
      "metadata": {
        "id": "47TYqIOFYTdM"
      },
      "outputs": [],
      "source": [
        "#Load the dataset\n",
        "IDS = pd.read_csv(\"/content/drive/MyDrive/IDS2018/02-14-2018.csv\")"
      ]
    },
    {
      "cell_type": "code",
      "execution_count": 48,
      "metadata": {
        "colab": {
          "base_uri": "https://localhost:8080/",
          "height": 693
        },
        "id": "tpKPmzslYl69",
        "outputId": "3cfacb7f-a56a-479d-f6a4-7d8899f48ff1"
      },
      "outputs": [
        {
          "output_type": "execute_result",
          "data": {
            "text/plain": [
              "         Dst Port  Protocol            Timestamp  Flow Duration  Tot Fwd Pkts  \\\n",
              "0               0         0  14/02/2018 08:31:01      112641719             3   \n",
              "1               0         0  14/02/2018 08:33:50      112641466             3   \n",
              "2               0         0  14/02/2018 08:36:39      112638623             3   \n",
              "3              22         6  14/02/2018 08:40:13        6453966            15   \n",
              "4              22         6  14/02/2018 08:40:23        8804066            14   \n",
              "...           ...       ...                  ...            ...           ...   \n",
              "1048570        80         6  14/02/2018 10:53:23       10156986             5   \n",
              "1048571        80         6  14/02/2018 10:53:33            117             2   \n",
              "1048572        80         6  14/02/2018 10:53:28        5095331             3   \n",
              "1048573        80         6  14/02/2018 10:53:28        5235511             3   \n",
              "1048574       443         6  14/02/2018 10:53:28        5807256             6   \n",
              "\n",
              "         Tot Bwd Pkts  TotLen Fwd Pkts  TotLen Bwd Pkts  Fwd Pkt Len Max  \\\n",
              "0                   0                0                0                0   \n",
              "1                   0                0                0                0   \n",
              "2                   0                0                0                0   \n",
              "3                  10             1239             2273              744   \n",
              "4                  11             1143             2209              744   \n",
              "...               ...              ...              ...              ...   \n",
              "1048570             5             1089             1923              587   \n",
              "1048571             0                0                0                0   \n",
              "1048572             1                0                0                0   \n",
              "1048573             1                0                0                0   \n",
              "1048574             4              327              145              245   \n",
              "\n",
              "         Fwd Pkt Len Min  ...  Fwd Seg Size Min  Active Mean  Active Std  \\\n",
              "0                      0  ...                 0          0.0         0.0   \n",
              "1                      0  ...                 0          0.0         0.0   \n",
              "2                      0  ...                 0          0.0         0.0   \n",
              "3                      0  ...                32          0.0         0.0   \n",
              "4                      0  ...                32          0.0         0.0   \n",
              "...                  ...  ...               ...          ...         ...   \n",
              "1048570                0  ...                20          0.0         0.0   \n",
              "1048571                0  ...                20          0.0         0.0   \n",
              "1048572                0  ...                20          0.0         0.0   \n",
              "1048573                0  ...                20          0.0         0.0   \n",
              "1048574                0  ...                20     291569.0         0.0   \n",
              "\n",
              "         Active Max  Active Min   Idle Mean    Idle Std  Idle Max  Idle Min  \\\n",
              "0                 0           0  56320859.5  139.300036  56320958  56320761   \n",
              "1                 0           0  56320733.0  114.551299  56320814  56320652   \n",
              "2                 0           0  56319311.5  301.934596  56319525  56319098   \n",
              "3                 0           0         0.0    0.000000         0         0   \n",
              "4                 0           0         0.0    0.000000         0         0   \n",
              "...             ...         ...         ...         ...       ...       ...   \n",
              "1048570           0           0         0.0    0.000000         0         0   \n",
              "1048571           0           0         0.0    0.000000         0         0   \n",
              "1048572           0           0         0.0    0.000000         0         0   \n",
              "1048573           0           0         0.0    0.000000         0         0   \n",
              "1048574      291569      291569   5515650.0    0.000000   5515650   5515650   \n",
              "\n",
              "          Label  \n",
              "0        Benign  \n",
              "1        Benign  \n",
              "2        Benign  \n",
              "3        Benign  \n",
              "4        Benign  \n",
              "...         ...  \n",
              "1048570  Benign  \n",
              "1048571  Benign  \n",
              "1048572  Benign  \n",
              "1048573  Benign  \n",
              "1048574  Benign  \n",
              "\n",
              "[1048575 rows x 80 columns]"
            ],
            "text/html": [
              "\n",
              "  <div id=\"df-6bc9663a-7e13-41b0-af21-aee9a3079d82\">\n",
              "    <div class=\"colab-df-container\">\n",
              "      <div>\n",
              "<style scoped>\n",
              "    .dataframe tbody tr th:only-of-type {\n",
              "        vertical-align: middle;\n",
              "    }\n",
              "\n",
              "    .dataframe tbody tr th {\n",
              "        vertical-align: top;\n",
              "    }\n",
              "\n",
              "    .dataframe thead th {\n",
              "        text-align: right;\n",
              "    }\n",
              "</style>\n",
              "<table border=\"1\" class=\"dataframe\">\n",
              "  <thead>\n",
              "    <tr style=\"text-align: right;\">\n",
              "      <th></th>\n",
              "      <th>Dst Port</th>\n",
              "      <th>Protocol</th>\n",
              "      <th>Timestamp</th>\n",
              "      <th>Flow Duration</th>\n",
              "      <th>Tot Fwd Pkts</th>\n",
              "      <th>Tot Bwd Pkts</th>\n",
              "      <th>TotLen Fwd Pkts</th>\n",
              "      <th>TotLen Bwd Pkts</th>\n",
              "      <th>Fwd Pkt Len Max</th>\n",
              "      <th>Fwd Pkt Len Min</th>\n",
              "      <th>...</th>\n",
              "      <th>Fwd Seg Size Min</th>\n",
              "      <th>Active Mean</th>\n",
              "      <th>Active Std</th>\n",
              "      <th>Active Max</th>\n",
              "      <th>Active Min</th>\n",
              "      <th>Idle Mean</th>\n",
              "      <th>Idle Std</th>\n",
              "      <th>Idle Max</th>\n",
              "      <th>Idle Min</th>\n",
              "      <th>Label</th>\n",
              "    </tr>\n",
              "  </thead>\n",
              "  <tbody>\n",
              "    <tr>\n",
              "      <th>0</th>\n",
              "      <td>0</td>\n",
              "      <td>0</td>\n",
              "      <td>14/02/2018 08:31:01</td>\n",
              "      <td>112641719</td>\n",
              "      <td>3</td>\n",
              "      <td>0</td>\n",
              "      <td>0</td>\n",
              "      <td>0</td>\n",
              "      <td>0</td>\n",
              "      <td>0</td>\n",
              "      <td>...</td>\n",
              "      <td>0</td>\n",
              "      <td>0.0</td>\n",
              "      <td>0.0</td>\n",
              "      <td>0</td>\n",
              "      <td>0</td>\n",
              "      <td>56320859.5</td>\n",
              "      <td>139.300036</td>\n",
              "      <td>56320958</td>\n",
              "      <td>56320761</td>\n",
              "      <td>Benign</td>\n",
              "    </tr>\n",
              "    <tr>\n",
              "      <th>1</th>\n",
              "      <td>0</td>\n",
              "      <td>0</td>\n",
              "      <td>14/02/2018 08:33:50</td>\n",
              "      <td>112641466</td>\n",
              "      <td>3</td>\n",
              "      <td>0</td>\n",
              "      <td>0</td>\n",
              "      <td>0</td>\n",
              "      <td>0</td>\n",
              "      <td>0</td>\n",
              "      <td>...</td>\n",
              "      <td>0</td>\n",
              "      <td>0.0</td>\n",
              "      <td>0.0</td>\n",
              "      <td>0</td>\n",
              "      <td>0</td>\n",
              "      <td>56320733.0</td>\n",
              "      <td>114.551299</td>\n",
              "      <td>56320814</td>\n",
              "      <td>56320652</td>\n",
              "      <td>Benign</td>\n",
              "    </tr>\n",
              "    <tr>\n",
              "      <th>2</th>\n",
              "      <td>0</td>\n",
              "      <td>0</td>\n",
              "      <td>14/02/2018 08:36:39</td>\n",
              "      <td>112638623</td>\n",
              "      <td>3</td>\n",
              "      <td>0</td>\n",
              "      <td>0</td>\n",
              "      <td>0</td>\n",
              "      <td>0</td>\n",
              "      <td>0</td>\n",
              "      <td>...</td>\n",
              "      <td>0</td>\n",
              "      <td>0.0</td>\n",
              "      <td>0.0</td>\n",
              "      <td>0</td>\n",
              "      <td>0</td>\n",
              "      <td>56319311.5</td>\n",
              "      <td>301.934596</td>\n",
              "      <td>56319525</td>\n",
              "      <td>56319098</td>\n",
              "      <td>Benign</td>\n",
              "    </tr>\n",
              "    <tr>\n",
              "      <th>3</th>\n",
              "      <td>22</td>\n",
              "      <td>6</td>\n",
              "      <td>14/02/2018 08:40:13</td>\n",
              "      <td>6453966</td>\n",
              "      <td>15</td>\n",
              "      <td>10</td>\n",
              "      <td>1239</td>\n",
              "      <td>2273</td>\n",
              "      <td>744</td>\n",
              "      <td>0</td>\n",
              "      <td>...</td>\n",
              "      <td>32</td>\n",
              "      <td>0.0</td>\n",
              "      <td>0.0</td>\n",
              "      <td>0</td>\n",
              "      <td>0</td>\n",
              "      <td>0.0</td>\n",
              "      <td>0.000000</td>\n",
              "      <td>0</td>\n",
              "      <td>0</td>\n",
              "      <td>Benign</td>\n",
              "    </tr>\n",
              "    <tr>\n",
              "      <th>4</th>\n",
              "      <td>22</td>\n",
              "      <td>6</td>\n",
              "      <td>14/02/2018 08:40:23</td>\n",
              "      <td>8804066</td>\n",
              "      <td>14</td>\n",
              "      <td>11</td>\n",
              "      <td>1143</td>\n",
              "      <td>2209</td>\n",
              "      <td>744</td>\n",
              "      <td>0</td>\n",
              "      <td>...</td>\n",
              "      <td>32</td>\n",
              "      <td>0.0</td>\n",
              "      <td>0.0</td>\n",
              "      <td>0</td>\n",
              "      <td>0</td>\n",
              "      <td>0.0</td>\n",
              "      <td>0.000000</td>\n",
              "      <td>0</td>\n",
              "      <td>0</td>\n",
              "      <td>Benign</td>\n",
              "    </tr>\n",
              "    <tr>\n",
              "      <th>...</th>\n",
              "      <td>...</td>\n",
              "      <td>...</td>\n",
              "      <td>...</td>\n",
              "      <td>...</td>\n",
              "      <td>...</td>\n",
              "      <td>...</td>\n",
              "      <td>...</td>\n",
              "      <td>...</td>\n",
              "      <td>...</td>\n",
              "      <td>...</td>\n",
              "      <td>...</td>\n",
              "      <td>...</td>\n",
              "      <td>...</td>\n",
              "      <td>...</td>\n",
              "      <td>...</td>\n",
              "      <td>...</td>\n",
              "      <td>...</td>\n",
              "      <td>...</td>\n",
              "      <td>...</td>\n",
              "      <td>...</td>\n",
              "      <td>...</td>\n",
              "    </tr>\n",
              "    <tr>\n",
              "      <th>1048570</th>\n",
              "      <td>80</td>\n",
              "      <td>6</td>\n",
              "      <td>14/02/2018 10:53:23</td>\n",
              "      <td>10156986</td>\n",
              "      <td>5</td>\n",
              "      <td>5</td>\n",
              "      <td>1089</td>\n",
              "      <td>1923</td>\n",
              "      <td>587</td>\n",
              "      <td>0</td>\n",
              "      <td>...</td>\n",
              "      <td>20</td>\n",
              "      <td>0.0</td>\n",
              "      <td>0.0</td>\n",
              "      <td>0</td>\n",
              "      <td>0</td>\n",
              "      <td>0.0</td>\n",
              "      <td>0.000000</td>\n",
              "      <td>0</td>\n",
              "      <td>0</td>\n",
              "      <td>Benign</td>\n",
              "    </tr>\n",
              "    <tr>\n",
              "      <th>1048571</th>\n",
              "      <td>80</td>\n",
              "      <td>6</td>\n",
              "      <td>14/02/2018 10:53:33</td>\n",
              "      <td>117</td>\n",
              "      <td>2</td>\n",
              "      <td>0</td>\n",
              "      <td>0</td>\n",
              "      <td>0</td>\n",
              "      <td>0</td>\n",
              "      <td>0</td>\n",
              "      <td>...</td>\n",
              "      <td>20</td>\n",
              "      <td>0.0</td>\n",
              "      <td>0.0</td>\n",
              "      <td>0</td>\n",
              "      <td>0</td>\n",
              "      <td>0.0</td>\n",
              "      <td>0.000000</td>\n",
              "      <td>0</td>\n",
              "      <td>0</td>\n",
              "      <td>Benign</td>\n",
              "    </tr>\n",
              "    <tr>\n",
              "      <th>1048572</th>\n",
              "      <td>80</td>\n",
              "      <td>6</td>\n",
              "      <td>14/02/2018 10:53:28</td>\n",
              "      <td>5095331</td>\n",
              "      <td>3</td>\n",
              "      <td>1</td>\n",
              "      <td>0</td>\n",
              "      <td>0</td>\n",
              "      <td>0</td>\n",
              "      <td>0</td>\n",
              "      <td>...</td>\n",
              "      <td>20</td>\n",
              "      <td>0.0</td>\n",
              "      <td>0.0</td>\n",
              "      <td>0</td>\n",
              "      <td>0</td>\n",
              "      <td>0.0</td>\n",
              "      <td>0.000000</td>\n",
              "      <td>0</td>\n",
              "      <td>0</td>\n",
              "      <td>Benign</td>\n",
              "    </tr>\n",
              "    <tr>\n",
              "      <th>1048573</th>\n",
              "      <td>80</td>\n",
              "      <td>6</td>\n",
              "      <td>14/02/2018 10:53:28</td>\n",
              "      <td>5235511</td>\n",
              "      <td>3</td>\n",
              "      <td>1</td>\n",
              "      <td>0</td>\n",
              "      <td>0</td>\n",
              "      <td>0</td>\n",
              "      <td>0</td>\n",
              "      <td>...</td>\n",
              "      <td>20</td>\n",
              "      <td>0.0</td>\n",
              "      <td>0.0</td>\n",
              "      <td>0</td>\n",
              "      <td>0</td>\n",
              "      <td>0.0</td>\n",
              "      <td>0.000000</td>\n",
              "      <td>0</td>\n",
              "      <td>0</td>\n",
              "      <td>Benign</td>\n",
              "    </tr>\n",
              "    <tr>\n",
              "      <th>1048574</th>\n",
              "      <td>443</td>\n",
              "      <td>6</td>\n",
              "      <td>14/02/2018 10:53:28</td>\n",
              "      <td>5807256</td>\n",
              "      <td>6</td>\n",
              "      <td>4</td>\n",
              "      <td>327</td>\n",
              "      <td>145</td>\n",
              "      <td>245</td>\n",
              "      <td>0</td>\n",
              "      <td>...</td>\n",
              "      <td>20</td>\n",
              "      <td>291569.0</td>\n",
              "      <td>0.0</td>\n",
              "      <td>291569</td>\n",
              "      <td>291569</td>\n",
              "      <td>5515650.0</td>\n",
              "      <td>0.000000</td>\n",
              "      <td>5515650</td>\n",
              "      <td>5515650</td>\n",
              "      <td>Benign</td>\n",
              "    </tr>\n",
              "  </tbody>\n",
              "</table>\n",
              "<p>1048575 rows × 80 columns</p>\n",
              "</div>\n",
              "      <button class=\"colab-df-convert\" onclick=\"convertToInteractive('df-6bc9663a-7e13-41b0-af21-aee9a3079d82')\"\n",
              "              title=\"Convert this dataframe to an interactive table.\"\n",
              "              style=\"display:none;\">\n",
              "        \n",
              "  <svg xmlns=\"http://www.w3.org/2000/svg\" height=\"24px\"viewBox=\"0 0 24 24\"\n",
              "       width=\"24px\">\n",
              "    <path d=\"M0 0h24v24H0V0z\" fill=\"none\"/>\n",
              "    <path d=\"M18.56 5.44l.94 2.06.94-2.06 2.06-.94-2.06-.94-.94-2.06-.94 2.06-2.06.94zm-11 1L8.5 8.5l.94-2.06 2.06-.94-2.06-.94L8.5 2.5l-.94 2.06-2.06.94zm10 10l.94 2.06.94-2.06 2.06-.94-2.06-.94-.94-2.06-.94 2.06-2.06.94z\"/><path d=\"M17.41 7.96l-1.37-1.37c-.4-.4-.92-.59-1.43-.59-.52 0-1.04.2-1.43.59L10.3 9.45l-7.72 7.72c-.78.78-.78 2.05 0 2.83L4 21.41c.39.39.9.59 1.41.59.51 0 1.02-.2 1.41-.59l7.78-7.78 2.81-2.81c.8-.78.8-2.07 0-2.86zM5.41 20L4 18.59l7.72-7.72 1.47 1.35L5.41 20z\"/>\n",
              "  </svg>\n",
              "      </button>\n",
              "      \n",
              "  <style>\n",
              "    .colab-df-container {\n",
              "      display:flex;\n",
              "      flex-wrap:wrap;\n",
              "      gap: 12px;\n",
              "    }\n",
              "\n",
              "    .colab-df-convert {\n",
              "      background-color: #E8F0FE;\n",
              "      border: none;\n",
              "      border-radius: 50%;\n",
              "      cursor: pointer;\n",
              "      display: none;\n",
              "      fill: #1967D2;\n",
              "      height: 32px;\n",
              "      padding: 0 0 0 0;\n",
              "      width: 32px;\n",
              "    }\n",
              "\n",
              "    .colab-df-convert:hover {\n",
              "      background-color: #E2EBFA;\n",
              "      box-shadow: 0px 1px 2px rgba(60, 64, 67, 0.3), 0px 1px 3px 1px rgba(60, 64, 67, 0.15);\n",
              "      fill: #174EA6;\n",
              "    }\n",
              "\n",
              "    [theme=dark] .colab-df-convert {\n",
              "      background-color: #3B4455;\n",
              "      fill: #D2E3FC;\n",
              "    }\n",
              "\n",
              "    [theme=dark] .colab-df-convert:hover {\n",
              "      background-color: #434B5C;\n",
              "      box-shadow: 0px 1px 3px 1px rgba(0, 0, 0, 0.15);\n",
              "      filter: drop-shadow(0px 1px 2px rgba(0, 0, 0, 0.3));\n",
              "      fill: #FFFFFF;\n",
              "    }\n",
              "  </style>\n",
              "\n",
              "      <script>\n",
              "        const buttonEl =\n",
              "          document.querySelector('#df-6bc9663a-7e13-41b0-af21-aee9a3079d82 button.colab-df-convert');\n",
              "        buttonEl.style.display =\n",
              "          google.colab.kernel.accessAllowed ? 'block' : 'none';\n",
              "\n",
              "        async function convertToInteractive(key) {\n",
              "          const element = document.querySelector('#df-6bc9663a-7e13-41b0-af21-aee9a3079d82');\n",
              "          const dataTable =\n",
              "            await google.colab.kernel.invokeFunction('convertToInteractive',\n",
              "                                                     [key], {});\n",
              "          if (!dataTable) return;\n",
              "\n",
              "          const docLinkHtml = 'Like what you see? Visit the ' +\n",
              "            '<a target=\"_blank\" href=https://colab.research.google.com/notebooks/data_table.ipynb>data table notebook</a>'\n",
              "            + ' to learn more about interactive tables.';\n",
              "          element.innerHTML = '';\n",
              "          dataTable['output_type'] = 'display_data';\n",
              "          await google.colab.output.renderOutput(dataTable, element);\n",
              "          const docLink = document.createElement('div');\n",
              "          docLink.innerHTML = docLinkHtml;\n",
              "          element.appendChild(docLink);\n",
              "        }\n",
              "      </script>\n",
              "    </div>\n",
              "  </div>\n",
              "  "
            ]
          },
          "metadata": {},
          "execution_count": 48
        }
      ],
      "source": [
        "#Display the dataset\n",
        "IDS"
      ]
    },
    {
      "cell_type": "code",
      "execution_count": 49,
      "metadata": {
        "id": "V5b755WXYyF2"
      },
      "outputs": [],
      "source": [
        "#Load Dataframe with featured columns\n",
        "IDS_pd = pd.DataFrame(IDS,columns=['Flow IAT Max','Flow IAT Min'])"
      ]
    },
    {
      "cell_type": "code",
      "execution_count": 50,
      "metadata": {
        "id": "k03JHU6bgrhy"
      },
      "outputs": [],
      "source": [
        "#Calculate covariance\n",
        "covariance=IDS_pd.cov()"
      ]
    },
    {
      "cell_type": "code",
      "execution_count": 51,
      "metadata": {
        "colab": {
          "base_uri": "https://localhost:8080/",
          "height": 112
        },
        "id": "nyl-9ENqg9TD",
        "outputId": "cbd80e64-74bf-47ab-d63d-7f7f9f8839dd"
      },
      "outputs": [
        {
          "output_type": "execute_result",
          "data": {
            "text/plain": [
              "              Flow IAT Max  Flow IAT Min\n",
              "Flow IAT Max  2.341283e+18 -2.286718e+18\n",
              "Flow IAT Min -2.286718e+18  2.692243e+18"
            ],
            "text/html": [
              "\n",
              "  <div id=\"df-bdf23119-8531-413e-a6b0-af6699a606b4\">\n",
              "    <div class=\"colab-df-container\">\n",
              "      <div>\n",
              "<style scoped>\n",
              "    .dataframe tbody tr th:only-of-type {\n",
              "        vertical-align: middle;\n",
              "    }\n",
              "\n",
              "    .dataframe tbody tr th {\n",
              "        vertical-align: top;\n",
              "    }\n",
              "\n",
              "    .dataframe thead th {\n",
              "        text-align: right;\n",
              "    }\n",
              "</style>\n",
              "<table border=\"1\" class=\"dataframe\">\n",
              "  <thead>\n",
              "    <tr style=\"text-align: right;\">\n",
              "      <th></th>\n",
              "      <th>Flow IAT Max</th>\n",
              "      <th>Flow IAT Min</th>\n",
              "    </tr>\n",
              "  </thead>\n",
              "  <tbody>\n",
              "    <tr>\n",
              "      <th>Flow IAT Max</th>\n",
              "      <td>2.341283e+18</td>\n",
              "      <td>-2.286718e+18</td>\n",
              "    </tr>\n",
              "    <tr>\n",
              "      <th>Flow IAT Min</th>\n",
              "      <td>-2.286718e+18</td>\n",
              "      <td>2.692243e+18</td>\n",
              "    </tr>\n",
              "  </tbody>\n",
              "</table>\n",
              "</div>\n",
              "      <button class=\"colab-df-convert\" onclick=\"convertToInteractive('df-bdf23119-8531-413e-a6b0-af6699a606b4')\"\n",
              "              title=\"Convert this dataframe to an interactive table.\"\n",
              "              style=\"display:none;\">\n",
              "        \n",
              "  <svg xmlns=\"http://www.w3.org/2000/svg\" height=\"24px\"viewBox=\"0 0 24 24\"\n",
              "       width=\"24px\">\n",
              "    <path d=\"M0 0h24v24H0V0z\" fill=\"none\"/>\n",
              "    <path d=\"M18.56 5.44l.94 2.06.94-2.06 2.06-.94-2.06-.94-.94-2.06-.94 2.06-2.06.94zm-11 1L8.5 8.5l.94-2.06 2.06-.94-2.06-.94L8.5 2.5l-.94 2.06-2.06.94zm10 10l.94 2.06.94-2.06 2.06-.94-2.06-.94-.94-2.06-.94 2.06-2.06.94z\"/><path d=\"M17.41 7.96l-1.37-1.37c-.4-.4-.92-.59-1.43-.59-.52 0-1.04.2-1.43.59L10.3 9.45l-7.72 7.72c-.78.78-.78 2.05 0 2.83L4 21.41c.39.39.9.59 1.41.59.51 0 1.02-.2 1.41-.59l7.78-7.78 2.81-2.81c.8-.78.8-2.07 0-2.86zM5.41 20L4 18.59l7.72-7.72 1.47 1.35L5.41 20z\"/>\n",
              "  </svg>\n",
              "      </button>\n",
              "      \n",
              "  <style>\n",
              "    .colab-df-container {\n",
              "      display:flex;\n",
              "      flex-wrap:wrap;\n",
              "      gap: 12px;\n",
              "    }\n",
              "\n",
              "    .colab-df-convert {\n",
              "      background-color: #E8F0FE;\n",
              "      border: none;\n",
              "      border-radius: 50%;\n",
              "      cursor: pointer;\n",
              "      display: none;\n",
              "      fill: #1967D2;\n",
              "      height: 32px;\n",
              "      padding: 0 0 0 0;\n",
              "      width: 32px;\n",
              "    }\n",
              "\n",
              "    .colab-df-convert:hover {\n",
              "      background-color: #E2EBFA;\n",
              "      box-shadow: 0px 1px 2px rgba(60, 64, 67, 0.3), 0px 1px 3px 1px rgba(60, 64, 67, 0.15);\n",
              "      fill: #174EA6;\n",
              "    }\n",
              "\n",
              "    [theme=dark] .colab-df-convert {\n",
              "      background-color: #3B4455;\n",
              "      fill: #D2E3FC;\n",
              "    }\n",
              "\n",
              "    [theme=dark] .colab-df-convert:hover {\n",
              "      background-color: #434B5C;\n",
              "      box-shadow: 0px 1px 3px 1px rgba(0, 0, 0, 0.15);\n",
              "      filter: drop-shadow(0px 1px 2px rgba(0, 0, 0, 0.3));\n",
              "      fill: #FFFFFF;\n",
              "    }\n",
              "  </style>\n",
              "\n",
              "      <script>\n",
              "        const buttonEl =\n",
              "          document.querySelector('#df-bdf23119-8531-413e-a6b0-af6699a606b4 button.colab-df-convert');\n",
              "        buttonEl.style.display =\n",
              "          google.colab.kernel.accessAllowed ? 'block' : 'none';\n",
              "\n",
              "        async function convertToInteractive(key) {\n",
              "          const element = document.querySelector('#df-bdf23119-8531-413e-a6b0-af6699a606b4');\n",
              "          const dataTable =\n",
              "            await google.colab.kernel.invokeFunction('convertToInteractive',\n",
              "                                                     [key], {});\n",
              "          if (!dataTable) return;\n",
              "\n",
              "          const docLinkHtml = 'Like what you see? Visit the ' +\n",
              "            '<a target=\"_blank\" href=https://colab.research.google.com/notebooks/data_table.ipynb>data table notebook</a>'\n",
              "            + ' to learn more about interactive tables.';\n",
              "          element.innerHTML = '';\n",
              "          dataTable['output_type'] = 'display_data';\n",
              "          await google.colab.output.renderOutput(dataTable, element);\n",
              "          const docLink = document.createElement('div');\n",
              "          docLink.innerHTML = docLinkHtml;\n",
              "          element.appendChild(docLink);\n",
              "        }\n",
              "      </script>\n",
              "    </div>\n",
              "  </div>\n",
              "  "
            ]
          },
          "metadata": {},
          "execution_count": 51
        }
      ],
      "source": [
        "#Display the content\n",
        "covariance"
      ]
    },
    {
      "cell_type": "code",
      "execution_count": 52,
      "metadata": {
        "colab": {
          "base_uri": "https://localhost:8080/",
          "height": 294
        },
        "id": "v-rTDtr2hI7f",
        "outputId": "b91cf1c7-6ce0-4a3d-d6a0-015a4f9f933f"
      },
      "outputs": [
        {
          "output_type": "execute_result",
          "data": {
            "text/plain": [
              "<matplotlib.axes._subplots.AxesSubplot at 0x7fd5968546d0>"
            ]
          },
          "metadata": {},
          "execution_count": 52
        },
        {
          "output_type": "display_data",
          "data": {
            "text/plain": [
              "<Figure size 432x288 with 2 Axes>"
            ],
            "image/png": "[encoded data removed]"
          },
          "metadata": {
            "needs_background": "light"
          }
        }
      ],
      "source": [
        "#Using heatmap\n",
        "sns.heatmap(covariance,xticklabels=covariance.columns,yticklabels=covariance.columns,annot=True)"
      ]
    },
    {
      "cell_type": "code",
      "execution_count": 53,
      "metadata": {
        "id": "5TifogT2Yxq_"
      },
      "outputs": [],
      "source": [
        "correlation=IDS_pd.corr()"
      ]
    },
    {
      "cell_type": "code",
      "execution_count": 54,
      "metadata": {
        "colab": {
          "base_uri": "https://localhost:8080/",
          "height": 112
        },
        "id": "fYtgcn4wZ8y7",
        "outputId": "386bfdb3-0cd1-4fa2-ecf0-b94ad5b5b67e"
      },
      "outputs": [
        {
          "output_type": "execute_result",
          "data": {
            "text/plain": [
              "              Flow IAT Max  Flow IAT Min\n",
              "Flow IAT Max      1.000000     -0.910812\n",
              "Flow IAT Min     -0.910812      1.000000"
            ],
            "text/html": [
              "\n",
              "  <div id=\"df-eb0a639a-2ca0-47b5-876f-6ccde7f943f4\">\n",
              "    <div class=\"colab-df-container\">\n",
              "      <div>\n",
              "<style scoped>\n",
              "    .dataframe tbody tr th:only-of-type {\n",
              "        vertical-align: middle;\n",
              "    }\n",
              "\n",
              "    .dataframe tbody tr th {\n",
              "        vertical-align: top;\n",
              "    }\n",
              "\n",
              "    .dataframe thead th {\n",
              "        text-align: right;\n",
              "    }\n",
              "</style>\n",
              "<table border=\"1\" class=\"dataframe\">\n",
              "  <thead>\n",
              "    <tr style=\"text-align: right;\">\n",
              "      <th></th>\n",
              "      <th>Flow IAT Max</th>\n",
              "      <th>Flow IAT Min</th>\n",
              "    </tr>\n",
              "  </thead>\n",
              "  <tbody>\n",
              "    <tr>\n",
              "      <th>Flow IAT Max</th>\n",
              "      <td>1.000000</td>\n",
              "      <td>-0.910812</td>\n",
              "    </tr>\n",
              "    <tr>\n",
              "      <th>Flow IAT Min</th>\n",
              "      <td>-0.910812</td>\n",
              "      <td>1.000000</td>\n",
              "    </tr>\n",
              "  </tbody>\n",
              "</table>\n",
              "</div>\n",
              "      <button class=\"colab-df-convert\" onclick=\"convertToInteractive('df-eb0a639a-2ca0-47b5-876f-6ccde7f943f4')\"\n",
              "              title=\"Convert this dataframe to an interactive table.\"\n",
              "              style=\"display:none;\">\n",
              "        \n",
              "  <svg xmlns=\"http://www.w3.org/2000/svg\" height=\"24px\"viewBox=\"0 0 24 24\"\n",
              "       width=\"24px\">\n",
              "    <path d=\"M0 0h24v24H0V0z\" fill=\"none\"/>\n",
              "    <path d=\"M18.56 5.44l.94 2.06.94-2.06 2.06-.94-2.06-.94-.94-2.06-.94 2.06-2.06.94zm-11 1L8.5 8.5l.94-2.06 2.06-.94-2.06-.94L8.5 2.5l-.94 2.06-2.06.94zm10 10l.94 2.06.94-2.06 2.06-.94-2.06-.94-.94-2.06-.94 2.06-2.06.94z\"/><path d=\"M17.41 7.96l-1.37-1.37c-.4-.4-.92-.59-1.43-.59-.52 0-1.04.2-1.43.59L10.3 9.45l-7.72 7.72c-.78.78-.78 2.05 0 2.83L4 21.41c.39.39.9.59 1.41.59.51 0 1.02-.2 1.41-.59l7.78-7.78 2.81-2.81c.8-.78.8-2.07 0-2.86zM5.41 20L4 18.59l7.72-7.72 1.47 1.35L5.41 20z\"/>\n",
              "  </svg>\n",
              "      </button>\n",
              "      \n",
              "  <style>\n",
              "    .colab-df-container {\n",
              "      display:flex;\n",
              "      flex-wrap:wrap;\n",
              "      gap: 12px;\n",
              "    }\n",
              "\n",
              "    .colab-df-convert {\n",
              "      background-color: #E8F0FE;\n",
              "      border: none;\n",
              "      border-radius: 50%;\n",
              "      cursor: pointer;\n",
              "      display: none;\n",
              "      fill: #1967D2;\n",
              "      height: 32px;\n",
              "      padding: 0 0 0 0;\n",
              "      width: 32px;\n",
              "    }\n",
              "\n",
              "    .colab-df-convert:hover {\n",
              "      background-color: #E2EBFA;\n",
              "      box-shadow: 0px 1px 2px rgba(60, 64, 67, 0.3), 0px 1px 3px 1px rgba(60, 64, 67, 0.15);\n",
              "      fill: #174EA6;\n",
              "    }\n",
              "\n",
              "    [theme=dark] .colab-df-convert {\n",
              "      background-color: #3B4455;\n",
              "      fill: #D2E3FC;\n",
              "    }\n",
              "\n",
              "    [theme=dark] .colab-df-convert:hover {\n",
              "      background-color: #434B5C;\n",
              "      box-shadow: 0px 1px 3px 1px rgba(0, 0, 0, 0.15);\n",
              "      filter: drop-shadow(0px 1px 2px rgba(0, 0, 0, 0.3));\n",
              "      fill: #FFFFFF;\n",
              "    }\n",
              "  </style>\n",
              "\n",
              "      <script>\n",
              "        const buttonEl =\n",
              "          document.querySelector('#df-eb0a639a-2ca0-47b5-876f-6ccde7f943f4 button.colab-df-convert');\n",
              "        buttonEl.style.display =\n",
              "          google.colab.kernel.accessAllowed ? 'block' : 'none';\n",
              "\n",
              "        async function convertToInteractive(key) {\n",
              "          const element = document.querySelector('#df-eb0a639a-2ca0-47b5-876f-6ccde7f943f4');\n",
              "          const dataTable =\n",
              "            await google.colab.kernel.invokeFunction('convertToInteractive',\n",
              "                                                     [key], {});\n",
              "          if (!dataTable) return;\n",
              "\n",
              "          const docLinkHtml = 'Like what you see? Visit the ' +\n",
              "            '<a target=\"_blank\" href=https://colab.research.google.com/notebooks/data_table.ipynb>data table notebook</a>'\n",
              "            + ' to learn more about interactive tables.';\n",
              "          element.innerHTML = '';\n",
              "          dataTable['output_type'] = 'display_data';\n",
              "          await google.colab.output.renderOutput(dataTable, element);\n",
              "          const docLink = document.createElement('div');\n",
              "          docLink.innerHTML = docLinkHtml;\n",
              "          element.appendChild(docLink);\n",
              "        }\n",
              "      </script>\n",
              "    </div>\n",
              "  </div>\n",
              "  "
            ]
          },
          "metadata": {},
          "execution_count": 54
        }
      ],
      "source": [
        "correlation"
      ]
    },
    {
      "cell_type": "code",
      "execution_count": 55,
      "metadata": {
        "colab": {
          "base_uri": "https://localhost:8080/",
          "height": 287
        },
        "id": "JY4MiOIwaBCP",
        "outputId": "e1c825b2-1241-4073-d6f4-eeab9ae8a741"
      },
      "outputs": [
        {
          "output_type": "execute_result",
          "data": {
            "text/plain": [
              "<matplotlib.axes._subplots.AxesSubplot at 0x7fd5935c9910>"
            ]
          },
          "metadata": {},
          "execution_count": 55
        },
        {
          "output_type": "display_data",
          "data": {
            "text/plain": [
              "<Figure size 432x288 with 2 Axes>"
            ],
            "image/png": "[encoded data removed]"
          },
          "metadata": {
            "needs_background": "light"
          }
        }
      ],
      "source": [
        "#Visualization using seaborn\n",
        "sns.heatmap(correlation,xticklabels=correlation.columns,yticklabels=correlation.columns,annot=True)"
      ]
    },
    {
      "cell_type": "code",
      "execution_count": 56,
      "metadata": {
        "id": "XsCBN6zKiXCa"
      },
      "outputs": [],
      "source": [
        "# Analytical method 3: Hypothesis Testing method for testing the Mean size of packets in the backward direction are Normal Distribution or not\n",
        "\n",
        "#Import required Libraries\n",
        "import pandas as pd\n",
        "import numpy as np\n",
        "import seaborn as sns\n"
      ]
    },
    {
      "cell_type": "code",
      "execution_count": 57,
      "metadata": {
        "colab": {
          "base_uri": "https://localhost:8080/",
          "height": 693
        },
        "id": "JYOUKXLyFBYV",
        "outputId": "4a9670e9-6480-42fb-f6ec-c6a9e0c782bb"
      },
      "outputs": [
        {
          "output_type": "execute_result",
          "data": {
            "text/plain": [
              "         Dst Port  Protocol            Timestamp  Flow Duration  Tot Fwd Pkts  \\\n",
              "0               0         0  14/02/2018 08:31:01      112641719             3   \n",
              "1               0         0  14/02/2018 08:33:50      112641466             3   \n",
              "2               0         0  14/02/2018 08:36:39      112638623             3   \n",
              "3              22         6  14/02/2018 08:40:13        6453966            15   \n",
              "4              22         6  14/02/2018 08:40:23        8804066            14   \n",
              "...           ...       ...                  ...            ...           ...   \n",
              "1048570        80         6  14/02/2018 10:53:23       10156986             5   \n",
              "1048571        80         6  14/02/2018 10:53:33            117             2   \n",
              "1048572        80         6  14/02/2018 10:53:28        5095331             3   \n",
              "1048573        80         6  14/02/2018 10:53:28        5235511             3   \n",
              "1048574       443         6  14/02/2018 10:53:28        5807256             6   \n",
              "\n",
              "         Tot Bwd Pkts  TotLen Fwd Pkts  TotLen Bwd Pkts  Fwd Pkt Len Max  \\\n",
              "0                   0                0                0                0   \n",
              "1                   0                0                0                0   \n",
              "2                   0                0                0                0   \n",
              "3                  10             1239             2273              744   \n",
              "4                  11             1143             2209              744   \n",
              "...               ...              ...              ...              ...   \n",
              "1048570             5             1089             1923              587   \n",
              "1048571             0                0                0                0   \n",
              "1048572             1                0                0                0   \n",
              "1048573             1                0                0                0   \n",
              "1048574             4              327              145              245   \n",
              "\n",
              "         Fwd Pkt Len Min  ...  Fwd Seg Size Min  Active Mean  Active Std  \\\n",
              "0                      0  ...                 0          0.0         0.0   \n",
              "1                      0  ...                 0          0.0         0.0   \n",
              "2                      0  ...                 0          0.0         0.0   \n",
              "3                      0  ...                32          0.0         0.0   \n",
              "4                      0  ...                32          0.0         0.0   \n",
              "...                  ...  ...               ...          ...         ...   \n",
              "1048570                0  ...                20          0.0         0.0   \n",
              "1048571                0  ...                20          0.0         0.0   \n",
              "1048572                0  ...                20          0.0         0.0   \n",
              "1048573                0  ...                20          0.0         0.0   \n",
              "1048574                0  ...                20     291569.0         0.0   \n",
              "\n",
              "         Active Max  Active Min   Idle Mean    Idle Std  Idle Max  Idle Min  \\\n",
              "0                 0           0  56320859.5  139.300036  56320958  56320761   \n",
              "1                 0           0  56320733.0  114.551299  56320814  56320652   \n",
              "2                 0           0  56319311.5  301.934596  56319525  56319098   \n",
              "3                 0           0         0.0    0.000000         0         0   \n",
              "4                 0           0         0.0    0.000000         0         0   \n",
              "...             ...         ...         ...         ...       ...       ...   \n",
              "1048570           0           0         0.0    0.000000         0         0   \n",
              "1048571           0           0         0.0    0.000000         0         0   \n",
              "1048572           0           0         0.0    0.000000         0         0   \n",
              "1048573           0           0         0.0    0.000000         0         0   \n",
              "1048574      291569      291569   5515650.0    0.000000   5515650   5515650   \n",
              "\n",
              "          Label  \n",
              "0        Benign  \n",
              "1        Benign  \n",
              "2        Benign  \n",
              "3        Benign  \n",
              "4        Benign  \n",
              "...         ...  \n",
              "1048570  Benign  \n",
              "1048571  Benign  \n",
              "1048572  Benign  \n",
              "1048573  Benign  \n",
              "1048574  Benign  \n",
              "\n",
              "[1048575 rows x 80 columns]"
            ],
            "text/html": [
              "\n",
              "  <div id=\"df-409999d8-1ba9-4c9d-9d15-09827696140f\">\n",
              "    <div class=\"colab-df-container\">\n",
              "      <div>\n",
              "<style scoped>\n",
              "    .dataframe tbody tr th:only-of-type {\n",
              "        vertical-align: middle;\n",
              "    }\n",
              "\n",
              "    .dataframe tbody tr th {\n",
              "        vertical-align: top;\n",
              "    }\n",
              "\n",
              "    .dataframe thead th {\n",
              "        text-align: right;\n",
              "    }\n",
              "</style>\n",
              "<table border=\"1\" class=\"dataframe\">\n",
              "  <thead>\n",
              "    <tr style=\"text-align: right;\">\n",
              "      <th></th>\n",
              "      <th>Dst Port</th>\n",
              "      <th>Protocol</th>\n",
              "      <th>Timestamp</th>\n",
              "      <th>Flow Duration</th>\n",
              "      <th>Tot Fwd Pkts</th>\n",
              "      <th>Tot Bwd Pkts</th>\n",
              "      <th>TotLen Fwd Pkts</th>\n",
              "      <th>TotLen Bwd Pkts</th>\n",
              "      <th>Fwd Pkt Len Max</th>\n",
              "      <th>Fwd Pkt Len Min</th>\n",
              "      <th>...</th>\n",
              "      <th>Fwd Seg Size Min</th>\n",
              "      <th>Active Mean</th>\n",
              "      <th>Active Std</th>\n",
              "      <th>Active Max</th>\n",
              "      <th>Active Min</th>\n",
              "      <th>Idle Mean</th>\n",
              "      <th>Idle Std</th>\n",
              "      <th>Idle Max</th>\n",
              "      <th>Idle Min</th>\n",
              "      <th>Label</th>\n",
              "    </tr>\n",
              "  </thead>\n",
              "  <tbody>\n",
              "    <tr>\n",
              "      <th>0</th>\n",
              "      <td>0</td>\n",
              "      <td>0</td>\n",
              "      <td>14/02/2018 08:31:01</td>\n",
              "      <td>112641719</td>\n",
              "      <td>3</td>\n",
              "      <td>0</td>\n",
              "      <td>0</td>\n",
              "      <td>0</td>\n",
              "      <td>0</td>\n",
              "      <td>0</td>\n",
              "      <td>...</td>\n",
              "      <td>0</td>\n",
              "      <td>0.0</td>\n",
              "      <td>0.0</td>\n",
              "      <td>0</td>\n",
              "      <td>0</td>\n",
              "      <td>56320859.5</td>\n",
              "      <td>139.300036</td>\n",
              "      <td>56320958</td>\n",
              "      <td>56320761</td>\n",
              "      <td>Benign</td>\n",
              "    </tr>\n",
              "    <tr>\n",
              "      <th>1</th>\n",
              "      <td>0</td>\n",
              "      <td>0</td>\n",
              "      <td>14/02/2018 08:33:50</td>\n",
              "      <td>112641466</td>\n",
              "      <td>3</td>\n",
              "      <td>0</td>\n",
              "      <td>0</td>\n",
              "      <td>0</td>\n",
              "      <td>0</td>\n",
              "      <td>0</td>\n",
              "      <td>...</td>\n",
              "      <td>0</td>\n",
              "      <td>0.0</td>\n",
              "      <td>0.0</td>\n",
              "      <td>0</td>\n",
              "      <td>0</td>\n",
              "      <td>56320733.0</td>\n",
              "      <td>114.551299</td>\n",
              "      <td>56320814</td>\n",
              "      <td>56320652</td>\n",
              "      <td>Benign</td>\n",
              "    </tr>\n",
              "    <tr>\n",
              "      <th>2</th>\n",
              "      <td>0</td>\n",
              "      <td>0</td>\n",
              "      <td>14/02/2018 08:36:39</td>\n",
              "      <td>112638623</td>\n",
              "      <td>3</td>\n",
              "      <td>0</td>\n",
              "      <td>0</td>\n",
              "      <td>0</td>\n",
              "      <td>0</td>\n",
              "      <td>0</td>\n",
              "      <td>...</td>\n",
              "      <td>0</td>\n",
              "      <td>0.0</td>\n",
              "      <td>0.0</td>\n",
              "      <td>0</td>\n",
              "      <td>0</td>\n",
              "      <td>56319311.5</td>\n",
              "      <td>301.934596</td>\n",
              "      <td>56319525</td>\n",
              "      <td>56319098</td>\n",
              "      <td>Benign</td>\n",
              "    </tr>\n",
              "    <tr>\n",
              "      <th>3</th>\n",
              "      <td>22</td>\n",
              "      <td>6</td>\n",
              "      <td>14/02/2018 08:40:13</td>\n",
              "      <td>6453966</td>\n",
              "      <td>15</td>\n",
              "      <td>10</td>\n",
              "      <td>1239</td>\n",
              "      <td>2273</td>\n",
              "      <td>744</td>\n",
              "      <td>0</td>\n",
              "      <td>...</td>\n",
              "      <td>32</td>\n",
              "      <td>0.0</td>\n",
              "      <td>0.0</td>\n",
              "      <td>0</td>\n",
              "      <td>0</td>\n",
              "      <td>0.0</td>\n",
              "      <td>0.000000</td>\n",
              "      <td>0</td>\n",
              "      <td>0</td>\n",
              "      <td>Benign</td>\n",
              "    </tr>\n",
              "    <tr>\n",
              "      <th>4</th>\n",
              "      <td>22</td>\n",
              "      <td>6</td>\n",
              "      <td>14/02/2018 08:40:23</td>\n",
              "      <td>8804066</td>\n",
              "      <td>14</td>\n",
              "      <td>11</td>\n",
              "      <td>1143</td>\n",
              "      <td>2209</td>\n",
              "      <td>744</td>\n",
              "      <td>0</td>\n",
              "      <td>...</td>\n",
              "      <td>32</td>\n",
              "      <td>0.0</td>\n",
              "      <td>0.0</td>\n",
              "      <td>0</td>\n",
              "      <td>0</td>\n",
              "      <td>0.0</td>\n",
              "      <td>0.000000</td>\n",
              "      <td>0</td>\n",
              "      <td>0</td>\n",
              "      <td>Benign</td>\n",
              "    </tr>\n",
              "    <tr>\n",
              "      <th>...</th>\n",
              "      <td>...</td>\n",
              "      <td>...</td>\n",
              "      <td>...</td>\n",
              "      <td>...</td>\n",
              "      <td>...</td>\n",
              "      <td>...</td>\n",
              "      <td>...</td>\n",
              "      <td>...</td>\n",
              "      <td>...</td>\n",
              "      <td>...</td>\n",
              "      <td>...</td>\n",
              "      <td>...</td>\n",
              "      <td>...</td>\n",
              "      <td>...</td>\n",
              "      <td>...</td>\n",
              "      <td>...</td>\n",
              "      <td>...</td>\n",
              "      <td>...</td>\n",
              "      <td>...</td>\n",
              "      <td>...</td>\n",
              "      <td>...</td>\n",
              "    </tr>\n",
              "    <tr>\n",
              "      <th>1048570</th>\n",
              "      <td>80</td>\n",
              "      <td>6</td>\n",
              "      <td>14/02/2018 10:53:23</td>\n",
              "      <td>10156986</td>\n",
              "      <td>5</td>\n",
              "      <td>5</td>\n",
              "      <td>1089</td>\n",
              "      <td>1923</td>\n",
              "      <td>587</td>\n",
              "      <td>0</td>\n",
              "      <td>...</td>\n",
              "      <td>20</td>\n",
              "      <td>0.0</td>\n",
              "      <td>0.0</td>\n",
              "      <td>0</td>\n",
              "      <td>0</td>\n",
              "      <td>0.0</td>\n",
              "      <td>0.000000</td>\n",
              "      <td>0</td>\n",
              "      <td>0</td>\n",
              "      <td>Benign</td>\n",
              "    </tr>\n",
              "    <tr>\n",
              "      <th>1048571</th>\n",
              "      <td>80</td>\n",
              "      <td>6</td>\n",
              "      <td>14/02/2018 10:53:33</td>\n",
              "      <td>117</td>\n",
              "      <td>2</td>\n",
              "      <td>0</td>\n",
              "      <td>0</td>\n",
              "      <td>0</td>\n",
              "      <td>0</td>\n",
              "      <td>0</td>\n",
              "      <td>...</td>\n",
              "      <td>20</td>\n",
              "      <td>0.0</td>\n",
              "      <td>0.0</td>\n",
              "      <td>0</td>\n",
              "      <td>0</td>\n",
              "      <td>0.0</td>\n",
              "      <td>0.000000</td>\n",
              "      <td>0</td>\n",
              "      <td>0</td>\n",
              "      <td>Benign</td>\n",
              "    </tr>\n",
              "    <tr>\n",
              "      <th>1048572</th>\n",
              "      <td>80</td>\n",
              "      <td>6</td>\n",
              "      <td>14/02/2018 10:53:28</td>\n",
              "      <td>5095331</td>\n",
              "      <td>3</td>\n",
              "      <td>1</td>\n",
              "      <td>0</td>\n",
              "      <td>0</td>\n",
              "      <td>0</td>\n",
              "      <td>0</td>\n",
              "      <td>...</td>\n",
              "      <td>20</td>\n",
              "      <td>0.0</td>\n",
              "      <td>0.0</td>\n",
              "      <td>0</td>\n",
              "      <td>0</td>\n",
              "      <td>0.0</td>\n",
              "      <td>0.000000</td>\n",
              "      <td>0</td>\n",
              "      <td>0</td>\n",
              "      <td>Benign</td>\n",
              "    </tr>\n",
              "    <tr>\n",
              "      <th>1048573</th>\n",
              "      <td>80</td>\n",
              "      <td>6</td>\n",
              "      <td>14/02/2018 10:53:28</td>\n",
              "      <td>5235511</td>\n",
              "      <td>3</td>\n",
              "      <td>1</td>\n",
              "      <td>0</td>\n",
              "      <td>0</td>\n",
              "      <td>0</td>\n",
              "      <td>0</td>\n",
              "      <td>...</td>\n",
              "      <td>20</td>\n",
              "      <td>0.0</td>\n",
              "      <td>0.0</td>\n",
              "      <td>0</td>\n",
              "      <td>0</td>\n",
              "      <td>0.0</td>\n",
              "      <td>0.000000</td>\n",
              "      <td>0</td>\n",
              "      <td>0</td>\n",
              "      <td>Benign</td>\n",
              "    </tr>\n",
              "    <tr>\n",
              "      <th>1048574</th>\n",
              "      <td>443</td>\n",
              "      <td>6</td>\n",
              "      <td>14/02/2018 10:53:28</td>\n",
              "      <td>5807256</td>\n",
              "      <td>6</td>\n",
              "      <td>4</td>\n",
              "      <td>327</td>\n",
              "      <td>145</td>\n",
              "      <td>245</td>\n",
              "      <td>0</td>\n",
              "      <td>...</td>\n",
              "      <td>20</td>\n",
              "      <td>291569.0</td>\n",
              "      <td>0.0</td>\n",
              "      <td>291569</td>\n",
              "      <td>291569</td>\n",
              "      <td>5515650.0</td>\n",
              "      <td>0.000000</td>\n",
              "      <td>5515650</td>\n",
              "      <td>5515650</td>\n",
              "      <td>Benign</td>\n",
              "    </tr>\n",
              "  </tbody>\n",
              "</table>\n",
              "<p>1048575 rows × 80 columns</p>\n",
              "</div>\n",
              "      <button class=\"colab-df-convert\" onclick=\"convertToInteractive('df-409999d8-1ba9-4c9d-9d15-09827696140f')\"\n",
              "              title=\"Convert this dataframe to an interactive table.\"\n",
              "              style=\"display:none;\">\n",
              "        \n",
              "  <svg xmlns=\"http://www.w3.org/2000/svg\" height=\"24px\"viewBox=\"0 0 24 24\"\n",
              "       width=\"24px\">\n",
              "    <path d=\"M0 0h24v24H0V0z\" fill=\"none\"/>\n",
              "    <path d=\"M18.56 5.44l.94 2.06.94-2.06 2.06-.94-2.06-.94-.94-2.06-.94 2.06-2.06.94zm-11 1L8.5 8.5l.94-2.06 2.06-.94-2.06-.94L8.5 2.5l-.94 2.06-2.06.94zm10 10l.94 2.06.94-2.06 2.06-.94-2.06-.94-.94-2.06-.94 2.06-2.06.94z\"/><path d=\"M17.41 7.96l-1.37-1.37c-.4-.4-.92-.59-1.43-.59-.52 0-1.04.2-1.43.59L10.3 9.45l-7.72 7.72c-.78.78-.78 2.05 0 2.83L4 21.41c.39.39.9.59 1.41.59.51 0 1.02-.2 1.41-.59l7.78-7.78 2.81-2.81c.8-.78.8-2.07 0-2.86zM5.41 20L4 18.59l7.72-7.72 1.47 1.35L5.41 20z\"/>\n",
              "  </svg>\n",
              "      </button>\n",
              "      \n",
              "  <style>\n",
              "    .colab-df-container {\n",
              "      display:flex;\n",
              "      flex-wrap:wrap;\n",
              "      gap: 12px;\n",
              "    }\n",
              "\n",
              "    .colab-df-convert {\n",
              "      background-color: #E8F0FE;\n",
              "      border: none;\n",
              "      border-radius: 50%;\n",
              "      cursor: pointer;\n",
              "      display: none;\n",
              "      fill: #1967D2;\n",
              "      height: 32px;\n",
              "      padding: 0 0 0 0;\n",
              "      width: 32px;\n",
              "    }\n",
              "\n",
              "    .colab-df-convert:hover {\n",
              "      background-color: #E2EBFA;\n",
              "      box-shadow: 0px 1px 2px rgba(60, 64, 67, 0.3), 0px 1px 3px 1px rgba(60, 64, 67, 0.15);\n",
              "      fill: #174EA6;\n",
              "    }\n",
              "\n",
              "    [theme=dark] .colab-df-convert {\n",
              "      background-color: #3B4455;\n",
              "      fill: #D2E3FC;\n",
              "    }\n",
              "\n",
              "    [theme=dark] .colab-df-convert:hover {\n",
              "      background-color: #434B5C;\n",
              "      box-shadow: 0px 1px 3px 1px rgba(0, 0, 0, 0.15);\n",
              "      filter: drop-shadow(0px 1px 2px rgba(0, 0, 0, 0.3));\n",
              "      fill: #FFFFFF;\n",
              "    }\n",
              "  </style>\n",
              "\n",
              "      <script>\n",
              "        const buttonEl =\n",
              "          document.querySelector('#df-409999d8-1ba9-4c9d-9d15-09827696140f button.colab-df-convert');\n",
              "        buttonEl.style.display =\n",
              "          google.colab.kernel.accessAllowed ? 'block' : 'none';\n",
              "\n",
              "        async function convertToInteractive(key) {\n",
              "          const element = document.querySelector('#df-409999d8-1ba9-4c9d-9d15-09827696140f');\n",
              "          const dataTable =\n",
              "            await google.colab.kernel.invokeFunction('convertToInteractive',\n",
              "                                                     [key], {});\n",
              "          if (!dataTable) return;\n",
              "\n",
              "          const docLinkHtml = 'Like what you see? Visit the ' +\n",
              "            '<a target=\"_blank\" href=https://colab.research.google.com/notebooks/data_table.ipynb>data table notebook</a>'\n",
              "            + ' to learn more about interactive tables.';\n",
              "          element.innerHTML = '';\n",
              "          dataTable['output_type'] = 'display_data';\n",
              "          await google.colab.output.renderOutput(dataTable, element);\n",
              "          const docLink = document.createElement('div');\n",
              "          docLink.innerHTML = docLinkHtml;\n",
              "          element.appendChild(docLink);\n",
              "        }\n",
              "      </script>\n",
              "    </div>\n",
              "  </div>\n",
              "  "
            ]
          },
          "metadata": {},
          "execution_count": 57
        }
      ],
      "source": [
        "#Load the CSV file\n",
        "Ids2018_df=pd.read_csv(\"/content/drive/MyDrive/IDS2018/02-14-2018.csv\")\n",
        "Ids2018_df"
      ]
    },
    {
      "cell_type": "code",
      "execution_count": 58,
      "metadata": {
        "colab": {
          "base_uri": "https://localhost:8080/",
          "height": 424
        },
        "id": "vKAdgTRKFE4t",
        "outputId": "deb5c11b-79bf-4954-f7cb-98f7a73db878"
      },
      "outputs": [
        {
          "output_type": "execute_result",
          "data": {
            "text/plain": [
              "         Bwd Pkt Len Mean\n",
              "0                0.000000\n",
              "1                0.000000\n",
              "2                0.000000\n",
              "3              227.300000\n",
              "4              200.818182\n",
              "...                   ...\n",
              "1048570        384.600000\n",
              "1048571          0.000000\n",
              "1048572          0.000000\n",
              "1048573          0.000000\n",
              "1048574         36.250000\n",
              "\n",
              "[1048575 rows x 1 columns]"
            ],
            "text/html": [
              "\n",
              "  <div id=\"df-04ae73c1-7f65-43b6-92a5-289c6ab72edb\">\n",
              "    <div class=\"colab-df-container\">\n",
              "      <div>\n",
              "<style scoped>\n",
              "    .dataframe tbody tr th:only-of-type {\n",
              "        vertical-align: middle;\n",
              "    }\n",
              "\n",
              "    .dataframe tbody tr th {\n",
              "        vertical-align: top;\n",
              "    }\n",
              "\n",
              "    .dataframe thead th {\n",
              "        text-align: right;\n",
              "    }\n",
              "</style>\n",
              "<table border=\"1\" class=\"dataframe\">\n",
              "  <thead>\n",
              "    <tr style=\"text-align: right;\">\n",
              "      <th></th>\n",
              "      <th>Bwd Pkt Len Mean</th>\n",
              "    </tr>\n",
              "  </thead>\n",
              "  <tbody>\n",
              "    <tr>\n",
              "      <th>0</th>\n",
              "      <td>0.000000</td>\n",
              "    </tr>\n",
              "    <tr>\n",
              "      <th>1</th>\n",
              "      <td>0.000000</td>\n",
              "    </tr>\n",
              "    <tr>\n",
              "      <th>2</th>\n",
              "      <td>0.000000</td>\n",
              "    </tr>\n",
              "    <tr>\n",
              "      <th>3</th>\n",
              "      <td>227.300000</td>\n",
              "    </tr>\n",
              "    <tr>\n",
              "      <th>4</th>\n",
              "      <td>200.818182</td>\n",
              "    </tr>\n",
              "    <tr>\n",
              "      <th>...</th>\n",
              "      <td>...</td>\n",
              "    </tr>\n",
              "    <tr>\n",
              "      <th>1048570</th>\n",
              "      <td>384.600000</td>\n",
              "    </tr>\n",
              "    <tr>\n",
              "      <th>1048571</th>\n",
              "      <td>0.000000</td>\n",
              "    </tr>\n",
              "    <tr>\n",
              "      <th>1048572</th>\n",
              "      <td>0.000000</td>\n",
              "    </tr>\n",
              "    <tr>\n",
              "      <th>1048573</th>\n",
              "      <td>0.000000</td>\n",
              "    </tr>\n",
              "    <tr>\n",
              "      <th>1048574</th>\n",
              "      <td>36.250000</td>\n",
              "    </tr>\n",
              "  </tbody>\n",
              "</table>\n",
              "<p>1048575 rows × 1 columns</p>\n",
              "</div>\n",
              "      <button class=\"colab-df-convert\" onclick=\"convertToInteractive('df-04ae73c1-7f65-43b6-92a5-289c6ab72edb')\"\n",
              "              title=\"Convert this dataframe to an interactive table.\"\n",
              "              style=\"display:none;\">\n",
              "        \n",
              "  <svg xmlns=\"http://www.w3.org/2000/svg\" height=\"24px\"viewBox=\"0 0 24 24\"\n",
              "       width=\"24px\">\n",
              "    <path d=\"M0 0h24v24H0V0z\" fill=\"none\"/>\n",
              "    <path d=\"M18.56 5.44l.94 2.06.94-2.06 2.06-.94-2.06-.94-.94-2.06-.94 2.06-2.06.94zm-11 1L8.5 8.5l.94-2.06 2.06-.94-2.06-.94L8.5 2.5l-.94 2.06-2.06.94zm10 10l.94 2.06.94-2.06 2.06-.94-2.06-.94-.94-2.06-.94 2.06-2.06.94z\"/><path d=\"M17.41 7.96l-1.37-1.37c-.4-.4-.92-.59-1.43-.59-.52 0-1.04.2-1.43.59L10.3 9.45l-7.72 7.72c-.78.78-.78 2.05 0 2.83L4 21.41c.39.39.9.59 1.41.59.51 0 1.02-.2 1.41-.59l7.78-7.78 2.81-2.81c.8-.78.8-2.07 0-2.86zM5.41 20L4 18.59l7.72-7.72 1.47 1.35L5.41 20z\"/>\n",
              "  </svg>\n",
              "      </button>\n",
              "      \n",
              "  <style>\n",
              "    .colab-df-container {\n",
              "      display:flex;\n",
              "      flex-wrap:wrap;\n",
              "      gap: 12px;\n",
              "    }\n",
              "\n",
              "    .colab-df-convert {\n",
              "      background-color: #E8F0FE;\n",
              "      border: none;\n",
              "      border-radius: 50%;\n",
              "      cursor: pointer;\n",
              "      display: none;\n",
              "      fill: #1967D2;\n",
              "      height: 32px;\n",
              "      padding: 0 0 0 0;\n",
              "      width: 32px;\n",
              "    }\n",
              "\n",
              "    .colab-df-convert:hover {\n",
              "      background-color: #E2EBFA;\n",
              "      box-shadow: 0px 1px 2px rgba(60, 64, 67, 0.3), 0px 1px 3px 1px rgba(60, 64, 67, 0.15);\n",
              "      fill: #174EA6;\n",
              "    }\n",
              "\n",
              "    [theme=dark] .colab-df-convert {\n",
              "      background-color: #3B4455;\n",
              "      fill: #D2E3FC;\n",
              "    }\n",
              "\n",
              "    [theme=dark] .colab-df-convert:hover {\n",
              "      background-color: #434B5C;\n",
              "      box-shadow: 0px 1px 3px 1px rgba(0, 0, 0, 0.15);\n",
              "      filter: drop-shadow(0px 1px 2px rgba(0, 0, 0, 0.3));\n",
              "      fill: #FFFFFF;\n",
              "    }\n",
              "  </style>\n",
              "\n",
              "      <script>\n",
              "        const buttonEl =\n",
              "          document.querySelector('#df-04ae73c1-7f65-43b6-92a5-289c6ab72edb button.colab-df-convert');\n",
              "        buttonEl.style.display =\n",
              "          google.colab.kernel.accessAllowed ? 'block' : 'none';\n",
              "\n",
              "        async function convertToInteractive(key) {\n",
              "          const element = document.querySelector('#df-04ae73c1-7f65-43b6-92a5-289c6ab72edb');\n",
              "          const dataTable =\n",
              "            await google.colab.kernel.invokeFunction('convertToInteractive',\n",
              "                                                     [key], {});\n",
              "          if (!dataTable) return;\n",
              "\n",
              "          const docLinkHtml = 'Like what you see? Visit the ' +\n",
              "            '<a target=\"_blank\" href=https://colab.research.google.com/notebooks/data_table.ipynb>data table notebook</a>'\n",
              "            + ' to learn more about interactive tables.';\n",
              "          element.innerHTML = '';\n",
              "          dataTable['output_type'] = 'display_data';\n",
              "          await google.colab.output.renderOutput(dataTable, element);\n",
              "          const docLink = document.createElement('div');\n",
              "          docLink.innerHTML = docLinkHtml;\n",
              "          element.appendChild(docLink);\n",
              "        }\n",
              "      </script>\n",
              "    </div>\n",
              "  </div>\n",
              "  "
            ]
          },
          "metadata": {},
          "execution_count": 58
        }
      ],
      "source": [
        "#Create Dataframe with the Required columns\n",
        "Ids2018_df1=pd.DataFrame(Ids2018_df,columns=['Bwd Pkt Len Mean'])\n",
        "Ids2018_df1"
      ]
    },
    {
      "cell_type": "code",
      "execution_count": 59,
      "metadata": {
        "colab": {
          "base_uri": "https://localhost:8080/",
          "height": 320
        },
        "id": "xlctT8A8FHg7",
        "outputId": "28577220-ddd8-483f-eed2-fbcd10a4d0b3"
      },
      "outputs": [
        {
          "output_type": "display_data",
          "data": {
            "text/plain": [
              "<Figure size 360x360 with 1 Axes>"
            ],
            "image/png": "[encoded data removed]"
          },
          "metadata": {
            "needs_background": "light"
          }
        }
      ],
      "source": [
        "#Plot using matplot library\n",
        "import matplotlib\n",
        "from matplotlib import pyplot\n",
        "%matplotlib inline\n",
        "pyplot.figure(figsize=(5,5))\n",
        "pyplot.hist(Ids2018_df['Bwd Pkt Len Mean'])\n",
        "pyplot.show()"
      ]
    },
    {
      "cell_type": "code",
      "execution_count": 60,
      "metadata": {
        "colab": {
          "base_uri": "https://localhost:8080/"
        },
        "id": "LTfyKXcXFRKh",
        "outputId": "d4d99d5e-943a-4946-edf0-14e470eefae9"
      },
      "outputs": [
        {
          "output_type": "stream",
          "name": "stdout",
          "text": [
            "stat=844167.77, p=0.000000000000000000000000000000\n",
            "Not Normally Distributed\n"
          ]
        }
      ],
      "source": [
        "#Using normal Test\n",
        "from scipy.stats import normaltest\n",
        "TestingData= Ids2018_df['Bwd Pkt Len Mean']\n",
        "stat, p=normaltest(TestingData)\n",
        "print('stat=%.2f, p=%.30f'%(stat,p))\n",
        "if p>0.5:\n",
        "  print('Normal')\n",
        "else:\n",
        "  print('Not Normally Distributed')"
      ]
    },
    {
      "cell_type": "code",
      "execution_count": 61,
      "metadata": {
        "id": "FM_3Ih8miXvO"
      },
      "outputs": [],
      "source": [
        "# Analytical method 4: Calculate Mean,Median and Mode for Subflow forward and backward packets\n",
        "#Import required Libraries\n",
        "import pandas as pd\n",
        "import numpy as np\n",
        "import seaborn as sns"
      ]
    },
    {
      "cell_type": "code",
      "execution_count": 62,
      "metadata": {
        "colab": {
          "base_uri": "https://localhost:8080/",
          "height": 693
        },
        "id": "JdaLP3FRcJKz",
        "outputId": "e1441749-2cdf-4ff4-f935-6ff19ca7111d"
      },
      "outputs": [
        {
          "output_type": "execute_result",
          "data": {
            "text/plain": [
              "         Dst Port  Protocol            Timestamp  Flow Duration  Tot Fwd Pkts  \\\n",
              "0               0         0  14/02/2018 08:31:01      112641719             3   \n",
              "1               0         0  14/02/2018 08:33:50      112641466             3   \n",
              "2               0         0  14/02/2018 08:36:39      112638623             3   \n",
              "3              22         6  14/02/2018 08:40:13        6453966            15   \n",
              "4              22         6  14/02/2018 08:40:23        8804066            14   \n",
              "...           ...       ...                  ...            ...           ...   \n",
              "1048570        80         6  14/02/2018 10:53:23       10156986             5   \n",
              "1048571        80         6  14/02/2018 10:53:33            117             2   \n",
              "1048572        80         6  14/02/2018 10:53:28        5095331             3   \n",
              "1048573        80         6  14/02/2018 10:53:28        5235511             3   \n",
              "1048574       443         6  14/02/2018 10:53:28        5807256             6   \n",
              "\n",
              "         Tot Bwd Pkts  TotLen Fwd Pkts  TotLen Bwd Pkts  Fwd Pkt Len Max  \\\n",
              "0                   0                0                0                0   \n",
              "1                   0                0                0                0   \n",
              "2                   0                0                0                0   \n",
              "3                  10             1239             2273              744   \n",
              "4                  11             1143             2209              744   \n",
              "...               ...              ...              ...              ...   \n",
              "1048570             5             1089             1923              587   \n",
              "1048571             0                0                0                0   \n",
              "1048572             1                0                0                0   \n",
              "1048573             1                0                0                0   \n",
              "1048574             4              327              145              245   \n",
              "\n",
              "         Fwd Pkt Len Min  ...  Fwd Seg Size Min  Active Mean  Active Std  \\\n",
              "0                      0  ...                 0          0.0         0.0   \n",
              "1                      0  ...                 0          0.0         0.0   \n",
              "2                      0  ...                 0          0.0         0.0   \n",
              "3                      0  ...                32          0.0         0.0   \n",
              "4                      0  ...                32          0.0         0.0   \n",
              "...                  ...  ...               ...          ...         ...   \n",
              "1048570                0  ...                20          0.0         0.0   \n",
              "1048571                0  ...                20          0.0         0.0   \n",
              "1048572                0  ...                20          0.0         0.0   \n",
              "1048573                0  ...                20          0.0         0.0   \n",
              "1048574                0  ...                20     291569.0         0.0   \n",
              "\n",
              "         Active Max  Active Min   Idle Mean    Idle Std  Idle Max  Idle Min  \\\n",
              "0                 0           0  56320859.5  139.300036  56320958  56320761   \n",
              "1                 0           0  56320733.0  114.551299  56320814  56320652   \n",
              "2                 0           0  56319311.5  301.934596  56319525  56319098   \n",
              "3                 0           0         0.0    0.000000         0         0   \n",
              "4                 0           0         0.0    0.000000         0         0   \n",
              "...             ...         ...         ...         ...       ...       ...   \n",
              "1048570           0           0         0.0    0.000000         0         0   \n",
              "1048571           0           0         0.0    0.000000         0         0   \n",
              "1048572           0           0         0.0    0.000000         0         0   \n",
              "1048573           0           0         0.0    0.000000         0         0   \n",
              "1048574      291569      291569   5515650.0    0.000000   5515650   5515650   \n",
              "\n",
              "          Label  \n",
              "0        Benign  \n",
              "1        Benign  \n",
              "2        Benign  \n",
              "3        Benign  \n",
              "4        Benign  \n",
              "...         ...  \n",
              "1048570  Benign  \n",
              "1048571  Benign  \n",
              "1048572  Benign  \n",
              "1048573  Benign  \n",
              "1048574  Benign  \n",
              "\n",
              "[1048575 rows x 80 columns]"
            ],
            "text/html": [
              "\n",
              "  <div id=\"df-580dafe5-cfec-4ffb-9a29-4360204b6ef9\">\n",
              "    <div class=\"colab-df-container\">\n",
              "      <div>\n",
              "<style scoped>\n",
              "    .dataframe tbody tr th:only-of-type {\n",
              "        vertical-align: middle;\n",
              "    }\n",
              "\n",
              "    .dataframe tbody tr th {\n",
              "        vertical-align: top;\n",
              "    }\n",
              "\n",
              "    .dataframe thead th {\n",
              "        text-align: right;\n",
              "    }\n",
              "</style>\n",
              "<table border=\"1\" class=\"dataframe\">\n",
              "  <thead>\n",
              "    <tr style=\"text-align: right;\">\n",
              "      <th></th>\n",
              "      <th>Dst Port</th>\n",
              "      <th>Protocol</th>\n",
              "      <th>Timestamp</th>\n",
              "      <th>Flow Duration</th>\n",
              "      <th>Tot Fwd Pkts</th>\n",
              "      <th>Tot Bwd Pkts</th>\n",
              "      <th>TotLen Fwd Pkts</th>\n",
              "      <th>TotLen Bwd Pkts</th>\n",
              "      <th>Fwd Pkt Len Max</th>\n",
              "      <th>Fwd Pkt Len Min</th>\n",
              "      <th>...</th>\n",
              "      <th>Fwd Seg Size Min</th>\n",
              "      <th>Active Mean</th>\n",
              "      <th>Active Std</th>\n",
              "      <th>Active Max</th>\n",
              "      <th>Active Min</th>\n",
              "      <th>Idle Mean</th>\n",
              "      <th>Idle Std</th>\n",
              "      <th>Idle Max</th>\n",
              "      <th>Idle Min</th>\n",
              "      <th>Label</th>\n",
              "    </tr>\n",
              "  </thead>\n",
              "  <tbody>\n",
              "    <tr>\n",
              "      <th>0</th>\n",
              "      <td>0</td>\n",
              "      <td>0</td>\n",
              "      <td>14/02/2018 08:31:01</td>\n",
              "      <td>112641719</td>\n",
              "      <td>3</td>\n",
              "      <td>0</td>\n",
              "      <td>0</td>\n",
              "      <td>0</td>\n",
              "      <td>0</td>\n",
              "      <td>0</td>\n",
              "      <td>...</td>\n",
              "      <td>0</td>\n",
              "      <td>0.0</td>\n",
              "      <td>0.0</td>\n",
              "      <td>0</td>\n",
              "      <td>0</td>\n",
              "      <td>56320859.5</td>\n",
              "      <td>139.300036</td>\n",
              "      <td>56320958</td>\n",
              "      <td>56320761</td>\n",
              "      <td>Benign</td>\n",
              "    </tr>\n",
              "    <tr>\n",
              "      <th>1</th>\n",
              "      <td>0</td>\n",
              "      <td>0</td>\n",
              "      <td>14/02/2018 08:33:50</td>\n",
              "      <td>112641466</td>\n",
              "      <td>3</td>\n",
              "      <td>0</td>\n",
              "      <td>0</td>\n",
              "      <td>0</td>\n",
              "      <td>0</td>\n",
              "      <td>0</td>\n",
              "      <td>...</td>\n",
              "      <td>0</td>\n",
              "      <td>0.0</td>\n",
              "      <td>0.0</td>\n",
              "      <td>0</td>\n",
              "      <td>0</td>\n",
              "      <td>56320733.0</td>\n",
              "      <td>114.551299</td>\n",
              "      <td>56320814</td>\n",
              "      <td>56320652</td>\n",
              "      <td>Benign</td>\n",
              "    </tr>\n",
              "    <tr>\n",
              "      <th>2</th>\n",
              "      <td>0</td>\n",
              "      <td>0</td>\n",
              "      <td>14/02/2018 08:36:39</td>\n",
              "      <td>112638623</td>\n",
              "      <td>3</td>\n",
              "      <td>0</td>\n",
              "      <td>0</td>\n",
              "      <td>0</td>\n",
              "      <td>0</td>\n",
              "      <td>0</td>\n",
              "      <td>...</td>\n",
              "      <td>0</td>\n",
              "      <td>0.0</td>\n",
              "      <td>0.0</td>\n",
              "      <td>0</td>\n",
              "      <td>0</td>\n",
              "      <td>56319311.5</td>\n",
              "      <td>301.934596</td>\n",
              "      <td>56319525</td>\n",
              "      <td>56319098</td>\n",
              "      <td>Benign</td>\n",
              "    </tr>\n",
              "    <tr>\n",
              "      <th>3</th>\n",
              "      <td>22</td>\n",
              "      <td>6</td>\n",
              "      <td>14/02/2018 08:40:13</td>\n",
              "      <td>6453966</td>\n",
              "      <td>15</td>\n",
              "      <td>10</td>\n",
              "      <td>1239</td>\n",
              "      <td>2273</td>\n",
              "      <td>744</td>\n",
              "      <td>0</td>\n",
              "      <td>...</td>\n",
              "      <td>32</td>\n",
              "      <td>0.0</td>\n",
              "      <td>0.0</td>\n",
              "      <td>0</td>\n",
              "      <td>0</td>\n",
              "      <td>0.0</td>\n",
              "      <td>0.000000</td>\n",
              "      <td>0</td>\n",
              "      <td>0</td>\n",
              "      <td>Benign</td>\n",
              "    </tr>\n",
              "    <tr>\n",
              "      <th>4</th>\n",
              "      <td>22</td>\n",
              "      <td>6</td>\n",
              "      <td>14/02/2018 08:40:23</td>\n",
              "      <td>8804066</td>\n",
              "      <td>14</td>\n",
              "      <td>11</td>\n",
              "      <td>1143</td>\n",
              "      <td>2209</td>\n",
              "      <td>744</td>\n",
              "      <td>0</td>\n",
              "      <td>...</td>\n",
              "      <td>32</td>\n",
              "      <td>0.0</td>\n",
              "      <td>0.0</td>\n",
              "      <td>0</td>\n",
              "      <td>0</td>\n",
              "      <td>0.0</td>\n",
              "      <td>0.000000</td>\n",
              "      <td>0</td>\n",
              "      <td>0</td>\n",
              "      <td>Benign</td>\n",
              "    </tr>\n",
              "    <tr>\n",
              "      <th>...</th>\n",
              "      <td>...</td>\n",
              "      <td>...</td>\n",
              "      <td>...</td>\n",
              "      <td>...</td>\n",
              "      <td>...</td>\n",
              "      <td>...</td>\n",
              "      <td>...</td>\n",
              "      <td>...</td>\n",
              "      <td>...</td>\n",
              "      <td>...</td>\n",
              "      <td>...</td>\n",
              "      <td>...</td>\n",
              "      <td>...</td>\n",
              "      <td>...</td>\n",
              "      <td>...</td>\n",
              "      <td>...</td>\n",
              "      <td>...</td>\n",
              "      <td>...</td>\n",
              "      <td>...</td>\n",
              "      <td>...</td>\n",
              "      <td>...</td>\n",
              "    </tr>\n",
              "    <tr>\n",
              "      <th>1048570</th>\n",
              "      <td>80</td>\n",
              "      <td>6</td>\n",
              "      <td>14/02/2018 10:53:23</td>\n",
              "      <td>10156986</td>\n",
              "      <td>5</td>\n",
              "      <td>5</td>\n",
              "      <td>1089</td>\n",
              "      <td>1923</td>\n",
              "      <td>587</td>\n",
              "      <td>0</td>\n",
              "      <td>...</td>\n",
              "      <td>20</td>\n",
              "      <td>0.0</td>\n",
              "      <td>0.0</td>\n",
              "      <td>0</td>\n",
              "      <td>0</td>\n",
              "      <td>0.0</td>\n",
              "      <td>0.000000</td>\n",
              "      <td>0</td>\n",
              "      <td>0</td>\n",
              "      <td>Benign</td>\n",
              "    </tr>\n",
              "    <tr>\n",
              "      <th>1048571</th>\n",
              "      <td>80</td>\n",
              "      <td>6</td>\n",
              "      <td>14/02/2018 10:53:33</td>\n",
              "      <td>117</td>\n",
              "      <td>2</td>\n",
              "      <td>0</td>\n",
              "      <td>0</td>\n",
              "      <td>0</td>\n",
              "      <td>0</td>\n",
              "      <td>0</td>\n",
              "      <td>...</td>\n",
              "      <td>20</td>\n",
              "      <td>0.0</td>\n",
              "      <td>0.0</td>\n",
              "      <td>0</td>\n",
              "      <td>0</td>\n",
              "      <td>0.0</td>\n",
              "      <td>0.000000</td>\n",
              "      <td>0</td>\n",
              "      <td>0</td>\n",
              "      <td>Benign</td>\n",
              "    </tr>\n",
              "    <tr>\n",
              "      <th>1048572</th>\n",
              "      <td>80</td>\n",
              "      <td>6</td>\n",
              "      <td>14/02/2018 10:53:28</td>\n",
              "      <td>5095331</td>\n",
              "      <td>3</td>\n",
              "      <td>1</td>\n",
              "      <td>0</td>\n",
              "      <td>0</td>\n",
              "      <td>0</td>\n",
              "      <td>0</td>\n",
              "      <td>...</td>\n",
              "      <td>20</td>\n",
              "      <td>0.0</td>\n",
              "      <td>0.0</td>\n",
              "      <td>0</td>\n",
              "      <td>0</td>\n",
              "      <td>0.0</td>\n",
              "      <td>0.000000</td>\n",
              "      <td>0</td>\n",
              "      <td>0</td>\n",
              "      <td>Benign</td>\n",
              "    </tr>\n",
              "    <tr>\n",
              "      <th>1048573</th>\n",
              "      <td>80</td>\n",
              "      <td>6</td>\n",
              "      <td>14/02/2018 10:53:28</td>\n",
              "      <td>5235511</td>\n",
              "      <td>3</td>\n",
              "      <td>1</td>\n",
              "      <td>0</td>\n",
              "      <td>0</td>\n",
              "      <td>0</td>\n",
              "      <td>0</td>\n",
              "      <td>...</td>\n",
              "      <td>20</td>\n",
              "      <td>0.0</td>\n",
              "      <td>0.0</td>\n",
              "      <td>0</td>\n",
              "      <td>0</td>\n",
              "      <td>0.0</td>\n",
              "      <td>0.000000</td>\n",
              "      <td>0</td>\n",
              "      <td>0</td>\n",
              "      <td>Benign</td>\n",
              "    </tr>\n",
              "    <tr>\n",
              "      <th>1048574</th>\n",
              "      <td>443</td>\n",
              "      <td>6</td>\n",
              "      <td>14/02/2018 10:53:28</td>\n",
              "      <td>5807256</td>\n",
              "      <td>6</td>\n",
              "      <td>4</td>\n",
              "      <td>327</td>\n",
              "      <td>145</td>\n",
              "      <td>245</td>\n",
              "      <td>0</td>\n",
              "      <td>...</td>\n",
              "      <td>20</td>\n",
              "      <td>291569.0</td>\n",
              "      <td>0.0</td>\n",
              "      <td>291569</td>\n",
              "      <td>291569</td>\n",
              "      <td>5515650.0</td>\n",
              "      <td>0.000000</td>\n",
              "      <td>5515650</td>\n",
              "      <td>5515650</td>\n",
              "      <td>Benign</td>\n",
              "    </tr>\n",
              "  </tbody>\n",
              "</table>\n",
              "<p>1048575 rows × 80 columns</p>\n",
              "</div>\n",
              "      <button class=\"colab-df-convert\" onclick=\"convertToInteractive('df-580dafe5-cfec-4ffb-9a29-4360204b6ef9')\"\n",
              "              title=\"Convert this dataframe to an interactive table.\"\n",
              "              style=\"display:none;\">\n",
              "        \n",
              "  <svg xmlns=\"http://www.w3.org/2000/svg\" height=\"24px\"viewBox=\"0 0 24 24\"\n",
              "       width=\"24px\">\n",
              "    <path d=\"M0 0h24v24H0V0z\" fill=\"none\"/>\n",
              "    <path d=\"M18.56 5.44l.94 2.06.94-2.06 2.06-.94-2.06-.94-.94-2.06-.94 2.06-2.06.94zm-11 1L8.5 8.5l.94-2.06 2.06-.94-2.06-.94L8.5 2.5l-.94 2.06-2.06.94zm10 10l.94 2.06.94-2.06 2.06-.94-2.06-.94-.94-2.06-.94 2.06-2.06.94z\"/><path d=\"M17.41 7.96l-1.37-1.37c-.4-.4-.92-.59-1.43-.59-.52 0-1.04.2-1.43.59L10.3 9.45l-7.72 7.72c-.78.78-.78 2.05 0 2.83L4 21.41c.39.39.9.59 1.41.59.51 0 1.02-.2 1.41-.59l7.78-7.78 2.81-2.81c.8-.78.8-2.07 0-2.86zM5.41 20L4 18.59l7.72-7.72 1.47 1.35L5.41 20z\"/>\n",
              "  </svg>\n",
              "      </button>\n",
              "      \n",
              "  <style>\n",
              "    .colab-df-container {\n",
              "      display:flex;\n",
              "      flex-wrap:wrap;\n",
              "      gap: 12px;\n",
              "    }\n",
              "\n",
              "    .colab-df-convert {\n",
              "      background-color: #E8F0FE;\n",
              "      border: none;\n",
              "      border-radius: 50%;\n",
              "      cursor: pointer;\n",
              "      display: none;\n",
              "      fill: #1967D2;\n",
              "      height: 32px;\n",
              "      padding: 0 0 0 0;\n",
              "      width: 32px;\n",
              "    }\n",
              "\n",
              "    .colab-df-convert:hover {\n",
              "      background-color: #E2EBFA;\n",
              "      box-shadow: 0px 1px 2px rgba(60, 64, 67, 0.3), 0px 1px 3px 1px rgba(60, 64, 67, 0.15);\n",
              "      fill: #174EA6;\n",
              "    }\n",
              "\n",
              "    [theme=dark] .colab-df-convert {\n",
              "      background-color: #3B4455;\n",
              "      fill: #D2E3FC;\n",
              "    }\n",
              "\n",
              "    [theme=dark] .colab-df-convert:hover {\n",
              "      background-color: #434B5C;\n",
              "      box-shadow: 0px 1px 3px 1px rgba(0, 0, 0, 0.15);\n",
              "      filter: drop-shadow(0px 1px 2px rgba(0, 0, 0, 0.3));\n",
              "      fill: #FFFFFF;\n",
              "    }\n",
              "  </style>\n",
              "\n",
              "      <script>\n",
              "        const buttonEl =\n",
              "          document.querySelector('#df-580dafe5-cfec-4ffb-9a29-4360204b6ef9 button.colab-df-convert');\n",
              "        buttonEl.style.display =\n",
              "          google.colab.kernel.accessAllowed ? 'block' : 'none';\n",
              "\n",
              "        async function convertToInteractive(key) {\n",
              "          const element = document.querySelector('#df-580dafe5-cfec-4ffb-9a29-4360204b6ef9');\n",
              "          const dataTable =\n",
              "            await google.colab.kernel.invokeFunction('convertToInteractive',\n",
              "                                                     [key], {});\n",
              "          if (!dataTable) return;\n",
              "\n",
              "          const docLinkHtml = 'Like what you see? Visit the ' +\n",
              "            '<a target=\"_blank\" href=https://colab.research.google.com/notebooks/data_table.ipynb>data table notebook</a>'\n",
              "            + ' to learn more about interactive tables.';\n",
              "          element.innerHTML = '';\n",
              "          dataTable['output_type'] = 'display_data';\n",
              "          await google.colab.output.renderOutput(dataTable, element);\n",
              "          const docLink = document.createElement('div');\n",
              "          docLink.innerHTML = docLinkHtml;\n",
              "          element.appendChild(docLink);\n",
              "        }\n",
              "      </script>\n",
              "    </div>\n",
              "  </div>\n",
              "  "
            ]
          },
          "metadata": {},
          "execution_count": 62
        }
      ],
      "source": [
        "#Read CSV file\n",
        "ids_df=pd.read_csv(\"/content/drive/MyDrive/IDS2018/02-14-2018.csv\")\n",
        "ids_df"
      ]
    },
    {
      "cell_type": "code",
      "execution_count": 63,
      "metadata": {
        "colab": {
          "base_uri": "https://localhost:8080/",
          "height": 424
        },
        "id": "DMrzXYTkeUxH",
        "outputId": "2ae8bddb-0274-4802-f78d-f185240d2a81"
      },
      "outputs": [
        {
          "output_type": "execute_result",
          "data": {
            "text/plain": [
              "         Subflow Fwd Pkts  Subflow Bwd Pkts\n",
              "0                       3                 0\n",
              "1                       3                 0\n",
              "2                       3                 0\n",
              "3                      15                10\n",
              "4                      14                11\n",
              "...                   ...               ...\n",
              "1048570                 5                 5\n",
              "1048571                 2                 0\n",
              "1048572                 3                 1\n",
              "1048573                 3                 1\n",
              "1048574                 6                 4\n",
              "\n",
              "[1048575 rows x 2 columns]"
            ],
            "text/html": [
              "\n",
              "  <div id=\"df-e9cd53b7-0315-41ea-84e3-5f31c9c8a597\">\n",
              "    <div class=\"colab-df-container\">\n",
              "      <div>\n",
              "<style scoped>\n",
              "    .dataframe tbody tr th:only-of-type {\n",
              "        vertical-align: middle;\n",
              "    }\n",
              "\n",
              "    .dataframe tbody tr th {\n",
              "        vertical-align: top;\n",
              "    }\n",
              "\n",
              "    .dataframe thead th {\n",
              "        text-align: right;\n",
              "    }\n",
              "</style>\n",
              "<table border=\"1\" class=\"dataframe\">\n",
              "  <thead>\n",
              "    <tr style=\"text-align: right;\">\n",
              "      <th></th>\n",
              "      <th>Subflow Fwd Pkts</th>\n",
              "      <th>Subflow Bwd Pkts</th>\n",
              "    </tr>\n",
              "  </thead>\n",
              "  <tbody>\n",
              "    <tr>\n",
              "      <th>0</th>\n",
              "      <td>3</td>\n",
              "      <td>0</td>\n",
              "    </tr>\n",
              "    <tr>\n",
              "      <th>1</th>\n",
              "      <td>3</td>\n",
              "      <td>0</td>\n",
              "    </tr>\n",
              "    <tr>\n",
              "      <th>2</th>\n",
              "      <td>3</td>\n",
              "      <td>0</td>\n",
              "    </tr>\n",
              "    <tr>\n",
              "      <th>3</th>\n",
              "      <td>15</td>\n",
              "      <td>10</td>\n",
              "    </tr>\n",
              "    <tr>\n",
              "      <th>4</th>\n",
              "      <td>14</td>\n",
              "      <td>11</td>\n",
              "    </tr>\n",
              "    <tr>\n",
              "      <th>...</th>\n",
              "      <td>...</td>\n",
              "      <td>...</td>\n",
              "    </tr>\n",
              "    <tr>\n",
              "      <th>1048570</th>\n",
              "      <td>5</td>\n",
              "      <td>5</td>\n",
              "    </tr>\n",
              "    <tr>\n",
              "      <th>1048571</th>\n",
              "      <td>2</td>\n",
              "      <td>0</td>\n",
              "    </tr>\n",
              "    <tr>\n",
              "      <th>1048572</th>\n",
              "      <td>3</td>\n",
              "      <td>1</td>\n",
              "    </tr>\n",
              "    <tr>\n",
              "      <th>1048573</th>\n",
              "      <td>3</td>\n",
              "      <td>1</td>\n",
              "    </tr>\n",
              "    <tr>\n",
              "      <th>1048574</th>\n",
              "      <td>6</td>\n",
              "      <td>4</td>\n",
              "    </tr>\n",
              "  </tbody>\n",
              "</table>\n",
              "<p>1048575 rows × 2 columns</p>\n",
              "</div>\n",
              "      <button class=\"colab-df-convert\" onclick=\"convertToInteractive('df-e9cd53b7-0315-41ea-84e3-5f31c9c8a597')\"\n",
              "              title=\"Convert this dataframe to an interactive table.\"\n",
              "              style=\"display:none;\">\n",
              "        \n",
              "  <svg xmlns=\"http://www.w3.org/2000/svg\" height=\"24px\"viewBox=\"0 0 24 24\"\n",
              "       width=\"24px\">\n",
              "    <path d=\"M0 0h24v24H0V0z\" fill=\"none\"/>\n",
              "    <path d=\"M18.56 5.44l.94 2.06.94-2.06 2.06-.94-2.06-.94-.94-2.06-.94 2.06-2.06.94zm-11 1L8.5 8.5l.94-2.06 2.06-.94-2.06-.94L8.5 2.5l-.94 2.06-2.06.94zm10 10l.94 2.06.94-2.06 2.06-.94-2.06-.94-.94-2.06-.94 2.06-2.06.94z\"/><path d=\"M17.41 7.96l-1.37-1.37c-.4-.4-.92-.59-1.43-.59-.52 0-1.04.2-1.43.59L10.3 9.45l-7.72 7.72c-.78.78-.78 2.05 0 2.83L4 21.41c.39.39.9.59 1.41.59.51 0 1.02-.2 1.41-.59l7.78-7.78 2.81-2.81c.8-.78.8-2.07 0-2.86zM5.41 20L4 18.59l7.72-7.72 1.47 1.35L5.41 20z\"/>\n",
              "  </svg>\n",
              "      </button>\n",
              "      \n",
              "  <style>\n",
              "    .colab-df-container {\n",
              "      display:flex;\n",
              "      flex-wrap:wrap;\n",
              "      gap: 12px;\n",
              "    }\n",
              "\n",
              "    .colab-df-convert {\n",
              "      background-color: #E8F0FE;\n",
              "      border: none;\n",
              "      border-radius: 50%;\n",
              "      cursor: pointer;\n",
              "      display: none;\n",
              "      fill: #1967D2;\n",
              "      height: 32px;\n",
              "      padding: 0 0 0 0;\n",
              "      width: 32px;\n",
              "    }\n",
              "\n",
              "    .colab-df-convert:hover {\n",
              "      background-color: #E2EBFA;\n",
              "      box-shadow: 0px 1px 2px rgba(60, 64, 67, 0.3), 0px 1px 3px 1px rgba(60, 64, 67, 0.15);\n",
              "      fill: #174EA6;\n",
              "    }\n",
              "\n",
              "    [theme=dark] .colab-df-convert {\n",
              "      background-color: #3B4455;\n",
              "      fill: #D2E3FC;\n",
              "    }\n",
              "\n",
              "    [theme=dark] .colab-df-convert:hover {\n",
              "      background-color: #434B5C;\n",
              "      box-shadow: 0px 1px 3px 1px rgba(0, 0, 0, 0.15);\n",
              "      filter: drop-shadow(0px 1px 2px rgba(0, 0, 0, 0.3));\n",
              "      fill: #FFFFFF;\n",
              "    }\n",
              "  </style>\n",
              "\n",
              "      <script>\n",
              "        const buttonEl =\n",
              "          document.querySelector('#df-e9cd53b7-0315-41ea-84e3-5f31c9c8a597 button.colab-df-convert');\n",
              "        buttonEl.style.display =\n",
              "          google.colab.kernel.accessAllowed ? 'block' : 'none';\n",
              "\n",
              "        async function convertToInteractive(key) {\n",
              "          const element = document.querySelector('#df-e9cd53b7-0315-41ea-84e3-5f31c9c8a597');\n",
              "          const dataTable =\n",
              "            await google.colab.kernel.invokeFunction('convertToInteractive',\n",
              "                                                     [key], {});\n",
              "          if (!dataTable) return;\n",
              "\n",
              "          const docLinkHtml = 'Like what you see? Visit the ' +\n",
              "            '<a target=\"_blank\" href=https://colab.research.google.com/notebooks/data_table.ipynb>data table notebook</a>'\n",
              "            + ' to learn more about interactive tables.';\n",
              "          element.innerHTML = '';\n",
              "          dataTable['output_type'] = 'display_data';\n",
              "          await google.colab.output.renderOutput(dataTable, element);\n",
              "          const docLink = document.createElement('div');\n",
              "          docLink.innerHTML = docLinkHtml;\n",
              "          element.appendChild(docLink);\n",
              "        }\n",
              "      </script>\n",
              "    </div>\n",
              "  </div>\n",
              "  "
            ]
          },
          "metadata": {},
          "execution_count": 63
        }
      ],
      "source": [
        "#Convert into Dataframe with required columns\n",
        "ids_df1=pd.DataFrame(ids_df,columns=['Subflow Fwd Pkts','Subflow Bwd Pkts'])\n",
        "ids_df1"
      ]
    },
    {
      "cell_type": "code",
      "execution_count": 64,
      "metadata": {
        "colab": {
          "base_uri": "https://localhost:8080/"
        },
        "id": "0t72pn1mVYH2",
        "outputId": "9d14f293-e471-45b2-9e06-2172d4a42968"
      },
      "outputs": [
        {
          "output_type": "execute_result",
          "data": {
            "text/plain": [
              "6.206622320768663"
            ]
          },
          "metadata": {},
          "execution_count": 64
        }
      ],
      "source": [
        "#Calculate mean\n",
        "ids_df1[\"Subflow Fwd Pkts\"].mean()"
      ]
    },
    {
      "cell_type": "code",
      "execution_count": 65,
      "metadata": {
        "colab": {
          "base_uri": "https://localhost:8080/"
        },
        "id": "JLEncHrlaaBM",
        "outputId": "a5115894-7b6c-4aa3-9e08-a8f4ab3884e8"
      },
      "outputs": [
        {
          "output_type": "execute_result",
          "data": {
            "text/plain": [
              "2.0"
            ]
          },
          "metadata": {},
          "execution_count": 65
        }
      ],
      "source": [
        "#Calculate median\n",
        "ids_df1[\"Subflow Fwd Pkts\"].median()"
      ]
    },
    {
      "cell_type": "code",
      "execution_count": 66,
      "metadata": {
        "colab": {
          "base_uri": "https://localhost:8080/"
        },
        "id": "wNZmvIojNY0F",
        "outputId": "d71d1354-1e10-4d54-e98f-9d970ab26e39"
      },
      "outputs": [
        {
          "output_type": "execute_result",
          "data": {
            "text/plain": [
              "0    1\n",
              "dtype: int64"
            ]
          },
          "metadata": {},
          "execution_count": 66
        }
      ],
      "source": [
        "#Calculate mode\n",
        "ids_df1[\"Subflow Fwd Pkts\"].mode()"
      ]
    },
    {
      "cell_type": "code",
      "execution_count": 67,
      "metadata": {
        "id": "e8PTC-W8a92Y"
      },
      "outputs": [],
      "source": [
        "#For Visualization using matplotlibrary\n",
        "import matplotlib.pyplot as plt\n"
      ]
    },
    {
      "cell_type": "code",
      "execution_count": 68,
      "metadata": {
        "colab": {
          "base_uri": "https://localhost:8080/",
          "height": 320
        },
        "id": "9NiE78fsau-L",
        "outputId": "2843b218-ebe9-49c0-9f2c-85132b486b81"
      },
      "outputs": [
        {
          "output_type": "display_data",
          "data": {
            "text/plain": [
              "<Figure size 360x360 with 1 Axes>"
            ],
            "image/png": "[encoded data removed]"
          },
          "metadata": {
            "needs_background": "light"
          }
        }
      ],
      "source": [
        "#Plot the mean,median and mode for subflow forward packets visually\n",
        "data=pd.DataFrame(np.random.normal(size=1000))\n",
        "data.plot(kind=\"density\",figsize=(5,5));\n",
        "plt.vlines(ids_df1[\"Subflow Fwd Pkts\"].mean(),ymin=0,ymax=0.4,linewidth=5.0,color=\"green\");\n",
        "plt.vlines(ids_df1[\"Subflow Fwd Pkts\"].median(),ymin=0,ymax=0.4,linewidth=2.0,color=\"orange\");\n",
        "plt.vlines(ids_df1[\"Subflow Fwd Pkts\"].mode(),ymin=0,ymax=0.4,linewidth=2.0,color=\"red\");"
      ]
    },
    {
      "cell_type": "code",
      "execution_count": 69,
      "metadata": {
        "colab": {
          "base_uri": "https://localhost:8080/"
        },
        "id": "qhEJaBXMb2aT",
        "outputId": "85f2f1f4-325d-40fb-8862-331ca10586f1"
      },
      "outputs": [
        {
          "output_type": "execute_result",
          "data": {
            "text/plain": [
              "7.211191378775958"
            ]
          },
          "metadata": {},
          "execution_count": 69
        }
      ],
      "source": [
        "#Calculate mean\n",
        "ids_df1[\"Subflow Bwd Pkts\"].mean()"
      ]
    },
    {
      "cell_type": "code",
      "execution_count": 70,
      "metadata": {
        "colab": {
          "base_uri": "https://localhost:8080/"
        },
        "id": "ne-4wv1vcAtO",
        "outputId": "a03d6b54-5eb4-449b-8eb3-4c997885e762"
      },
      "outputs": [
        {
          "output_type": "execute_result",
          "data": {
            "text/plain": [
              "1.0"
            ]
          },
          "metadata": {},
          "execution_count": 70
        }
      ],
      "source": [
        "#Calculate median\n",
        "ids_df1[\"Subflow Bwd Pkts\"].median()"
      ]
    },
    {
      "cell_type": "code",
      "execution_count": 71,
      "metadata": {
        "colab": {
          "base_uri": "https://localhost:8080/"
        },
        "id": "krmYMC-TcGlM",
        "outputId": "85196fa5-4c91-4136-e1b8-74e66cd48cb8"
      },
      "outputs": [
        {
          "output_type": "execute_result",
          "data": {
            "text/plain": [
              "0    1\n",
              "dtype: int64"
            ]
          },
          "metadata": {},
          "execution_count": 71
        }
      ],
      "source": [
        "#Calculate mode\n",
        "ids_df1[\"Subflow Bwd Pkts\"].mode()"
      ]
    },
    {
      "cell_type": "code",
      "execution_count": 72,
      "metadata": {
        "colab": {
          "base_uri": "https://localhost:8080/",
          "height": 320
        },
        "id": "ehjKlRgDcPLk",
        "outputId": "f7acae39-9604-4e52-c803-96feba406a45"
      },
      "outputs": [
        {
          "output_type": "display_data",
          "data": {
            "text/plain": [
              "<Figure size 360x360 with 1 Axes>"
            ],
            "image/png": "[encoded data removed]"
          },
          "metadata": {
            "needs_background": "light"
          }
        }
      ],
      "source": [
        "#Plot the mean,median and mode for subflow backward packets visually\n",
        "data=pd.DataFrame(np.random.normal(size=10000))\n",
        "data.plot(kind=\"density\",figsize=(5,5));\n",
        "plt.vlines(ids_df1[\"Subflow Bwd Pkts\"].mean(),ymin=0,ymax=0.4,linewidth=5.0,color=\"blue\");\n",
        "plt.vlines(ids_df1[\"Subflow Bwd Pkts\"].median(),ymin=0,ymax=0.4,linewidth=6.0,color=\"black\");\n",
        "plt.vlines(ids_df1[\"Subflow Bwd Pkts\"].mode(),ymin=0,ymax=0.4,linewidth=2.0,color=\"red\");"
      ]
    },
    {
      "cell_type": "code",
      "execution_count": 73,
      "metadata": {
        "id": "x9Jcm2IqiX-B"
      },
      "outputs": [],
      "source": [
        "# Analytical method 5: Correlation Between Maximum,Minimum and Average Size of packets in the Forward Direction to Total Size of Packets in Forward direction.\n",
        "from pyspark.ml.stat import Correlation"
      ]
    },
    {
      "cell_type": "code",
      "execution_count": 74,
      "metadata": {
        "id": "HOYThavOGTYL"
      },
      "outputs": [],
      "source": [
        "#Convert String Character into Float or int Using col function\n",
        "from pyspark.sql.functions import col\n",
        "selected_col = ['Fwd Pkt Len Max','Fwd Pkt Len Min','Fwd Pkt Len Mean','TotLen Fwd Pkts']\n",
        "IDS_selected_columns_df = IDS_df.select(*(col(c).cast(\"float\").alias(c) for c in selected_col))"
      ]
    },
    {
      "cell_type": "code",
      "execution_count": 75,
      "metadata": {
        "colab": {
          "base_uri": "https://localhost:8080/"
        },
        "id": "frYUqP2ilYgn",
        "outputId": "9c6d6753-c743-489e-a86e-76f58276ef39"
      },
      "outputs": [
        {
          "output_type": "execute_result",
          "data": {
            "text/plain": [
              "0.0347031463513535"
            ]
          },
          "metadata": {},
          "execution_count": 75
        }
      ],
      "source": [
        "IDS_selected_columns_df.corr(\"Fwd Pkt Len Max\",\"TotLen Fwd Pkts\")"
      ]
    },
    {
      "cell_type": "code",
      "execution_count": 76,
      "metadata": {
        "colab": {
          "base_uri": "https://localhost:8080/"
        },
        "id": "hYP392FplvUv",
        "outputId": "9fd4410e-c734-4de4-8c35-a08c36b10b09"
      },
      "outputs": [
        {
          "output_type": "execute_result",
          "data": {
            "text/plain": [
              "0.015155313434673585"
            ]
          },
          "metadata": {},
          "execution_count": 76
        }
      ],
      "source": [
        "IDS_selected_columns_df.corr(\"Fwd Pkt Len Min\",\"TotLen Fwd Pkts\")"
      ]
    },
    {
      "cell_type": "code",
      "execution_count": 77,
      "metadata": {
        "colab": {
          "base_uri": "https://localhost:8080/"
        },
        "id": "eh-8hfyllwg0",
        "outputId": "89229e37-214f-48d6-dc5e-a37950f1f653"
      },
      "outputs": [
        {
          "output_type": "execute_result",
          "data": {
            "text/plain": [
              "0.04091507227395353"
            ]
          },
          "metadata": {},
          "execution_count": 77
        }
      ],
      "source": [
        "IDS_selected_columns_df.corr(\"Fwd Pkt Len Mean\",\"TotLen Fwd Pkts\")"
      ]
    },
    {
      "cell_type": "code",
      "execution_count": 78,
      "metadata": {
        "colab": {
          "base_uri": "https://localhost:8080/"
        },
        "id": "895MFL7Ml1eA",
        "outputId": "c5323523-7b9f-4c37-bd38-f51b179a7619"
      },
      "outputs": [
        {
          "output_type": "execute_result",
          "data": {
            "text/plain": [
              "-0.18122981723073042"
            ]
          },
          "metadata": {},
          "execution_count": 78
        }
      ],
      "source": [
        "IDS_selected_columns_df.corr(\"Fwd Pkt Len Max\",\"Fwd Pkt Len Min\")\n"
      ]
    },
    {
      "cell_type": "code",
      "execution_count": 79,
      "metadata": {
        "colab": {
          "base_uri": "https://localhost:8080/"
        },
        "id": "29A2Z-Demist",
        "outputId": "377f5299-aa3f-42e8-ce2b-0ab9ad6d3c8a"
      },
      "outputs": [
        {
          "output_type": "execute_result",
          "data": {
            "text/plain": [
              "0.9127232274615125"
            ]
          },
          "metadata": {},
          "execution_count": 79
        }
      ],
      "source": [
        "IDS_selected_columns_df.corr(\"Fwd Pkt Len Max\",\"Fwd Pkt Len Mean\")"
      ]
    },
    {
      "cell_type": "code",
      "execution_count": 80,
      "metadata": {
        "colab": {
          "base_uri": "https://localhost:8080/"
        },
        "id": "FONIoru_mj1A",
        "outputId": "34aea7b0-9e64-43c1-872e-3b008996760d"
      },
      "outputs": [
        {
          "output_type": "execute_result",
          "data": {
            "text/plain": [
              "1.0"
            ]
          },
          "metadata": {},
          "execution_count": 80
        }
      ],
      "source": [
        "IDS_selected_columns_df.corr(\"TotLen Fwd Pkts\",\"TotLen Fwd Pkts\")"
      ]
    },
    {
      "cell_type": "markdown",
      "metadata": {
        "id": "FjOy24PYks-e"
      },
      "source": [
        "**To calculate Correlation in Dataframe**"
      ]
    },
    {
      "cell_type": "code",
      "execution_count": 81,
      "metadata": {
        "id": "eVE38OBIGWr_"
      },
      "outputs": [],
      "source": [
        "#Create Vector Assembler to merge multiple column into vector column\n",
        "from pyspark.ml.feature import VectorAssembler\n",
        "vector_col =\"correlation-features\"\n",
        "columns=['Fwd Pkt Len Max','Fwd Pkt Len Min','Fwd Pkt Len Mean','TotLen Fwd Pkts']"
      ]
    },
    {
      "cell_type": "code",
      "execution_count": 82,
      "metadata": {
        "id": "hmo1pViRGe0M"
      },
      "outputs": [],
      "source": [
        "#Make an object assembler and create class vector assembler\n",
        "assembler=VectorAssembler(inputCols=columns,outputCol=vector_col)"
      ]
    },
    {
      "cell_type": "code",
      "execution_count": 83,
      "metadata": {
        "colab": {
          "base_uri": "https://localhost:8080/"
        },
        "id": "A_Mq6uvHGhlD",
        "outputId": "0923694c-b6bb-4c97-8560-1b9c3cd7c562"
      },
      "outputs": [
        {
          "output_type": "execute_result",
          "data": {
            "text/plain": [
              "DataFrame[correlation-features: vector]"
            ]
          },
          "metadata": {},
          "execution_count": 83
        }
      ],
      "source": [
        "#Tranform the Dataframe\n",
        "df_vector=assembler.transform(IDS_selected_columns_df).select(vector_col)\n",
        "df_vector"
      ]
    },
    {
      "cell_type": "markdown",
      "metadata": {
        "id": "qF2vJQvnlFJO"
      },
      "source": [
        "**To create Correlation Matrix**"
      ]
    },
    {
      "cell_type": "code",
      "execution_count": 84,
      "metadata": {
        "colab": {
          "base_uri": "https://localhost:8080/"
        },
        "id": "cVe3jRGLGtOk",
        "outputId": "3d40cc90-ef90-49ae-981f-620229cd6dc3"
      },
      "outputs": [
        {
          "output_type": "execute_result",
          "data": {
            "text/plain": [
              "DenseMatrix(4, 4, [1.0, -0.1812, 0.9127, 0.0347, -0.1812, 1.0, 0.068, 0.0152, 0.9127, 0.068, 1.0, 0.0409, 0.0347, 0.0152, 0.0409, 1.0], False)"
            ]
          },
          "metadata": {},
          "execution_count": 84
        }
      ],
      "source": [
        "#Dense matrix creation\n",
        "matrix=Correlation.corr(df_vector,vector_col).collect()[0][0]\n",
        "Correlation.corr(df_vector,vector_col).collect()[0][0]"
      ]
    },
    {
      "cell_type": "code",
      "execution_count": 85,
      "metadata": {
        "colab": {
          "base_uri": "https://localhost:8080/"
        },
        "id": "jG9iUHiNGxOu",
        "outputId": "283c8a87-00fc-4c38-8dbe-dd3293fa31bb"
      },
      "outputs": [
        {
          "output_type": "stream",
          "name": "stdout",
          "text": [
            "[[1.0, -0.18122981723089798, 0.9127232274625791, 0.03470314635101149], [-0.18122981723089798, 1.0, 0.06798463196496148, 0.015155313434567741], [0.9127232274625791, 0.06798463196496148, 1.0, 0.04091507227371828], [0.03470314635101149, 0.015155313434567741, 0.04091507227371828, 1.0]]\n"
          ]
        }
      ],
      "source": [
        "#Convert this matrix into Array and Make list\n",
        "correlationmatrix=matrix.toArray().tolist()\n",
        "print(correlationmatrix)"
      ]
    },
    {
      "cell_type": "code",
      "execution_count": 86,
      "metadata": {
        "colab": {
          "base_uri": "https://localhost:8080/"
        },
        "id": "Ffy6AY2CG00k",
        "outputId": "895ddaa4-59e5-400d-985e-86f662a0c429"
      },
      "outputs": [
        {
          "output_type": "stream",
          "name": "stdout",
          "text": [
            "+--------------------+--------------------+-------------------+--------------------+\n",
            "|     Fwd Pkt Len Max|     Fwd Pkt Len Min|   Fwd Pkt Len Mean|     TotLen Fwd Pkts|\n",
            "+--------------------+--------------------+-------------------+--------------------+\n",
            "|                 1.0|-0.18122981723089798| 0.9127232274625791| 0.03470314635101149|\n",
            "|-0.18122981723089798|                 1.0|0.06798463196496148|0.015155313434567741|\n",
            "|  0.9127232274625791| 0.06798463196496148|                1.0| 0.04091507227371828|\n",
            "| 0.03470314635101149|0.015155313434567741|0.04091507227371828|                 1.0|\n",
            "+--------------------+--------------------+-------------------+--------------------+\n",
            "\n"
          ]
        }
      ],
      "source": [
        "#Convert this Array into Dataframe \n",
        "df_corr=spark.createDataFrame(correlationmatrix,columns)\n",
        "df_corr.show()"
      ]
    },
    {
      "cell_type": "code",
      "execution_count": 87,
      "metadata": {
        "id": "oegpy5NV3sVA"
      },
      "outputs": [],
      "source": [
        "#Import required Libraries\n",
        "import seaborn as sns\n",
        "import pandas as pd"
      ]
    },
    {
      "cell_type": "markdown",
      "metadata": {
        "id": "hjNkHLEg3B1k"
      },
      "source": [
        "**Convert Correlation Dataframe to pandas Dataframe for visualization**"
      ]
    },
    {
      "cell_type": "code",
      "execution_count": 88,
      "metadata": {
        "id": "TYWO_iUt0-r7"
      },
      "outputs": [],
      "source": [
        "pandas_df=df_corr.toPandas()"
      ]
    },
    {
      "cell_type": "code",
      "execution_count": 89,
      "metadata": {
        "colab": {
          "base_uri": "https://localhost:8080/",
          "height": 368
        },
        "id": "b7tgd62a1FB9",
        "outputId": "ba4bc02c-0fb3-4db2-8084-c6353a70485d"
      },
      "outputs": [
        {
          "output_type": "execute_result",
          "data": {
            "text/plain": [
              "<matplotlib.axes._subplots.AxesSubplot at 0x7fd58d915340>"
            ]
          },
          "metadata": {},
          "execution_count": 89
        },
        {
          "output_type": "display_data",
          "data": {
            "text/plain": [
              "<Figure size 432x288 with 2 Axes>"
            ],
            "image/png": "[encoded data removed]"
          },
          "metadata": {
            "needs_background": "light"
          }
        }
      ],
      "source": [
        "#Display the correlation in heatmap\n",
        "sns.heatmap(pandas_df,xticklabels=pandas_df.columns,yticklabels=pandas_df.columns,annot=True)"
      ]
    },
    {
      "cell_type": "markdown",
      "metadata": {
        "id": "wHft1Jht1Qxl"
      },
      "source": [
        "\n",
        "# **Machine Learning using PySpark**\n",
        "\n",
        "---\n"
      ]
    },
    {
      "cell_type": "code",
      "execution_count": 90,
      "metadata": {
        "id": "Km08V_P5_0B8"
      },
      "outputs": [],
      "source": [
        "# Machine Learning Technique 1: Multi Class classification Evaluator\n",
        "# What to achieve: TO Predict Accuracy score \n",
        "#Create dataframe with required columns\n",
        "df = IDS_df.select('Dst Port','Protocol','Label','Flow Duration','Tot Fwd Pkts','Tot Bwd Pkts')"
      ]
    },
    {
      "cell_type": "code",
      "execution_count": 91,
      "metadata": {
        "id": "EWTPLrH-0IZk"
      },
      "outputs": [],
      "source": [
        "#Using vector assembler converts multiple vector to single vector\n",
        "from pyspark.ml.feature import VectorAssembler,StringIndexer"
      ]
    },
    {
      "cell_type": "code",
      "execution_count": 92,
      "metadata": {
        "id": "qxbcGLYq0J8X"
      },
      "outputs": [],
      "source": [
        "#Convert string into numerical\n",
        "Proto_enc =StringIndexer(inputCol='Protocol',outputCol='Protocol_type').fit(df)"
      ]
    },
    {
      "cell_type": "code",
      "execution_count": 93,
      "metadata": {
        "id": "6uI7XrK50arz"
      },
      "outputs": [],
      "source": [
        "#Transform into dataframe\n",
        "df = Proto_enc.transform(df)"
      ]
    },
    {
      "cell_type": "code",
      "execution_count": 94,
      "metadata": {
        "colab": {
          "base_uri": "https://localhost:8080/"
        },
        "id": "YE8H8URC0tuQ",
        "outputId": "ad206424-f1cd-46e1-ce77-6506e24501bd"
      },
      "outputs": [
        {
          "output_type": "stream",
          "name": "stdout",
          "text": [
            "+--------+--------+------+-------------+------------+------------+-------------+\n",
            "|Dst Port|Protocol| Label|Flow Duration|Tot Fwd Pkts|Tot Bwd Pkts|Protocol_type|\n",
            "+--------+--------+------+-------------+------------+------------+-------------+\n",
            "|       0|       0|Benign|    112641719|           3|           0|          2.0|\n",
            "|       0|       0|Benign|    112641466|           3|           0|          2.0|\n",
            "|       0|       0|Benign|    112638623|           3|           0|          2.0|\n",
            "|      22|       6|Benign|      6453966|          15|          10|          0.0|\n",
            "|      22|       6|Benign|      8804066|          14|          11|          0.0|\n",
            "+--------+--------+------+-------------+------------+------------+-------------+\n",
            "only showing top 5 rows\n",
            "\n"
          ]
        }
      ],
      "source": [
        "df.show(5)"
      ]
    },
    {
      "cell_type": "code",
      "execution_count": 95,
      "metadata": {
        "id": "usRsiMPs0yrv"
      },
      "outputs": [],
      "source": [
        "#Encoding for labels\n",
        "cat_enc = StringIndexer(inputCol='Label',outputCol='Target').fit(df)"
      ]
    },
    {
      "cell_type": "code",
      "execution_count": 96,
      "metadata": {
        "id": "sfLSI3mp1Bbw"
      },
      "outputs": [],
      "source": [
        "#Transform the dataframe\n",
        "df = cat_enc.transform(df)"
      ]
    },
    {
      "cell_type": "code",
      "execution_count": 97,
      "metadata": {
        "colab": {
          "base_uri": "https://localhost:8080/"
        },
        "id": "53M-w3Pp1HWY",
        "outputId": "50912118-7a6e-4456-820f-44a40b017da8"
      },
      "outputs": [
        {
          "output_type": "stream",
          "name": "stdout",
          "text": [
            "+--------+--------+------+-------------+------------+------------+-------------+------+\n",
            "|Dst Port|Protocol| Label|Flow Duration|Tot Fwd Pkts|Tot Bwd Pkts|Protocol_type|Target|\n",
            "+--------+--------+------+-------------+------------+------------+-------------+------+\n",
            "|       0|       0|Benign|    112641719|           3|           0|          2.0|   0.0|\n",
            "|       0|       0|Benign|    112641466|           3|           0|          2.0|   0.0|\n",
            "|       0|       0|Benign|    112638623|           3|           0|          2.0|   0.0|\n",
            "|      22|       6|Benign|      6453966|          15|          10|          0.0|   0.0|\n",
            "|      22|       6|Benign|      8804066|          14|          11|          0.0|   0.0|\n",
            "+--------+--------+------+-------------+------------+------------+-------------+------+\n",
            "only showing top 5 rows\n",
            "\n"
          ]
        }
      ],
      "source": [
        "df.show(5)"
      ]
    },
    {
      "cell_type": "code",
      "execution_count": 98,
      "metadata": {
        "id": "LglbYJUC1HJ6"
      },
      "outputs": [],
      "source": [
        "#Convert index into string\n",
        "from pyspark.ml.feature import IndexToString"
      ]
    },
    {
      "cell_type": "code",
      "execution_count": 99,
      "metadata": {
        "id": "swH9wcCJ1G-h"
      },
      "outputs": [],
      "source": [
        "convert = IndexToString(inputCol='Target',outputCol='original')"
      ]
    },
    {
      "cell_type": "code",
      "execution_count": 100,
      "metadata": {
        "id": "6u0ikfFy1GzI"
      },
      "outputs": [],
      "source": [
        "#Transfer to dataframe\n",
        "converted = convert.transform(df)"
      ]
    },
    {
      "cell_type": "code",
      "execution_count": 101,
      "metadata": {
        "colab": {
          "base_uri": "https://localhost:8080/"
        },
        "id": "fjFGRw8J1Gmg",
        "outputId": "5ece4a2e-55ef-4b82-b1f1-4b7f032b2879"
      },
      "outputs": [
        {
          "output_type": "stream",
          "name": "stdout",
          "text": [
            "+--------+--------+------+-------------+------------+------------+-------------+------+--------+\n",
            "|Dst Port|Protocol| Label|Flow Duration|Tot Fwd Pkts|Tot Bwd Pkts|Protocol_type|Target|original|\n",
            "+--------+--------+------+-------------+------------+------------+-------------+------+--------+\n",
            "|       0|       0|Benign|    112641719|           3|           0|          2.0|   0.0|  Benign|\n",
            "|       0|       0|Benign|    112641466|           3|           0|          2.0|   0.0|  Benign|\n",
            "|       0|       0|Benign|    112638623|           3|           0|          2.0|   0.0|  Benign|\n",
            "|      22|       6|Benign|      6453966|          15|          10|          0.0|   0.0|  Benign|\n",
            "|      22|       6|Benign|      8804066|          14|          11|          0.0|   0.0|  Benign|\n",
            "|      22|       6|Benign|      6989341|          16|          12|          0.0|   0.0|  Benign|\n",
            "|       0|       0|Benign|    112640480|           3|           0|          2.0|   0.0|  Benign|\n",
            "|       0|       0|Benign|    112641244|           3|           0|          2.0|   0.0|  Benign|\n",
            "|      80|       6|Benign|       476513|           5|           3|          0.0|   0.0|  Benign|\n",
            "|      80|       6|Benign|       475048|           5|           3|          0.0|   0.0|  Benign|\n",
            "|      80|       6|Benign|       474926|           5|           3|          0.0|   0.0|  Benign|\n",
            "|      80|       6|Benign|       477471|           5|           3|          0.0|   0.0|  Benign|\n",
            "|      80|       6|Benign|       512758|           5|           3|          0.0|   0.0|  Benign|\n",
            "|      80|       6|Benign|       476711|           5|           3|          0.0|   0.0|  Benign|\n",
            "|      80|       6|Benign|       476616|           5|           3|          0.0|   0.0|  Benign|\n",
            "|      80|       6|Benign|       477161|           5|           3|          0.0|   0.0|  Benign|\n",
            "|      80|       6|Benign|       474670|           5|           3|          0.0|   0.0|  Benign|\n",
            "|      80|       6|Benign|       476608|           5|           3|          0.0|   0.0|  Benign|\n",
            "|      80|       6|Benign|       479249|           5|           3|          0.0|   0.0|  Benign|\n",
            "|      80|       6|Benign|       475967|           5|           3|          0.0|   0.0|  Benign|\n",
            "+--------+--------+------+-------------+------------+------------+-------------+------+--------+\n",
            "only showing top 20 rows\n",
            "\n"
          ]
        }
      ],
      "source": [
        "#Display the content\n",
        "converted.show()"
      ]
    },
    {
      "cell_type": "code",
      "execution_count": 102,
      "metadata": {
        "id": "2lWnxOdw1wA1"
      },
      "outputs": [],
      "source": [
        "df2=df.select('Dst Port', 'Protocol', 'Label', 'Flow Duration', 'Tot Fwd Pkts', 'Tot Bwd Pkts', 'Protocol_type', 'Target')"
      ]
    },
    {
      "cell_type": "code",
      "execution_count": 103,
      "metadata": {
        "colab": {
          "base_uri": "https://localhost:8080/"
        },
        "id": "YB7XbPxA1v9S",
        "outputId": "88af6253-596b-4239-ca04-b2f7affcf33e"
      },
      "outputs": [
        {
          "output_type": "stream",
          "name": "stdout",
          "text": [
            "root\n",
            " |-- Dst Port: string (nullable = true)\n",
            " |-- Protocol: string (nullable = true)\n",
            " |-- Label: string (nullable = true)\n",
            " |-- Flow Duration: string (nullable = true)\n",
            " |-- Tot Fwd Pkts: string (nullable = true)\n",
            " |-- Tot Bwd Pkts: string (nullable = true)\n",
            " |-- Protocol_type: double (nullable = false)\n",
            " |-- Target: double (nullable = false)\n",
            "\n"
          ]
        }
      ],
      "source": [
        "#Print the characters of the dataset\n",
        "df2.printSchema()"
      ]
    },
    {
      "cell_type": "code",
      "execution_count": 104,
      "metadata": {
        "id": "h-vKlZat1v4n"
      },
      "outputs": [],
      "source": [
        "#Convert string characters into numerical values\n",
        "from pyspark.sql.functions import col\n",
        "\n",
        "selected_feat = ['Dst Port', 'Protocol', 'Flow Duration', 'Tot Fwd Pkts', 'Tot Bwd Pkts', 'Protocol_type', 'Target']\n",
        "df2 = df.select(*(col(c).cast(\"double\").alias(c) for c in selected_feat))"
      ]
    },
    {
      "cell_type": "code",
      "execution_count": 105,
      "metadata": {
        "id": "n8aaTKRS1v2v"
      },
      "outputs": [],
      "source": [
        "#Take necessary columns\n",
        "required_feat =['Dst Port', 'Protocol', 'Flow Duration', 'Tot Fwd Pkts', 'Tot Bwd Pkts', 'Protocol_type', 'Target']"
      ]
    },
    {
      "cell_type": "code",
      "execution_count": 106,
      "metadata": {
        "id": "NW-Oz3-O1vrp"
      },
      "outputs": [],
      "source": [
        "#Create vector assembler\n",
        "vec_assembler = VectorAssembler(inputCols=required_feat,outputCol='features')"
      ]
    },
    {
      "cell_type": "code",
      "execution_count": 107,
      "metadata": {
        "id": "39t94DGN2rbl"
      },
      "outputs": [],
      "source": [
        "#Tranform into dataframe\n",
        "vector_df = vec_assembler.transform(df2)"
      ]
    },
    {
      "cell_type": "code",
      "execution_count": 108,
      "metadata": {
        "colab": {
          "base_uri": "https://localhost:8080/"
        },
        "id": "P6NC6vvh2vAR",
        "outputId": "8594e95e-fdc7-4a2b-88e5-8648b2385f21"
      },
      "outputs": [
        {
          "output_type": "stream",
          "name": "stdout",
          "text": [
            "+--------+--------+-------------+------------+------------+-------------+------+--------------------+\n",
            "|Dst Port|Protocol|Flow Duration|Tot Fwd Pkts|Tot Bwd Pkts|Protocol_type|Target|            features|\n",
            "+--------+--------+-------------+------------+------------+-------------+------+--------------------+\n",
            "|     0.0|     0.0| 1.12641719E8|         3.0|         0.0|          2.0|   0.0|(7,[2,3,5],[1.126...|\n",
            "|     0.0|     0.0| 1.12641466E8|         3.0|         0.0|          2.0|   0.0|(7,[2,3,5],[1.126...|\n",
            "|     0.0|     0.0| 1.12638623E8|         3.0|         0.0|          2.0|   0.0|(7,[2,3,5],[1.126...|\n",
            "|    22.0|     6.0|    6453966.0|        15.0|        10.0|          0.0|   0.0|[22.0,6.0,6453966...|\n",
            "|    22.0|     6.0|    8804066.0|        14.0|        11.0|          0.0|   0.0|[22.0,6.0,8804066...|\n",
            "+--------+--------+-------------+------------+------------+-------------+------+--------------------+\n",
            "only showing top 5 rows\n",
            "\n"
          ]
        }
      ],
      "source": [
        "vector_df.show(5)"
      ]
    },
    {
      "cell_type": "markdown",
      "metadata": {
        "id": "Izdoq6Z16BBR"
      },
      "source": [
        "**To Train and Testing the Data**"
      ]
    },
    {
      "cell_type": "code",
      "execution_count": 109,
      "metadata": {
        "id": "y3JLH2DN21Sg"
      },
      "outputs": [],
      "source": [
        "(training,testing)=vector_df.randomSplit([0.7,0.3])"
      ]
    },
    {
      "cell_type": "code",
      "execution_count": 110,
      "metadata": {
        "id": "nT0JPpVW3ESE"
      },
      "outputs": [],
      "source": [
        "from pyspark.ml.classification import LogisticRegression,DecisionTreeClassifier"
      ]
    },
    {
      "cell_type": "code",
      "execution_count": 111,
      "metadata": {
        "id": "vngMIZU93FzE"
      },
      "outputs": [],
      "source": [
        "logreg =LogisticRegression(featuresCol='features',labelCol='Target')"
      ]
    },
    {
      "cell_type": "code",
      "execution_count": 112,
      "metadata": {
        "id": "Vpqzb7io3Ola"
      },
      "outputs": [],
      "source": [
        "logreg_model = logreg.fit(training)"
      ]
    },
    {
      "cell_type": "code",
      "execution_count": 113,
      "metadata": {
        "id": "L4QDjiFc3Y6v"
      },
      "outputs": [],
      "source": [
        "#Testing data\n",
        "prediction_model = logreg_model.transform(testing)"
      ]
    },
    {
      "cell_type": "code",
      "execution_count": 114,
      "metadata": {
        "colab": {
          "base_uri": "https://localhost:8080/"
        },
        "id": "VciTdy9p3nok",
        "outputId": "9939350d-9456-41f1-dcf8-76431ed3ed6b"
      },
      "outputs": [
        {
          "output_type": "stream",
          "name": "stdout",
          "text": [
            "+--------+--------+-------------+------------+------------+-------------+------+--------------------+--------------------+--------------------+----------+\n",
            "|Dst Port|Protocol|Flow Duration|Tot Fwd Pkts|Tot Bwd Pkts|Protocol_type|Target|            features|       rawPrediction|         probability|prediction|\n",
            "+--------+--------+-------------+------------+------------+-------------+------+--------------------+--------------------+--------------------+----------+\n",
            "|     0.0|     0.0|        128.0|         1.0|         1.0|          2.0|   0.0|[0.0,0.0,128.0,1....|[138.853990150814...|[1.0,4.6347485816...|       0.0|\n",
            "|     0.0|     0.0|        571.0|         2.0|         0.0|          2.0|   0.0|(7,[2,3,5],[571.0...|[138.683001711242...|[1.0,5.7873794700...|       0.0|\n",
            "|     0.0|     0.0|        652.0|         2.0|         0.0|          2.0|   0.0|(7,[2,3,5],[652.0...|[138.683000567999...|[1.0,5.7873870376...|       0.0|\n",
            "|     0.0|     0.0|        704.0|         2.0|         0.0|          2.0|   0.0|(7,[2,3,5],[704.0...|[138.682999834066...|[1.0,5.7873918958...|       0.0|\n",
            "|     0.0|     0.0|       9580.0|         2.0|         0.0|          2.0|   0.0|(7,[2,3,5],[9580....|[138.682874557256...|[1.0,5.7882212141...|       0.0|\n",
            "|     0.0|     0.0|      12219.0|         2.0|         0.0|          2.0|   0.0|(7,[2,3,5],[12219...|[138.682837310128...|[1.0,5.7884678087...|       0.0|\n",
            "|     0.0|     0.0|      12646.0|         2.0|         0.0|          2.0|   0.0|(7,[2,3,5],[12646...|[138.682831283405...|[1.0,5.7885077097...|       0.0|\n",
            "|     0.0|     0.0|      61323.0|         3.0|         0.0|          2.0|   0.0|(7,[2,3,5],[61323...|[138.682786534234...|[1.0,5.7899335457...|       0.0|\n",
            "|     0.0|     0.0|      61777.0|         5.0|         0.0|          2.0|   0.0|(7,[2,3,5],[61777...|[138.684064692822...|[1.0,5.7837318318...|       0.0|\n",
            "|     0.0|     0.0|      74576.0|         2.0|         0.0|          2.0|   0.0|(7,[2,3,5],[74576...|[138.681957196783...|[1.0,5.7942976586...|       0.0|\n",
            "|     0.0|     0.0|     122771.0|         6.0|         0.0|          2.0|   0.0|(7,[2,3,5],[12277...|[138.683846100200...|[1.0,5.7863069027...|       0.0|\n",
            "|     0.0|     0.0|     123014.0|         6.0|         0.0|          2.0|   0.0|(7,[2,3,5],[12301...|[138.683842670472...|[1.0,5.7863296013...|       0.0|\n",
            "|     0.0|     0.0|     123036.0|         6.0|         0.0|          2.0|   0.0|(7,[2,3,5],[12303...|[138.683842359962...|[1.0,5.7863316563...|       0.0|\n",
            "|     0.0|     0.0|     128721.0|         6.0|         0.0|          2.0|   0.0|(7,[2,3,5],[12872...|[138.683762121266...|[1.0,5.7868627164...|       0.0|\n",
            "|     0.0|     0.0|     134472.0|         6.0|         0.0|          2.0|   0.0|(7,[2,3,5],[13447...|[138.683680951038...|[1.0,5.7873999914...|       0.0|\n",
            "|     0.0|     0.0|     158361.0|         6.0|         0.0|          2.0|   0.0|(7,[2,3,5],[15836...|[138.683343779146...|[1.0,5.7896323047...|       0.0|\n",
            "|     0.0|     0.0|     164871.0|         5.0|         0.0|          2.0|   0.0|(7,[2,3,5],[16487...|[138.682609613116...|[1.0,5.7933655271...|       0.0|\n",
            "|     0.0|     0.0|     167162.0|         5.0|         0.0|          2.0|   0.0|(7,[2,3,5],[16716...|[138.682577277697...|[1.0,5.7935797935...|       0.0|\n",
            "|     0.0|     0.0|     167179.0|         4.0|         0.0|          2.0|   0.0|(7,[2,3,5],[16717...|[138.681934754561...|[1.0,5.7967079309...|       0.0|\n",
            "|     0.0|     0.0|     221838.0|         3.0|         0.0|          2.0|   0.0|(7,[2,3,5],[22183...|[138.680521008412...|[1.0,5.8049560358...|       0.0|\n",
            "+--------+--------+-------------+------------+------------+-------------+------+--------------------+--------------------+--------------------+----------+\n",
            "only showing top 20 rows\n",
            "\n"
          ]
        }
      ],
      "source": [
        "#Display the predicting model\n",
        "prediction_model.show()"
      ]
    },
    {
      "cell_type": "code",
      "execution_count": 115,
      "metadata": {
        "colab": {
          "base_uri": "https://localhost:8080/"
        },
        "id": "b6BTZzv33uIR",
        "outputId": "132a5e12-34ac-4171-badd-daf7da50ca60"
      },
      "outputs": [
        {
          "output_type": "stream",
          "name": "stdout",
          "text": [
            "+------+--------------------+--------------------+----------+\n",
            "|Target|       rawPrediction|         probability|prediction|\n",
            "+------+--------------------+--------------------+----------+\n",
            "|   0.0|[138.853990150814...|[1.0,4.6347485816...|       0.0|\n",
            "|   0.0|[138.683001711242...|[1.0,5.7873794700...|       0.0|\n",
            "|   0.0|[138.683000567999...|[1.0,5.7873870376...|       0.0|\n",
            "|   0.0|[138.682999834066...|[1.0,5.7873918958...|       0.0|\n",
            "|   0.0|[138.682874557256...|[1.0,5.7882212141...|       0.0|\n",
            "+------+--------------------+--------------------+----------+\n",
            "only showing top 5 rows\n",
            "\n"
          ]
        }
      ],
      "source": [
        "#Select required columns \n",
        "prediction_model.select('Target','rawPrediction','probability','prediction').show(5)"
      ]
    },
    {
      "cell_type": "code",
      "execution_count": 116,
      "metadata": {
        "id": "1up409Ed347l"
      },
      "outputs": [],
      "source": [
        "from pyspark.ml.evaluation import MulticlassClassificationEvaluator"
      ]
    },
    {
      "cell_type": "code",
      "execution_count": 117,
      "metadata": {
        "id": "NzC2Mr4q3-gi"
      },
      "outputs": [],
      "source": [
        "multiclass_evaluator = MulticlassClassificationEvaluator(labelCol='Target',metricName='accuracy')"
      ]
    },
    {
      "cell_type": "code",
      "execution_count": 118,
      "metadata": {
        "id": "RlCUYITj4EnV"
      },
      "outputs": [],
      "source": [
        "#To evaluate prediction model\n",
        "Final_outcomes = multiclass_evaluator.evaluate(prediction_model)"
      ]
    },
    {
      "cell_type": "code",
      "execution_count": 119,
      "metadata": {
        "colab": {
          "base_uri": "https://localhost:8080/"
        },
        "id": "x7NX9RorZr9H",
        "outputId": "e3aa061b-adc5-4597-bb77-05ebf59463a3"
      },
      "outputs": [
        {
          "output_type": "stream",
          "name": "stdout",
          "text": [
            "0.9994170430461953\n"
          ]
        }
      ],
      "source": [
        "print(Final_outcomes) "
      ]
    },
    {
      "cell_type": "code",
      "execution_count": 120,
      "metadata": {
        "id": "bOZZvSyF4PAP"
      },
      "outputs": [],
      "source": [
        "#mllib for rdd\n",
        "from pyspark.mllib.evaluation import MulticlassMetrics"
      ]
    },
    {
      "cell_type": "code",
      "execution_count": 121,
      "metadata": {
        "colab": {
          "base_uri": "https://localhost:8080/"
        },
        "id": "g57xt7Fh4VqY",
        "outputId": "d68711d5-28c5-409a-c33e-d8805d0d61fa"
      },
      "outputs": [
        {
          "output_type": "stream",
          "name": "stderr",
          "text": [
            "/usr/local/lib/python3.8/dist-packages/pyspark/sql/context.py:157: FutureWarning: Deprecated in 3.0.0. Use SparkSession.builder.getOrCreate() instead.\n",
            "  warnings.warn(\n"
          ]
        }
      ],
      "source": [
        "logreg_metric = MulticlassMetrics(prediction_model['Target','prediction'].rdd)"
      ]
    },
    {
      "cell_type": "code",
      "execution_count": 122,
      "metadata": {
        "colab": {
          "base_uri": "https://localhost:8080/"
        },
        "id": "Fuct591I4Y6U",
        "outputId": "ed4dc664-54a3-413f-c524-5a1b3bef4947"
      },
      "outputs": [
        {
          "output_type": "stream",
          "name": "stdout",
          "text": [
            "Accuracy of the model is ::: 0.9994170430461953\n"
          ]
        }
      ],
      "source": [
        "print(\"Accuracy of the model is :::\",logreg_metric.accuracy)"
      ]
    },
    {
      "cell_type": "code",
      "execution_count": 123,
      "metadata": {
        "id": "TbT_dhoY1Qxy"
      },
      "outputs": [],
      "source": [
        "# Machine Learning Technique 2: KMeans Clustering algorithm using Vectors\n",
        "# What to achieve: For Predicting Model and Score of number of attacks occurred in the ports of the machine\n",
        "\n",
        "from pyspark.ml.linalg import Vectors\n",
        "from pyspark.ml.feature import VectorAssembler\n"
      ]
    },
    {
      "cell_type": "code",
      "execution_count": 124,
      "metadata": {
        "id": "fTyRjMScJEn1"
      },
      "outputs": [],
      "source": [
        "#Convert String Character into Float or int Using col function\n",
        "from pyspark.sql.functions import col\n",
        "selected_col = ['Dst Port','Protocol','Flow Duration','Tot Fwd Pkts','Tot Bwd Pkts']\n",
        "IDS_selected_columns_df1 = IDS_df.select(*(col(c).cast(\"float\").alias(c) for c in selected_col))"
      ]
    },
    {
      "cell_type": "code",
      "execution_count": 125,
      "metadata": {
        "id": "slyPvfK5JFxm"
      },
      "outputs": [],
      "source": [
        "feature_columns=['Dst Port','Protocol','Flow Duration','Tot Fwd Pkts','Tot Bwd Pkts']"
      ]
    },
    {
      "cell_type": "code",
      "execution_count": 126,
      "metadata": {
        "id": "lR6Jm0X_JJCi"
      },
      "outputs": [],
      "source": [
        "#Merge multiple column into single using vector assembler\n",
        "assembler=VectorAssembler(inputCols=feature_columns,outputCol='features')"
      ]
    },
    {
      "cell_type": "code",
      "execution_count": 127,
      "metadata": {
        "id": "BIYI5hZ8JMBm"
      },
      "outputs": [],
      "source": [
        "#Transform the Dataframe into Final Dataframe\n",
        "final_df=assembler.transform(IDS_selected_columns_df1)"
      ]
    },
    {
      "cell_type": "code",
      "execution_count": 128,
      "metadata": {
        "id": "qqfQ8saGJQl6"
      },
      "outputs": [],
      "source": [
        "from pyspark.ml.feature import StandardScaler"
      ]
    },
    {
      "cell_type": "markdown",
      "metadata": {
        "id": "R9gUbTgSKC_T"
      },
      "source": [
        "For k cluster we need data to be scaler"
      ]
    },
    {
      "cell_type": "code",
      "execution_count": 129,
      "metadata": {
        "id": "xRoqF0hWJVBE"
      },
      "outputs": [],
      "source": [
        "scaler=StandardScaler(inputCol='features',outputCol='scaled_feat',withStd=True,withMean=False)"
      ]
    },
    {
      "cell_type": "code",
      "execution_count": 130,
      "metadata": {
        "id": "c1CBsmXwJYaz"
      },
      "outputs": [],
      "source": [
        "scaled_model=scaler.fit(final_df)"
      ]
    },
    {
      "cell_type": "code",
      "execution_count": 131,
      "metadata": {
        "id": "1R3UcDZgJbhP"
      },
      "outputs": [],
      "source": [
        "#Transform the Final Dataframe into Cluster Dataframe\n",
        "cluster_df=scaled_model.transform(final_df)"
      ]
    },
    {
      "cell_type": "code",
      "execution_count": 132,
      "metadata": {
        "id": "BIpmlpgqJej6"
      },
      "outputs": [],
      "source": [
        "from pyspark.ml.clustering import KMeans\n",
        "from pyspark.ml.evaluation import ClusteringEvaluator"
      ]
    },
    {
      "cell_type": "code",
      "execution_count": 133,
      "metadata": {
        "id": "uJCc8vapJiXT"
      },
      "outputs": [],
      "source": [
        "#Evaluating with clustering evaluator\n",
        "evaluate=ClusteringEvaluator(predictionCol=\"prediction\",featuresCol=\"scaled_feat\",metricName=\"silhouette\",distanceMeasure=\"squaredEuclidean\")"
      ]
    },
    {
      "cell_type": "code",
      "execution_count": 134,
      "metadata": {
        "id": "0re-nHhPJmEV",
        "colab": {
          "base_uri": "https://localhost:8080/"
        },
        "outputId": "4da0421b-9a15-4eb0-86f1-97570bbba6c8"
      },
      "outputs": [
        {
          "output_type": "stream",
          "name": "stdout",
          "text": [
            "  \n",
            "silhouette scores for K mean Clustering\n",
            "---------------------------------------\n",
            "model\tscore\t\n",
            "======\t=====\t\n",
            "\n",
            "k2\t0.64\t\n",
            "k3\t0.58\t\n",
            "k4\t0.69\t\n",
            "k5\t0.79\t\n",
            "k6\t0.93\t\n",
            "k7\t0.96\t\n",
            "k8\t0.94\t\n",
            "k9\t0.84\t\n",
            "k10\t0.79\t\n",
            "k11\t0.95\t\n",
            "k12\t0.79\t\n",
            "k13\t0.94\t\n",
            "k14\t0.94\t\n"
          ]
        }
      ],
      "source": [
        "silhouette_score=[]\n",
        "print(\"\"\"  \n",
        "silhouette scores for K mean Clustering\n",
        "---------------------------------------\n",
        "model\\tscore\\t\n",
        "======\\t=====\\t\n",
        "\"\"\" )\n",
        "for k in range(2,15):\n",
        "  KMeans_algo=KMeans(featuresCol='scaled_feat',k=k)\n",
        "  KMeans_fit=KMeans_algo.fit(cluster_df)\n",
        "  output=KMeans_fit.transform(cluster_df)\n",
        "  score=evaluate.evaluate(output)\n",
        "  silhouette_score.append(score)\n",
        "  print(f\"k{k}\\t{round(score,2)}\\t\")"
      ]
    },
    {
      "cell_type": "code",
      "execution_count": 135,
      "metadata": {
        "id": "fXpabAVwJq81",
        "colab": {
          "base_uri": "https://localhost:8080/",
          "height": 334
        },
        "outputId": "f211711a-0e45-4d4f-d5b6-f3b817bce571"
      },
      "outputs": [
        {
          "output_type": "display_data",
          "data": {
            "text/plain": [
              "<Figure size 360x360 with 1 Axes>"
            ],
            "image/png": "[encoded data removed]"
          },
          "metadata": {
            "needs_background": "light"
          }
        }
      ],
      "source": [
        "#Plot the table using pyplot\n",
        "import matplotlib.pyplot as plt\n",
        "fig,ax=plt.subplots(1,1,figsize=(5,5))\n",
        "ax.plot(range(2,15),silhouette_score)\n",
        "ax.set_xlabel(\"K\")\n",
        "ax.set_ylabel(\"score\");"
      ]
    }
  ],
  "metadata": {
    "colab": {
      "provenance": []
    },
    "kernelspec": {
      "display_name": "Python 3",
      "name": "python3"
    },
    "language_info": {
      "name": "python"
    }
  },
  "nbformat": 4,
  "nbformat_minor": 0
}